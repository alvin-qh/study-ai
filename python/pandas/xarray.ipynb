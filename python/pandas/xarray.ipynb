{
 "cells": [
  {
   "cell_type": "markdown",
   "metadata": {},
   "source": [
    "# xarray"
   ]
  },
  {
   "cell_type": "code",
   "execution_count": null,
   "metadata": {},
   "outputs": [],
   "source": [
    "from __future__ import absolute_import, division, print_function, unicode_literals\n",
    "\n",
    "import pandas as pd\n",
    "import numpy as np\n",
    "import xarray as xr\n",
    "\n",
    "def show_component(cmp):\n",
    "    s = '\\n{}'.format(cmp)\n",
    "    return s.replace('\\n', '\\n\\t')\n",
    "\n",
    "def show_df(df):\n",
    "    from IPython.display import display, HTML\n",
    "    html = '<div style=\"margin-left:55px\">{}</div>'.format(df.to_html())\n",
    "    display(HTML(html))"
   ]
  },
  {
   "cell_type": "markdown",
   "metadata": {},
   "source": [
    "## DataArray"
   ]
  },
  {
   "cell_type": "markdown",
   "metadata": {},
   "source": [
    "### 创建 DataArray 对象"
   ]
  },
  {
   "cell_type": "markdown",
   "metadata": {},
   "source": [
    "- 1D 数据 => DataArray"
   ]
  },
  {
   "cell_type": "code",
   "execution_count": null,
   "metadata": {},
   "outputs": [],
   "source": [
    "data = np.arange(1, 5)\n",
    "print('* when \"data\" is: {}'.format(show_component(data)))\n",
    "\n",
    "da = xr.DataArray(data=data, name='data')\n",
    "print('  then DataArray \"da\" is: {}'.format(show_component(da)))\n",
    "print('  and value of \"da\" is: {}'.format(show_component(da.values)))\n",
    "print('  and dims of \"da\" are: {}'.format(da.dims))\n",
    "print('  and dataframe of \"da\" is')\n",
    "show_df(da.to_dataframe())"
   ]
  },
  {
   "cell_type": "markdown",
   "metadata": {},
   "source": [
    "- 2D 数据 => DataArray"
   ]
  },
  {
   "cell_type": "code",
   "execution_count": null,
   "metadata": {},
   "outputs": [],
   "source": [
    "data = np.random.rand(4, 3)\n",
    "print('* when \"data\" is: {}'.format(show_component(data)))\n",
    "\n",
    "da = xr.DataArray(data=data, name='data')\n",
    "print('  then DataArray \"da\" is: {}'.format(show_component(da)))\n",
    "print('  and value of \"da\" is: {}'.format(show_component(da.values)))\n",
    "print('  and dims of \"da\" are: {}'.format(da.dims))\n",
    "print('  and dataframe of \"da\" is')\n",
    "show_df(da.to_dataframe())"
   ]
  },
  {
   "cell_type": "markdown",
   "metadata": {},
   "source": [
    "- 3D 数据 => DataArray"
   ]
  },
  {
   "cell_type": "code",
   "execution_count": null,
   "metadata": {},
   "outputs": [],
   "source": [
    "data = np.random.rand(4, 3, 2)\n",
    "print('* when \"data\" is: {}'.format(show_component(data)))\n",
    "\n",
    "da = xr.DataArray(data=data, name='data')\n",
    "print('  then DataArray \"da\" is: {}'.format(show_component(da)))\n",
    "print('  and value of \"da\" is: {}'.format(show_component(da.values)))\n",
    "print('  and dataframe of \"da\" is')\n",
    "show_df(da.to_dataframe())"
   ]
  },
  {
   "cell_type": "markdown",
   "metadata": {},
   "source": [
    "- 为维度（dimensions）命名\n",
    "    - 维度的值对应“索引”，即数据的“坐标”\n",
    "    - 默认情况，维度命名为`dim_0`, `dim_1`, ...，可以为维度重新命名"
   ]
  },
  {
   "cell_type": "code",
   "execution_count": null,
   "metadata": {},
   "outputs": [],
   "source": [
    "data = np.random.rand(4, 3)\n",
    "print('* when \"data\" is: {}'.format(show_component(data)))\n",
    "\n",
    "da = xr.DataArray(data=data, dims=['time', 'space'], name='data')\n",
    "print('  then DataArray \"da\" is: {}'.format(show_component(da)))\n",
    "print('  and value of \"da\" is: {}'.format(show_component(da.values)))\n",
    "print('  and dataframe of \"da\" is')\n",
    "show_df(da.to_dataframe())"
   ]
  },
  {
   "cell_type": "markdown",
   "metadata": {},
   "source": [
    "- 为索引（坐标）设置值\n",
    "    - 默认情况下，每个维度的索引均是从`0`开始，可以为其指定特殊值\n",
    "    - 注意，每个维度设置的索引值必须和该维度数据量相匹配"
   ]
  },
  {
   "cell_type": "code",
   "execution_count": null,
   "metadata": {},
   "outputs": [],
   "source": [
    "data = np.reshape(np.arange(1, 7), (2, 3))\n",
    "print('* when \"data\" is: {}'.format(show_component(data)))\n",
    "\n",
    "da = xr.DataArray(data=data, \n",
    "                  dims=['a', 'b'],\n",
    "                  coords=[[1, 2], [4, 5, 6]],\n",
    "                  name='numbers')\n",
    "print('  then DataArray \"da\" is: {}'.format(show_component(da)))\n",
    "print('  and value of \"da\" is: {}'.format(show_component(da.values)))\n",
    "print('  and dataframe of \"da\" is')\n",
    "show_df(da.to_dataframe())"
   ]
  },
  {
   "cell_type": "markdown",
   "metadata": {},
   "source": [
    "- 为命名维度指定索引值（specific index）"
   ]
  },
  {
   "cell_type": "code",
   "execution_count": null,
   "metadata": {},
   "outputs": [],
   "source": [
    "data = np.random.rand(4, 3)\n",
    "print('* when \"data\" is: {}'.format(show_component(data)))\n",
    "\n",
    "locs = ['IA', 'IL', 'IN']\n",
    "print('  and \"locs\" is: {}'.format(show_component(locs)))\n",
    "\n",
    "times = pd.date_range('2000-01-01', periods=4)\n",
    "print('  and \"times\" is: {}'.format(show_component(times.values)))\n",
    "\n",
    "da = xr.DataArray(data,\n",
    "                  dims=['time', 'space'],\n",
    "                  coords={'time': times, 'space': locs},\n",
    "                  name='data')\n",
    "\n",
    "print('\\n  then DataArray \"da\" with index(\"time\"=times, \"space\"=locs) is: {}'.format(show_component(da)))\n",
    "print('  and value of \"da\" is: {}'.format(show_component(da.values)))\n",
    "print('  and dataframe of \"da\" is')\n",
    "show_df(da.to_dataframe())"
   ]
  },
  {
   "cell_type": "markdown",
   "metadata": {},
   "source": [
    "- 增加属性 (attrs)"
   ]
  },
  {
   "cell_type": "code",
   "execution_count": null,
   "metadata": {},
   "outputs": [],
   "source": [
    "data = np.random.rand(4, 3)\n",
    "locs = ['IA', 'IL', 'IN']\n",
    "times = pd.date_range('2000-01-01', periods=4)\n",
    "\n",
    "da = xr.DataArray(data,\n",
    "                  dims=['time', 'space'],\n",
    "                  coords={'time': times, 'space': locs},\n",
    "                  attrs={'for': 'testing', 'ver': 1.0},\n",
    "                  name='data')\n",
    "print('* when DataArray \"da\" is: {}'.format(show_component(da)))\n",
    "\n",
    "if da.attrs['ver'] == 1.0:\n",
    "    da.attrs['ver'] = 2.0\n",
    "print('\\n  then DataArray \"da\" is: {}'.format(show_component(da)))"
   ]
  },
  {
   "cell_type": "markdown",
   "metadata": {},
   "source": [
    "### 索引操作"
   ]
  },
  {
   "cell_type": "markdown",
   "metadata": {},
   "source": [
    "- 获取指定维度的索引"
   ]
  },
  {
   "cell_type": "code",
   "execution_count": null,
   "metadata": {},
   "outputs": [],
   "source": [
    "data = np.random.rand(4, 3)\n",
    "locs = ['IA', 'IL', 'IN']\n",
    "times = pd.date_range('2000-01-01', periods=4)\n",
    "\n",
    "da = xr.DataArray(data,\n",
    "                  dims=['time', 'space'],\n",
    "                  coords={'time': times, 'space': locs},\n",
    "                  name='data')\n",
    "print('* when DataArray \"da\" is')\n",
    "show_df(da.to_dataframe())\n",
    "\n",
    "print('\\n  then values of \"da[\\'time\\']\" is: {}'.format(show_component(da['time'].values)))\n",
    "print('  and values of \"da[\\'space\\']\" is: {}'.format(show_component(da['space'].values)))"
   ]
  },
  {
   "cell_type": "markdown",
   "metadata": {},
   "source": [
    "- 删除指定索引"
   ]
  },
  {
   "cell_type": "code",
   "execution_count": null,
   "metadata": {},
   "outputs": [],
   "source": [
    "data = np.random.rand(4, 3)\n",
    "locs = ['IA', 'IL', 'IN']\n",
    "times = pd.date_range('2000-01-01', periods=4)\n",
    "\n",
    "da = xr.DataArray(data,\n",
    "                  dims=['time', 'space'],\n",
    "                  coords={'time': times, 'space': locs},\n",
    "                  name='data')\n",
    "print('* when DataArray \"da\" is')\n",
    "show_df(da.to_dataframe())\n",
    "\n",
    "dim1_data = da.sel(time=[pd.to_datetime('2000-01-01'), pd.to_datetime('2000-01-03')])\n",
    "dim2_data = dim1_data.sel(space=['IL', 'IA'])\n",
    "\n",
    "print('\\n  then values of index time=[\"2000-01-01\", \"2000-01-03\"] is: {}'.format(show_component(dim1_data.values)))\n",
    "print('  and values of index time=\"2000-01-03\" and space=[\"IL\", \"IA\"] is: {}'.format(show_component(dim2_data.values)))\n",
    "\n",
    "dim1_data = da.isel(time=[0, 1])\n",
    "dim2_data = dim1_data.isel(space=[1, 2])\n",
    "print('\\n  then values of index time=[0, 1] is: {}'.format(show_component(dim1_data.values)))\n",
    "print('  and values of index time=[0, 1] and space=[1, 2] is: {}'.format(show_component(dim2_data.values)))\n",
    "\n",
    "droped_da = da.drop_sel(labels={'time': [pd.to_datetime('2000-01-01'), pd.to_datetime('2000-01-03')]})\n",
    "print('\\n  then drop index time=[\"2000-01-01\", \"2000-01-03\"] is: {}')\n",
    "show_df(da.to_dataframe())\n",
    "\n",
    "droped_da = da.drop_sel(space=['IL', 'IN'])\n",
    "show_df(droped_da.to_dataframe())"
   ]
  },
  {
   "cell_type": "markdown",
   "metadata": {},
   "source": [
    "- 获取数据集概览\n",
    "    - `da.head()`获取前`n`条数据\n",
    "    - `da.tail()`获取后`n`条数据\n",
    "    - `da.thin()`获取其中的`n`条数据"
   ]
  },
  {
   "cell_type": "code",
   "execution_count": null,
   "metadata": {},
   "outputs": [],
   "source": [
    "data = np.random.rand(4, 3)\n",
    "locs = ['IA', 'IL', 'IN']\n",
    "times = pd.date_range('2000-01-01', periods=4)\n",
    "\n",
    "da = xr.DataArray(data,\n",
    "                  dims=['time', 'space'],\n",
    "                  coords={'time': times, 'space': locs},\n",
    "                  name='data')\n",
    "print('* when DataArray \"da\" is')\n",
    "show_df(da.to_dataframe())\n",
    "\n",
    "head = da.head(indexers=2)  # left 2 pieces data by all index\n",
    "print('\\n  then \"da.head(indexers=2)\" is')\n",
    "show_df(head.to_dataframe())\n",
    "\n",
    "tail = da.tail(indexers={'space': 2})  # left 2 pieces data by index 'space'\n",
    "print('\\n  then \"da.tail(indexers={\\'space\\': 2})\" is')\n",
    "show_df(tail.to_dataframe())\n",
    "\n",
    "thin = da.thin(time=2)  # left 2 pieces data by index 'time'\n",
    "print('\\n  then \"da.thin(time=2)\" is')\n",
    "show_df(thin.to_dataframe())"
   ]
  },
  {
   "cell_type": "markdown",
   "metadata": {},
   "source": [
    "### 计算"
   ]
  },
  {
   "cell_type": "code",
   "execution_count": null,
   "metadata": {},
   "outputs": [],
   "source": [
    "data = np.random.rand(4, 3)\n",
    "locs = ['IA', 'IL', 'IN']\n",
    "times = pd.date_range('2000-01-01', periods=4)\n",
    "\n",
    "da = xr.DataArray(data,\n",
    "                  dims=['time', 'space'],\n",
    "                  coords={'time': times, 'space': locs},\n",
    "                  name='data')\n",
    "print('* when DataArray \"da\" is')\n",
    "show_df(da.to_dataframe())\n",
    "\n",
    "groupby = da.groupby(...)\n",
    "print(groupby.count().values)"
   ]
  },
  {
   "cell_type": "code",
   "execution_count": null,
   "metadata": {},
   "outputs": [],
   "source": [
    "da = xr.DataArray(np.linspace(0, 1826, num=1827),\n",
    "                  coords=[pd.date_range('1/1/2000', '31/12/2004', freq='D')],\n",
    "                  dims='time',\n",
    "                  name='data')\n",
    "\n",
    "groupby = da.groupby('time.dayofyear') - da.groupby('time.dayofyear').mean('time')\n",
    "print(groupby.count().values)\n",
    "\n",
    "\n",
    "# <xarray.DataArray(time: 1827) >\n",
    "# array([-730.8, -730.8, -730.8, ..., 730.2, 730.2, 730.5])\n",
    "# Coordinates:\n",
    "#     * time(time) datetime64[ns] 2000-01-01 2000-01-02 2000-01-03 ...\n",
    "#     dayofyear(time) int64 1 2 3 4 5 6 7 8 9 10 11 12 13 14 15 16 17 18 19 ..."
   ]
  },
  {
   "cell_type": "code",
   "execution_count": null,
   "metadata": {},
   "outputs": [],
   "source": [
    "np.random.seed(123)\n",
    "\n",
    "times = pd.date_range(\"2000-01-01\", \"2001-12-31\", name=\"time\")\n",
    "annual_cycle = np.sin(2 * np.pi * (times.dayofyear.values / 365.25 - 0.28))\n",
    "\n",
    "base = 10 + 15 * annual_cycle.reshape(-1, 1)\n",
    "tmin_values = base + 3 * np.random.randn(annual_cycle.size, 3)\n",
    "tmax_values = base + 10 + 3 * np.random.randn(annual_cycle.size, 3)\n",
    "\n",
    "ds = xr.Dataset(\n",
    "    {\n",
    "        \"tmin\": ((\"time\", \"location\"), tmin_values),\n",
    "        \"tmax\": ((\"time\", \"location\"), tmax_values),\n",
    "    },\n",
    "    {\"time\": times, \"location\": [\"IA\", \"IN\", \"IL\"]},\n",
    ")\n",
    "show_df(ds.to_dataframe())"
   ]
  },
  {
   "cell_type": "code",
   "execution_count": null,
   "metadata": {},
   "outputs": [],
   "source": [
    "temp = 15 + 8 * np.random.randn(2, 2, 3)\n",
    "print('* when \"temp\" is: {}'.format(show_component(temp)))\n",
    "\n",
    "precip = 10 * np.random.rand(2, 2, 3)\n",
    "print('  and \"precip\" is: {}'.format(show_component(precip)))\n",
    "\n",
    "lon = [[-99.83, -99.32], [-99.79, -99.23]]\n",
    "print('  and \"lon\" is: {}'.format(show_component(lon)))\n",
    "\n",
    "lat = [[42.25, 42.21], [42.63, 42.59]]\n",
    "print('  and \"lat\" is: {}'.format(show_component(lat)))\n",
    "\n",
    "print('\\n  then \"dataset\" is:')\n",
    "ds = xr.Dataset(\n",
    "    {\n",
    "        'temperature': (['x', 'y', 'time'], temp),\n",
    "        'precipitation': (['x', 'y', 'time'], precip)\n",
    "    },\n",
    "    coords={\n",
    "        'lon': (['x', 'y'], lon),\n",
    "        'lat': (['x', 'y'], lat),\n",
    "        'time': pd.date_range('2014-09-06', periods=3),\n",
    "        'reference_time': pd.Timestamp('2014-09-05')\n",
    "    }\n",
    ")\n",
    "show_df(ds.to_dataframe())"
   ]
  }
 ],
 "metadata": {
  "kernelspec": {
   "display_name": "Python 3",
   "language": "python",
   "name": "python3"
  },
  "language_info": {
   "codemirror_mode": {
    "name": "ipython",
    "version": 3
   },
   "file_extension": ".py",
   "mimetype": "text/x-python",
   "name": "python",
   "nbconvert_exporter": "python",
   "pygments_lexer": "ipython3",
   "version": "3.7.2"
  }
 },
 "nbformat": 4,
 "nbformat_minor": 4
}
