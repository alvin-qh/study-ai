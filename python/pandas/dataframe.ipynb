{
 "cells": [
  {
   "cell_type": "markdown",
   "metadata": {},
   "source": [
    "# Dataframe"
   ]
  },
  {
   "cell_type": "code",
   "execution_count": null,
   "metadata": {},
   "outputs": [],
   "source": [
    "from __future__ import absolute_import, division, print_function, unicode_literals\n",
    "\n",
    "import pandas as pd\n",
    "import numpy as np\n",
    "import xarray as xr\n",
    "\n",
    "def show_component(cmp):\n",
    "    s = '\\n{}'.format(cmp)\n",
    "    return s.replace('\\n', '\\n\\t')\n",
    "\n",
    "def show_df(df):\n",
    "    from IPython.display import display, HTML\n",
    "    html = '<div style=\"margin-left:55px\">{}</div>'.format(df.to_html())\n",
    "    display(HTML(html))\n",
    "\n",
    "def show_dict(d):\n",
    "    s = []\n",
    "    bs = 1\n",
    "    for k, v in d.items():\n",
    "        s.append('{}{}: {}'.format(' ' * bs, k, v))\n",
    "        bs = 2\n",
    "    return show_component(''.join(['{', ',\\n'.join(s), ' }']))\n",
    "\n",
    "def show_list(l):\n",
    "    bs = 1\n",
    "    s = []\n",
    "    for i in l:\n",
    "        s.append('{}{}'.format(' ' * bs, i))\n",
    "        bs = 2\n",
    "    return show_component(''.join(['[', ',\\n'.join(s), ' ]']))"
   ]
  },
  {
   "cell_type": "markdown",
   "metadata": {},
   "source": [
    "## 创建"
   ]
  },
  {
   "cell_type": "code",
   "execution_count": null,
   "metadata": {},
   "outputs": [],
   "source": [
    "rows = 6\n",
    "columns = ['A', 'B', 'C', 'D', 'E', 'F']\n",
    "indces = [chr(0x61 + n) for n in range(rows)]\n",
    "\n",
    "c_a = np.random.rand(rows) * (10 - 1) + 1\n",
    "c_b = pd.date_range('20190101', periods=rows)\n",
    "c_c = np.arange(0.1, 0.7, step=0.1)\n",
    "c_d = np.array([3] * rows, dtype='int32')\n",
    "c_e = np.tile(['test', 'train'], reps=rows//2)\n",
    "c_f = 'foo'"
   ]
  },
  {
   "cell_type": "markdown",
   "metadata": {},
   "source": [
    "### 通过字典创建"
   ]
  },
  {
   "cell_type": "code",
   "execution_count": null,
   "metadata": {},
   "outputs": [],
   "source": [
    "d_ = {k: v for k, v in zip(columns, [c_a, c_b, c_c, c_d, c_e, c_f])}\n",
    "print('* when dict is: {}'.format(show_dict(d_)))\n",
    "\n",
    "df = pd.DataFrame(d_, index=indces)\n",
    "\n",
    "print('\\n  then data frame “df” is:')\n",
    "show_df(df)"
   ]
  },
  {
   "cell_type": "markdown",
   "metadata": {},
   "source": [
    "### 通过集合创建\n",
    "\n",
    "- `list(zip(*l)` 求`l`的转置矩阵，`l`必须为二维数组"
   ]
  },
  {
   "cell_type": "code",
   "execution_count": null,
   "metadata": {},
   "outputs": [],
   "source": [
    "l_ = list(zip(c_a.tolist(),\n",
    "              c_b.tolist(),\n",
    "              c_c.tolist(),\n",
    "              c_d.tolist(),\n",
    "              c_e.tolist(),\n",
    "              [c_f] * rows))\n",
    "print('* when list is: {}'.format(show_list(l_)))\n",
    "\n",
    "df = pd.DataFrame(l_, index=indces, columns=columns)\n",
    "\n",
    "print('\\n  then data frame “df” is:')\n",
    "show_df(df)"
   ]
  },
  {
   "cell_type": "markdown",
   "metadata": {},
   "source": [
    "### 通过字典的集合创建"
   ]
  },
  {
   "cell_type": "code",
   "execution_count": null,
   "metadata": {},
   "outputs": [],
   "source": [
    "l_ = []\n",
    "for row in zip(c_a.tolist(),\n",
    "               c_b.tolist(),\n",
    "               c_c.tolist(),\n",
    "               c_d.tolist(),\n",
    "               c_e.tolist(),\n",
    "               [c_f] * rows):\n",
    "    l_.append({name: data for name, data in zip(columns, row)})\n",
    "\n",
    "print('* when list is: {}'.format(show_list(l_)))\n",
    "\n",
    "    \n",
    "df = pd.DataFrame(l_, index=indces)\n",
    "\n",
    "print('\\n  then data frame “df” is:')\n",
    "show_df(df)"
   ]
  },
  {
   "cell_type": "markdown",
   "metadata": {},
   "source": [
    "### 通过 Series 对象创建\n",
    "\n",
    "- 只要有一个 Series 列具备索引，则整个 DataFrame 具备索引"
   ]
  },
  {
   "cell_type": "code",
   "execution_count": null,
   "metadata": {},
   "outputs": [],
   "source": [
    "s_a = pd.Series(c_a, index=indces)\n",
    "print('* when series \"s_a\" is: {}'.format(show_component(s_a)))\n",
    "\n",
    "s_e = pd.Series(pd.Categorical(c_e), index=indces)\n",
    "print('\\n  and series \"s_e\" is: {}'.format(show_component(s_e)))\n",
    "\n",
    "d_ = {k: v for k, v in zip(columns, [s_a, c_b, c_c, c_d, s_e, c_f])}\n",
    "df = pd.DataFrame(d_, columns=columns)\n",
    "\n",
    "print('\\n  then data frame “df” is:')\n",
    "show_df(df)"
   ]
  },
  {
   "cell_type": "markdown",
   "metadata": {},
   "source": [
    "## 列操作"
   ]
  },
  {
   "cell_type": "markdown",
   "metadata": {},
   "source": [
    "### 列集合"
   ]
  },
  {
   "cell_type": "code",
   "execution_count": null,
   "metadata": {},
   "outputs": [],
   "source": [
    "cols = df.columns\n",
    "print('* columns of \"df\" are: {}'.format(show_component(cols)))\n",
    "\n",
    "col_names = cols.values\n",
    "print('  and column names are: {}'.format(show_component(col_names)))\n",
    "\n",
    "col_index = cols.get_loc('C')\n",
    "print('  and index of column \"C\" is: {}'.format(col_index))"
   ]
  },
  {
   "cell_type": "markdown",
   "metadata": {},
   "source": [
    "### 根据列名获取数据"
   ]
  },
  {
   "cell_type": "code",
   "execution_count": null,
   "metadata": {},
   "outputs": [],
   "source": [
    "column_c = df['C']\n",
    "print('* data of column \"C\" are: {}'.format(show_component(column_c)))\n",
    "print('\\n  and column values are: {}'.format(show_component(column_c.values)))\n",
    "\n",
    "data_c_d = column_c['d']\n",
    "print('\\n  and data of row \"d\" of column is: {:.2f}'.format(data_c_d))\n",
    "\n",
    "data_c_2 = column_c[3]\n",
    "print('  and data of row 2 of column is: {:.2f}'.format(data_c_2))"
   ]
  },
  {
   "cell_type": "markdown",
   "metadata": {},
   "source": [
    "### 添加列"
   ]
  },
  {
   "cell_type": "code",
   "execution_count": null,
   "metadata": {},
   "outputs": [],
   "source": [
    "df_ = df.copy()\n",
    "\n",
    "column_count = len(df.columns)\n",
    "\n",
    "series = pd.Series(data=[chr(0x41 + n) for n in range(0, column_count)],\n",
    "                   index=[chr(0x61 + n) for n in range(0, column_count)])\n",
    "print('* when column data is: {}'.format(show_component(series)))\n",
    "\n",
    "df_['G'] = series\n",
    "\n",
    "print('\\n  after column was add as \"G\", dataframe \"df\" is:')\n",
    "show_df(df_)"
   ]
  },
  {
   "cell_type": "markdown",
   "metadata": {},
   "source": [
    "### 删除列"
   ]
  },
  {
   "cell_type": "code",
   "execution_count": null,
   "metadata": {},
   "outputs": [],
   "source": [
    "df_ = df.copy()\n",
    "\n",
    "del_col = df_.pop('B')\n",
    "print('* removed column \"B\" is: {}'.format(show_component(del_col)))\n",
    "\n",
    "print('\\n  then dataframe \"df\" is:')\n",
    "show_df(df_)\n",
    "\n",
    "del df_['D']\n",
    "print('\\n* after removed column \"D\", dataframe \"df\" is:')\n",
    "show_df(df_)"
   ]
  },
  {
   "cell_type": "markdown",
   "metadata": {},
   "source": [
    "## 行操作"
   ]
  },
  {
   "cell_type": "markdown",
   "metadata": {},
   "source": [
    "### 根据行索引获取数据"
   ]
  },
  {
   "cell_type": "code",
   "execution_count": null,
   "metadata": {},
   "outputs": [],
   "source": [
    "row_b = df.loc['b']\n",
    "print('* data of row \"b\" are: {}'.format(show_component(row_b)))\n",
    "print('\\n  and row values are: {}'.format(show_component(row_b.values)))\n",
    "\n",
    "column_b = row_b['B']\n",
    "print('\\n  and column \"B\" of row is: {}'.format(column_b))"
   ]
  },
  {
   "cell_type": "markdown",
   "metadata": {},
   "source": [
    "### 根据行下标获取数据"
   ]
  },
  {
   "cell_type": "code",
   "execution_count": null,
   "metadata": {},
   "outputs": [],
   "source": [
    "row_3 = df_.iloc[3]\n",
    "print('* data of row 3 are: {}'.format(show_component(row_3)))\n",
    "print('\\n  and row values are: {}'.format(show_component(row_3.values)))\n",
    "\n",
    "column_2 = row_3[2]\n",
    "print('\\n  and column 2 of row is: {}'.format(column_2))"
   ]
  },
  {
   "cell_type": "markdown",
   "metadata": {},
   "source": [
    "### 添加行"
   ]
  },
  {
   "cell_type": "markdown",
   "metadata": {},
   "source": [
    "#### 以 DataFrame 对象为行集添加"
   ]
  },
  {
   "cell_type": "code",
   "execution_count": null,
   "metadata": {},
   "outputs": [],
   "source": [
    "df_ = df.copy()\n",
    "\n",
    "rows = 2\n",
    "new_rows = pd.DataFrame(\n",
    "    {\n",
    "        'A': np.random.rand(rows) * (10 - 1) + 1,\n",
    "        'B': pd.date_range('20190107', periods=rows),\n",
    "        'C': [0.7, 0.8],\n",
    "        'D': np.array([3] * rows, dtype='int32'),\n",
    "        'E': ['test', 'train'],\n",
    "        'F': ['foo'] * 2\n",
    "    }, index=['g', 'h']\n",
    ")\n",
    "print('* when new row is: {}'.format(show_component(new_rows)))\n",
    "\n",
    "df_ = df_.append(new_rows)\n",
    "print('\\n  after append new row, data frame \"df\" is:')\n",
    "show_df(df_)"
   ]
  },
  {
   "cell_type": "markdown",
   "metadata": {},
   "source": [
    "#### 直接通过索引添加"
   ]
  },
  {
   "cell_type": "code",
   "execution_count": null,
   "metadata": {},
   "outputs": [],
   "source": [
    "df_ = df.copy()\n",
    "\n",
    "new_row = [np.random.rand() * (10 - 1) + 1, pd.to_datetime('20190107'), 0.7, 3., 'test', 'bar']\n",
    "print('* when new row is: {}'.format(show_component(new_row)))\n",
    "\n",
    "df_.loc['g'] = new_row\n",
    "\n",
    "print('\\n  after append new row, data frame \"df\" is:')\n",
    "show_df(df_)"
   ]
  },
  {
   "cell_type": "markdown",
   "metadata": {},
   "source": [
    "#### 以 Series 结构添加"
   ]
  },
  {
   "cell_type": "code",
   "execution_count": null,
   "metadata": {},
   "outputs": [],
   "source": [
    "df_ = df.copy()\n",
    "\n",
    "new_row = pd.Series(data={\n",
    "    'A': np.random.rand() * (10 - 1) + 1,\n",
    "    'B': pd.Timestamp('20190107'),\n",
    "    'C': 0.7,\n",
    "    'D': 3,\n",
    "    'E': 'test',\n",
    "    'F': 'foo'\n",
    "}, name='g')\n",
    "\n",
    "print('* when new row is: {}'.format(show_component(new_row)))\n",
    "df_ = df_.append(new_row)\n",
    "\n",
    "print('  after append new row, data frame \"df\" is:')\n",
    "show_df(df_)"
   ]
  },
  {
   "cell_type": "markdown",
   "metadata": {},
   "source": [
    "#### 忽略索引\n",
    "\n",
    "- `df.append`方法的`ignore_index`如果为`True`，则添加完后的结果中，索引会重新从`0`编排，之前的索引失效"
   ]
  },
  {
   "cell_type": "code",
   "execution_count": null,
   "metadata": {},
   "outputs": [],
   "source": [
    "df_ = pd.DataFrame([\n",
    "    ['A', 100],\n",
    "    ['B', 200],\n",
    "    ['C', 300]\n",
    "], columns=['C1', 'C2'], index=['a', 'b', 'c'])\n",
    "\n",
    "print('* when \"df\" is')\n",
    "show_df(df_)\n",
    "\n",
    "df_ = df_.append({'C1': 'D', 'C2': 400}, ignore_index=True)\n",
    "print('  then after append ignore index, \"df\" is:')\n",
    "show_df(df_)"
   ]
  },
  {
   "cell_type": "markdown",
   "metadata": {},
   "source": [
    "### 删除行"
   ]
  },
  {
   "cell_type": "code",
   "execution_count": null,
   "metadata": {},
   "outputs": [],
   "source": [
    "df_ = df.copy()\n",
    "\n",
    "df_droped = df_.drop(index='a')\n",
    "print('* after drop row \"a\", then the \"df\" is')\n",
    "show_df(df_droped)\n",
    "\n",
    "df_droped = df_.drop(index=['a', 'b', 'c'])\n",
    "print('* after drop row \"a\", then the \"df\" is')\n",
    "show_df(df_droped)\n",
    "\n",
    "num_to_delete = list(range(1, 5))\n",
    "df_droped = df_.drop(index=[df_.index[n] for n in num_to_delete])\n",
    "print('* after drop row {}, then the \"df\" is'.format(num_to_delete))\n",
    "show_df(df_droped)"
   ]
  },
  {
   "cell_type": "markdown",
   "metadata": {},
   "source": [
    "## 行列操作"
   ]
  },
  {
   "cell_type": "markdown",
   "metadata": {},
   "source": [
    "### 获取行列数据 (根据索引)"
   ]
  },
  {
   "cell_type": "code",
   "execution_count": null,
   "metadata": {},
   "outputs": [],
   "source": [
    "row = df.loc['a', :]\n",
    "print('* row of index \"a\" is: {}'.format(show_component(row)))\n",
    "\n",
    "column = df.loc[:, 'B']\n",
    "print('\\n* column of name \"B\" is: {}'.format(show_component(column)))\n",
    "\n",
    "rows = df.loc[['a', 'b', 'd'], :]\n",
    "print('\\n* rows of index [\"a\", \"b\", \"d\"] is: {}'.format(show_component(rows)))\n",
    "\n",
    "columns = df.loc[:, ['A', 'B', 'D']]\n",
    "print('\\n* columns of name [\"A\", \"B\", \"D\"] is: {}'.format(show_component(columns)))\n",
    "\n",
    "rows = df.loc['b':'e', :]\n",
    "print('\\n* rows of index \"b\":\"e\" is: {}'.format(show_component(rows)))\n",
    "\n",
    "columns = df.loc[:, 'B':'E']\n",
    "print('\\n* columns of name \"B\":\"E\" is: {}'.format(show_component(columns)))\n",
    "\n",
    "datas = df.loc[['a', 'd'], ['A', 'B', 'D']]\n",
    "print('\\n* rows [\"a\", \"d\"] and columns [\"A\", \"B\", \"D\"] is: {}'.format(show_component(datas)))\n",
    "\n",
    "datas = df.loc['c':'e', 'A':'D']\n",
    "print('\\n* rows \"c\":\"e\" and columns \"A\":\"D\" is: {}'.format(show_component(datas)))"
   ]
  },
  {
   "cell_type": "markdown",
   "metadata": {},
   "source": [
    "### 获取行列数据 (根据行列号)"
   ]
  },
  {
   "cell_type": "code",
   "execution_count": null,
   "metadata": {},
   "outputs": [],
   "source": [
    "row = df.iloc[0, :]\n",
    "print('* row of num 0 is: {}'.format(show_component(row)))\n",
    "\n",
    "column = df.iloc[:, 1]\n",
    "print('\\n* column of num 1 is: {}'.format(show_component(column)))\n",
    "\n",
    "rows = df.iloc[[1, 2, 4], :]\n",
    "print('\\n* rows of num [1, 2, 4] is: {}'.format(show_component(rows)))\n",
    "\n",
    "columns = df.iloc[:, [1, 2, 4]]\n",
    "print('\\n* columns of num [1, 2, 4] is: {}'.format(show_component(columns)))\n",
    "\n",
    "rows = df.iloc[2:5, :]\n",
    "print('\\n* rows of num 2:4 is: {}'.format(show_component(rows)))\n",
    "\n",
    "columns = df.iloc[:, 2:5]\n",
    "print('\\n* columns of num 2:4 is: {}'.format(show_component(columns)))\n",
    "\n",
    "datas = df.iloc[[2, 5], [1, 2, 4]]\n",
    "print('\\n* rows [2, 5] and columns [1, 2, 4 is: {}'.format(show_component(datas)))\n",
    "\n",
    "datas = df.iloc[2:5, 1:4]\n",
    "print('\\n* rows 2:5 and columns 1:4 is: {}'.format(show_component(datas)))"
   ]
  },
  {
   "cell_type": "markdown",
   "metadata": {},
   "source": [
    "## 遍历"
   ]
  },
  {
   "cell_type": "markdown",
   "metadata": {},
   "source": [
    "### 遍历列名"
   ]
  },
  {
   "cell_type": "code",
   "execution_count": null,
   "metadata": {},
   "outputs": [],
   "source": [
    "print('* column names are: ')\n",
    "for n, col in enumerate(df):\n",
    "    print('\\tcolumn {} is \"{}\"'.format(n, col))"
   ]
  },
  {
   "cell_type": "markdown",
   "metadata": {},
   "source": [
    "### 遍历数据"
   ]
  },
  {
   "cell_type": "markdown",
   "metadata": {},
   "source": [
    "#### 按列遍历"
   ]
  },
  {
   "cell_type": "code",
   "execution_count": null,
   "metadata": {},
   "outputs": [],
   "source": [
    "print('* data of \"df\" is:')\n",
    "for column, rows in df.iteritems():\n",
    "    print('\\tcolumn \"{}\"'.format(column))\n",
    "    for index, value in rows.iteritems():\n",
    "        print('\\t\\t{} => {}'.format(index, value))"
   ]
  },
  {
   "cell_type": "markdown",
   "metadata": {},
   "source": [
    "#### 按行遍历"
   ]
  },
  {
   "cell_type": "code",
   "execution_count": null,
   "metadata": {},
   "outputs": [],
   "source": [
    "print('* data of \"df\" is:')\n",
    "for row_index, row in df.iterrows():\n",
    "    print('\\trow \"{}\"'.format(row_index))\n",
    "    for column, data in row.iteritems():\n",
    "        print('\\t\\t{} => {}'.format(column, data))"
   ]
  },
  {
   "cell_type": "markdown",
   "metadata": {},
   "source": [
    "#### 整行遍历"
   ]
  },
  {
   "cell_type": "code",
   "execution_count": null,
   "metadata": {},
   "outputs": [],
   "source": [
    "print('* data of \"df\" is:')\n",
    "for row in df.itertuples():\n",
    "    index = row[0]\n",
    "    print('\\trow \"{}\"'.format(index))\n",
    "    for n, col in enumerate(df):\n",
    "        print('\\t\\t{} => {}'.format(col, row[n + 1]))"
   ]
  }
 ],
 "metadata": {
  "kernelspec": {
   "display_name": "Python 3",
   "language": "python",
   "name": "python3"
  },
  "language_info": {
   "codemirror_mode": {
    "name": "ipython",
    "version": 3
   },
   "file_extension": ".py",
   "mimetype": "text/x-python",
   "name": "python",
   "nbconvert_exporter": "python",
   "pygments_lexer": "ipython3",
   "version": "3.7.2"
  }
 },
 "nbformat": 4,
 "nbformat_minor": 4
}
