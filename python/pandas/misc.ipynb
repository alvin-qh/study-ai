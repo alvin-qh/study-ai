{
 "cells": [
  {
   "cell_type": "markdown",
   "metadata": {},
   "source": [
    "# 收集箱"
   ]
  },
  {
   "cell_type": "code",
   "execution_count": null,
   "metadata": {},
   "outputs": [],
   "source": [
    "from __future__ import absolute_import, division, print_function, unicode_literals\n",
    "\n",
    "import pandas as pd\n",
    "import numpy as np\n",
    "\n",
    "\n",
    "def show_component(cmp):\n",
    "    s = '\\n{}'.format(cmp)\n",
    "    return s.replace('\\n', '\\n\\t')"
   ]
  },
  {
   "cell_type": "markdown",
   "metadata": {},
   "source": [
    "### 生成日期序列"
   ]
  },
  {
   "cell_type": "code",
   "execution_count": null,
   "metadata": {},
   "outputs": [],
   "source": [
    "dates = pd.date_range('20190101', periods=7)\n",
    "print('* \"pd.date_range(\\'20190101\\', periods=7)\" is: \\n  {}'.format(dates))"
   ]
  },
  {
   "cell_type": "markdown",
   "metadata": {},
   "source": [
    "### 生成时间戳"
   ]
  },
  {
   "cell_type": "code",
   "execution_count": null,
   "metadata": {},
   "outputs": [],
   "source": [
    "ts = pd.Timestamp('20190101120000')\n",
    "print('* \"pd.Timestamp(\\'20190101120000\\')\" is: \\n  {}'.format(ts))"
   ]
  },
  {
   "cell_type": "markdown",
   "metadata": {},
   "source": [
    "### 分类器"
   ]
  },
  {
   "cell_type": "code",
   "execution_count": null,
   "metadata": {},
   "outputs": [],
   "source": [
    "data = ['a', 'b', 'c', 'a', 'b', 'c']\n",
    "\n",
    "c = pd.Categorical(data)\n",
    "print('* when category c is: {}'.format(show_component(c)))\n",
    "print('  then \"c.categories\" is: {}'.format(c.categories))\n",
    "print('  and \"c.codes\" is: {}'.format(c.codes))\n",
    "\n",
    "c = pd.Categorical(data, categories=['a', 'c', 'b'], ordered=True)\n",
    "print('\\n* when category c is: {}'.format(show_component(c)))\n",
    "print('  then \"c.categories\" is: {}'.format(c.categories))\n",
    "print('  and \"c.codes\" is: {}'.format(c.codes))\n",
    "print('  and \"c.max()\" is: {}'.format(c.max()))\n",
    "print('  and \"c.min()\" is: {}'.format(c.min()))\n",
    "\n",
    "t = pd.CategoricalDtype(categories=['c', 'b', 'a'], ordered=True)\n",
    "c = pd.Categorical(data, dtype=t)\n",
    "print('\\n* when category c is: {}'.format(show_component(c)))\n",
    "print('  then \"c.categories\" is: {}'.format(c.categories))\n",
    "print('  and \"c.codes\" is: {}'.format(c.codes))\n",
    "print('  and \"c.max()\" is: {}'.format(c.max()))\n",
    "print('  and \"c.min()\" is: {}'.format(c.min()))"
   ]
  }
 ],
 "metadata": {
  "kernelspec": {
   "display_name": "Python 3",
   "language": "python",
   "name": "python3"
  },
  "language_info": {
   "codemirror_mode": {
    "name": "ipython",
    "version": 3
   },
   "file_extension": ".py",
   "mimetype": "text/x-python",
   "name": "python",
   "nbconvert_exporter": "python",
   "pygments_lexer": "ipython3",
   "version": "3.7.2"
  }
 },
 "nbformat": 4,
 "nbformat_minor": 4
}
