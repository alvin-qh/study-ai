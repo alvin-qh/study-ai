{
 "cells": [
  {
   "cell_type": "markdown",
   "metadata": {},
   "source": [
    "# Sort"
   ]
  },
  {
   "cell_type": "code",
   "execution_count": null,
   "metadata": {},
   "outputs": [],
   "source": [
    "from __future__ import absolute_import, division, print_function, unicode_literals\n",
    "\n",
    "import pandas as pd\n",
    "import numpy as np\n",
    "import xarray as xr\n",
    "\n",
    "def show_component(cmp):\n",
    "    s = '\\n{}'.format(cmp)\n",
    "    return s.replace('\\n', '\\n\\t')\n",
    "\n",
    "def show_df(df):\n",
    "    from IPython.display import display, HTML\n",
    "    html = '<div style=\"margin-left:55px\">{}</div>'.format(df.to_html())\n",
    "    display(HTML(html))"
   ]
  },
  {
   "cell_type": "code",
   "execution_count": null,
   "metadata": {},
   "outputs": [],
   "source": [
    "rows = 6\n",
    "\n",
    "df = pd.DataFrame({\n",
    "    'A': np.random.rand(rows) * (10 - 1) + 1,\n",
    "    'B': pd.date_range('20190101', periods=rows),\n",
    "    'C': pd.Series(np.arange(0.1, 0.7, step=0.1), index=[chr(0x61 + n) for n in range(rows)], dtype='float32'),\n",
    "    'D': np.array([3] * rows, dtype='int32'),\n",
    "    'E': pd.Categorical(np.tile(['test', 'train'], reps=rows//2)),\n",
    "    'F': 'foo'\n",
    "})\n",
    "\n",
    "print('* when data frame “df” is:')\n",
    "show_df(df)"
   ]
  },
  {
   "cell_type": "markdown",
   "metadata": {},
   "source": [
    "## 按索引排序"
   ]
  },
  {
   "cell_type": "markdown",
   "metadata": {},
   "source": [
    "### 按行索引排序"
   ]
  },
  {
   "cell_type": "code",
   "execution_count": null,
   "metadata": {},
   "outputs": [],
   "source": [
    "df_sorted = df.sort_index(ascending=False)\n",
    "print('* after sort index by desc, the \"df\" is: ')\n",
    "show_df(df_sorted)\n",
    "\n",
    "df_sorted = df_sorted.sort_index()\n",
    "print('* after sort index by asc, the \"df\" is: ')\n",
    "show_df(df_sorted)"
   ]
  },
  {
   "cell_type": "markdown",
   "metadata": {},
   "source": [
    "### 按列索引（列名）排序"
   ]
  },
  {
   "cell_type": "code",
   "execution_count": null,
   "metadata": {},
   "outputs": [],
   "source": [
    "df_sorted = df.sort_index(axis=1, ascending=False)\n",
    "print('* after sort column name by desc, the \"df\" is: ')\n",
    "show_df(df_sorted)\n",
    "\n",
    "df_sorted = df_sorted.sort_index(axis=1)\n",
    "print('* after sort column name by asc, the \"df\" is: ')\n",
    "show_df(df_sorted)"
   ]
  },
  {
   "cell_type": "markdown",
   "metadata": {},
   "source": [
    "## 按值排序"
   ]
  },
  {
   "cell_type": "markdown",
   "metadata": {},
   "source": [
    "### 按一列值排序"
   ]
  },
  {
   "cell_type": "code",
   "execution_count": null,
   "metadata": {},
   "outputs": [],
   "source": [
    "df_sorted = df.sort_values(by='A', ascending=True)\n",
    "print('* after sort values by column \"A\" desc, the \"df\" is: ')\n",
    "show_df(df_sorted)"
   ]
  },
  {
   "cell_type": "markdown",
   "metadata": {},
   "source": [
    "### 按多列值依次排序"
   ]
  },
  {
   "cell_type": "code",
   "execution_count": null,
   "metadata": {},
   "outputs": [],
   "source": [
    "df_sorted = df.sort_values(by=['E', 'B'], ascending=[True, False])\n",
    "print('* after sort values by column \"A\" asc and \"B\" desc, the \"df\" is: ')\n",
    "show_df(df_sorted)"
   ]
  },
  {
   "cell_type": "markdown",
   "metadata": {},
   "source": [
    "### 指定排序算法"
   ]
  },
  {
   "cell_type": "code",
   "execution_count": null,
   "metadata": {},
   "outputs": [],
   "source": [
    "df_sorted = df.sort_values(by='A', kind='mergeesort')\n",
    "print('* after sort values by column \"A\" with \"mergeesort\", the \"df\" is: ')\n",
    "show_df(df_sorted)\n",
    "\n",
    "df_sorted = df.sort_values(by='A', kind='heapsort')\n",
    "print('* after sort values by column \"A\" with \"heapsort\", the \"df\" is: ')\n",
    "show_df(df_sorted)\n",
    "\n",
    "df_sorted = df.sort_values(by='A', kind='quicksort')\n",
    "print('* after sort values by column \"A\" with \"quicksort\", the \"df\" is: ')\n",
    "show_df(df_sorted)"
   ]
  }
 ],
 "metadata": {
  "kernelspec": {
   "display_name": "Python 3",
   "language": "python",
   "name": "python3"
  },
  "language_info": {
   "codemirror_mode": {
    "name": "ipython",
    "version": 3
   },
   "file_extension": ".py",
   "mimetype": "text/x-python",
   "name": "python",
   "nbconvert_exporter": "python",
   "pygments_lexer": "ipython3",
   "version": "3.7.2"
  }
 },
 "nbformat": 4,
 "nbformat_minor": 4
}
