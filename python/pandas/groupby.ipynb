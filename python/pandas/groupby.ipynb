{
 "cells": [
  {
   "cell_type": "markdown",
   "metadata": {},
   "source": [
    "# Group By"
   ]
  },
  {
   "cell_type": "code",
   "execution_count": null,
   "metadata": {},
   "outputs": [],
   "source": [
    "from __future__ import absolute_import, division, print_function, unicode_literals\n",
    "\n",
    "import pandas as pd\n",
    "import numpy as np\n",
    "import xarray as xr\n",
    "\n",
    "def show_component(cmp):\n",
    "    s = '\\n{}'.format(cmp)\n",
    "    return s.replace('\\n', '\\n\\t')\n",
    "\n",
    "def show_df(df):\n",
    "    from IPython.display import display, HTML\n",
    "    html = '<div style=\"margin-left:55px\">{}</div>'.format(df.to_html())\n",
    "    display(HTML(html))\n",
    "\n",
    "def show_dict(d):\n",
    "    s = []\n",
    "    bs = 1\n",
    "    for k, v in d.items():\n",
    "        s.append('{}{}: {}'.format(' ' * bs, k, v))\n",
    "        bs = 2\n",
    "    return ''.join(['{', ',\\n'.join(s), ' }'])"
   ]
  },
  {
   "cell_type": "code",
   "execution_count": null,
   "metadata": {},
   "outputs": [],
   "source": [
    "rows = 6\n",
    "\n",
    "df = pd.DataFrame({\n",
    "    'A': np.random.randint(low=1, high=4, size=rows),\n",
    "    'B': pd.date_range('20190101', periods=rows),\n",
    "    'C': pd.Series(np.arange(0.1, 0.7, step=0.1), index=[chr(0x61 + n) for n in range(rows)], dtype='float32'),\n",
    "    'D': np.array([3] * rows, dtype='int32'),\n",
    "    'E': pd.Categorical(np.tile(['test', 'train'], reps=rows//2)),\n",
    "    'F': 'foo'\n",
    "})\n",
    "\n",
    "print('* when data frame “df” is:')\n",
    "show_df(df)"
   ]
  },
  {
   "cell_type": "markdown",
   "metadata": {},
   "source": [
    "## 按列分组"
   ]
  },
  {
   "cell_type": "markdown",
   "metadata": {},
   "source": [
    "### 按单列进行分组"
   ]
  },
  {
   "cell_type": "code",
   "execution_count": null,
   "metadata": {},
   "outputs": [],
   "source": [
    "groupby = df.groupby('E')\n",
    "print('* group by column \"E\", the result is: {}'.format(show_component(groupby)))\n",
    "\n",
    "groups = groupby.groups\n",
    "print('\\n  then the groups is: {}'.format(show_component(show_dict(groups))))"
   ]
  },
  {
   "cell_type": "markdown",
   "metadata": {},
   "source": [
    "### 按多列同时分组"
   ]
  },
  {
   "cell_type": "code",
   "execution_count": null,
   "metadata": {},
   "outputs": [],
   "source": [
    "groupby = df.groupby(['E', 'A'])\n",
    "print('* group by column \"E\" and \"A\":')\n",
    "\n",
    "groups = groupby.groups\n",
    "print('\\n  then the groups is: {}'.format(show_component(show_dict(groups))))"
   ]
  },
  {
   "cell_type": "markdown",
   "metadata": {},
   "source": [
    "## 获取分组数据"
   ]
  },
  {
   "cell_type": "markdown",
   "metadata": {},
   "source": [
    "### 获取各分组行索引"
   ]
  },
  {
   "cell_type": "code",
   "execution_count": null,
   "metadata": {},
   "outputs": [],
   "source": [
    "groups = df.groupby('E').groups\n",
    "print('* when group by column \"E\"')\n",
    "\n",
    "data = groups['test']\n",
    "print('\\n  then the row index of group \"test\" is: {}'.format(show_component(data)))\n",
    "\n",
    "data = groups['train']\n",
    "print('\\n  and the row index group \"train\" is: {}'.format(show_component(data)))"
   ]
  },
  {
   "cell_type": "markdown",
   "metadata": {},
   "source": [
    "### 获取各分组数据"
   ]
  },
  {
   "cell_type": "code",
   "execution_count": null,
   "metadata": {},
   "outputs": [],
   "source": [
    "groupby = df.groupby('E')\n",
    "print('* when group by column \"E\"')\n",
    "\n",
    "grouped_df = groupby.get_group('test')\n",
    "print('\\n  then group \"test\" is:')\n",
    "show_df(grouped_df)\n",
    "\n",
    "grouped_df = groupby.get_group('train')\n",
    "print('  and group \"train\" is:')\n",
    "show_df(grouped_df)"
   ]
  },
  {
   "cell_type": "markdown",
   "metadata": {},
   "source": [
    "### 遍历分组"
   ]
  },
  {
   "cell_type": "code",
   "execution_count": null,
   "metadata": {},
   "outputs": [],
   "source": [
    "groupby = df.groupby(['E', 'A'])\n",
    "print('* group by column \"E\" and \"A\":')\n",
    "\n",
    "print('  then the data of each groups are:')\n",
    "for group in groupby:\n",
    "    print('{}- \"{}\"'.format(' ' * 7, group[0]))\n",
    "    show_df(group[1])"
   ]
  }
 ],
 "metadata": {
  "kernelspec": {
   "display_name": "Python 3",
   "language": "python",
   "name": "python3"
  },
  "language_info": {
   "codemirror_mode": {
    "name": "ipython",
    "version": 3
   },
   "file_extension": ".py",
   "mimetype": "text/x-python",
   "name": "python",
   "nbconvert_exporter": "python",
   "pygments_lexer": "ipython3",
   "version": "3.7.4"
  }
 },
 "nbformat": 4,
 "nbformat_minor": 4
}
