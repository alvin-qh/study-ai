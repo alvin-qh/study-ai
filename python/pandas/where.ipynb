{
 "cells": [
  {
   "cell_type": "markdown",
   "metadata": {},
   "source": [
    "# Where"
   ]
  },
  {
   "cell_type": "code",
   "execution_count": null,
   "metadata": {},
   "outputs": [],
   "source": [
    "from __future__ import absolute_import, division, print_function, unicode_literals\n",
    "\n",
    "import pandas as pd\n",
    "import numpy as np\n",
    "import xarray as xr\n",
    "\n",
    "def show_component(cmp):\n",
    "    s = '\\n{}'.format(cmp)\n",
    "    return s.replace('\\n', '\\n\\t')\n",
    "\n",
    "def show_df(df):\n",
    "    from IPython.display import display, HTML\n",
    "    html = '<div style=\"margin-left:55px\">{}</div>'.format(df.to_html())\n",
    "    display(HTML(html))"
   ]
  },
  {
   "cell_type": "markdown",
   "metadata": {},
   "source": [
    "## 条件表达式"
   ]
  },
  {
   "cell_type": "markdown",
   "metadata": {},
   "source": [
    "### 在 Series 上使用 where"
   ]
  },
  {
   "cell_type": "code",
   "execution_count": null,
   "metadata": {},
   "outputs": [],
   "source": [
    "s = pd.Series(range(5))\n",
    "print('* when series \"s\" is: {}'.format(show_component(s)))"
   ]
  },
  {
   "cell_type": "markdown",
   "metadata": {},
   "source": [
    "#### 条件表达式"
   ]
  },
  {
   "cell_type": "code",
   "execution_count": null,
   "metadata": {},
   "outputs": [],
   "source": [
    "mask = (s > 2)\n",
    "print('* mask \"s > 2\" is: {}'.format(show_component(mask)))"
   ]
  },
  {
   "cell_type": "markdown",
   "metadata": {},
   "source": [
    "#### 利用条件表达式过滤数据（保留符合条件的结果）"
   ]
  },
  {
   "cell_type": "code",
   "execution_count": null,
   "metadata": {},
   "outputs": [],
   "source": [
    "r = s.where(mask)\n",
    "print('* \"s.where(mask)\" is: {}'.format(show_component(r)))\n",
    "\n",
    "r = r.dropna()\n",
    "print('\\n after \"dropna\", \"s.where(mask)\" is: {}'.format(show_component(r)))"
   ]
  },
  {
   "cell_type": "markdown",
   "metadata": {},
   "source": [
    "#### 利用条件表达式过滤数据（删除符合条件的结果）"
   ]
  },
  {
   "cell_type": "code",
   "execution_count": null,
   "metadata": {},
   "outputs": [],
   "source": [
    "r = s.mask(mask)\n",
    "print('* \"s.mask(mask) is: {}'.format(show_component(r)))\n",
    "\n",
    "r = r.dropna()\n",
    "print('\\n after \"dropna\", \"s.mask(mask)\" is: {}'.format(show_component(r)))"
   ]
  },
  {
   "cell_type": "markdown",
   "metadata": {},
   "source": [
    "### 使用默认值填充"
   ]
  },
  {
   "cell_type": "code",
   "execution_count": null,
   "metadata": {},
   "outputs": [],
   "source": [
    "r = s.where((s % 2 == 0), '?')\n",
    "print('* \"s.where(s % 2 == 0, \\'?\\')\" is: {}'.format(show_component(r)))\n",
    "\n",
    "r = s.where((s % 2 == 0), -s)\n",
    "print('\\n* \"s.where(s % 2 == 0, -s)\" is: {}'.format(show_component(r)))\n",
    "\n",
    "r = s.where((s % 2 == 0), s * 100)\n",
    "print('\\n* \"s.where(s % 2 == 0, s * 100)\" is: {}'.format(show_component(r)))"
   ]
  },
  {
   "cell_type": "markdown",
   "metadata": {},
   "source": [
    "### 在 DataFrame 上使用 where"
   ]
  },
  {
   "cell_type": "code",
   "execution_count": null,
   "metadata": {},
   "outputs": [],
   "source": [
    "rows = 6\n",
    "\n",
    "df = pd.DataFrame({\n",
    "    'A': np.random.rand(rows) * (10 - 1) + 1,\n",
    "    'B': pd.date_range('20190101', periods=rows),\n",
    "    'C': pd.Series(np.arange(0.1, 0.7, step=0.1), index=[chr(0x61 + n) for n in range(rows)], dtype='float32'),\n",
    "    'D': np.array([3] * rows, dtype='int32'),\n",
    "    'E': pd.Categorical(np.tile(['test', 'train'], reps=rows//2)),\n",
    "    'F': 'foo'\n",
    "})\n",
    "\n",
    "print('* when data frame “df” is:')\n",
    "show_df(df)"
   ]
  },
  {
   "cell_type": "markdown",
   "metadata": {},
   "source": [
    "#### 整体条件处理"
   ]
  },
  {
   "cell_type": "code",
   "execution_count": null,
   "metadata": {},
   "outputs": [],
   "source": [
    "df_ = df.loc[:, ['A', 'C', 'D']]\n",
    "print('* when data frame “df” is:')\n",
    "show_df(df_)\n",
    "\n",
    "df_ = df_.where((df_ >= 3))\n",
    "print('\\n  \"df.where(df >= 3)\" is:')\n",
    "show_df(df_)\n",
    "\n",
    "df_ = df_.where((pd.notna(df_)), None)\n",
    "print('\\n  \"df.where(pd.notna(df), None)\" is:')\n",
    "show_df(df_)\n",
    "\n",
    "df_ = df_.where((pd.notnull(df_)), -1)\n",
    "print('\\n  \"df.where(pd.notnull(df), -1)\" is:')\n",
    "show_df(df_)"
   ]
  },
  {
   "cell_type": "markdown",
   "metadata": {},
   "source": [
    "#### 按列条件过滤\n",
    "\n",
    "- 注意，在组合多个条件表达式时，可以用`&`(and)或`|`(or)连接，且每个表达式必须使用`()`引用，例如:\n",
    "\n",
    "    ```python\n",
    "     condition = (df_['B'] >= '2019-01-03') & (df_['C'] > 0.4)\n",
    "    ```"
   ]
  },
  {
   "cell_type": "code",
   "execution_count": null,
   "metadata": {},
   "outputs": [],
   "source": [
    "df_ = df.copy()\n",
    "print('* when data frame “df” is:')\n",
    "show_df(df_)\n",
    "\n",
    "df_ = df_.where((df_['A'] >= 3))\n",
    "print('\\n  \"df_.where(df_[\\'A\\'] >= 3)\" is:')\n",
    "show_df(df_)\n",
    "\n",
    "df_ = df_.where((pd.notna(df_)), None)\n",
    "print('\\n  \"df.where(pd.notna(df), None)\" is:')\n",
    "show_df(df_)\n",
    "\n",
    "df_ = df_.where((pd.notnull(df_)))\n",
    "print('\\n  \"df.where(pd.notnull(df))\" is:')\n",
    "show_df(df_)\n",
    "\n",
    "df_ = df_.dropna()\n",
    "print('\\n  \"df.dropna()\" is:')\n",
    "show_df(df_)\n",
    "\n",
    "df_ = df_.where((df_['B'] >= '2019-01-03') & (df_['C'] > 0.4))\n",
    "print('\\n  \"df.where((df[\\'B\\'] >= \\'2019-01-03\\') & (df[\\'C\\'] > 0.4))\" is:')\n",
    "show_df(df_.dropna())"
   ]
  }
 ],
 "metadata": {
  "kernelspec": {
   "display_name": "Python 3",
   "language": "python",
   "name": "python3"
  },
  "language_info": {
   "codemirror_mode": {
    "name": "ipython",
    "version": 3
   },
   "file_extension": ".py",
   "mimetype": "text/x-python",
   "name": "python",
   "nbconvert_exporter": "python",
   "pygments_lexer": "ipython3",
   "version": "3.7.2"
  }
 },
 "nbformat": 4,
 "nbformat_minor": 4
}
