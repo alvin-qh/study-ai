{
 "cells": [
  {
   "cell_type": "markdown",
   "metadata": {},
   "source": []
  },
  {
   "cell_type": "code",
   "execution_count": null,
   "metadata": {},
   "outputs": [],
   "source": [
    "from __future__ import absolute_import, division, print_function, unicode_literals\n",
    "\n",
    "import pandas as pd\n",
    "import numpy as np\n",
    "import xarray as xr\n",
    "\n",
    "def show_component(cmp):\n",
    "    s = '\\n{}'.format(cmp)\n",
    "    return s.replace('\\n', '\\n\\t')\n",
    "\n",
    "def show_df(df):\n",
    "    from IPython.display import display, HTML\n",
    "    html = '<div style=\"margin-left:55px\">{}</div>'.format(df.to_html())\n",
    "    display(HTML(html))"
   ]
  },
  {
   "cell_type": "code",
   "execution_count": null,
   "metadata": {},
   "outputs": [],
   "source": [
    "s = pd.Series(range(5))\n",
    "print('* when series \"s\" is: {}'.format(show_component(s)))"
   ]
  },
  {
   "cell_type": "code",
   "execution_count": null,
   "metadata": {},
   "outputs": [],
   "source": [
    "mask = s > 2\n",
    "print('* mask \"s > 2\" is: {}'.format(show_component(mask)))"
   ]
  },
  {
   "cell_type": "code",
   "execution_count": null,
   "metadata": {},
   "outputs": [],
   "source": [
    "r = s.where(mask)\n",
    "print('* \"s.where(mask)\" is: {}'.format(show_component(r)))\n",
    "\n",
    "r = r.dropna()\n",
    "print('\\n after \"dropna\", \"s.where(mask)\" is: {}'.format(show_component(r)))"
   ]
  },
  {
   "cell_type": "code",
   "execution_count": null,
   "metadata": {},
   "outputs": [],
   "source": [
    "r = s.mask(mask)\n",
    "print('* \"s.mask(mask) is: {}'.format(show_component(r)))\n",
    "\n",
    "r = r.dropna()\n",
    "print('\\n after \"dropna\", \"s.mask(mask)\" is: {}'.format(show_component(r)))"
   ]
  },
  {
   "cell_type": "code",
   "execution_count": null,
   "metadata": {},
   "outputs": [],
   "source": []
  },
  {
   "cell_type": "code",
   "execution_count": null,
   "metadata": {},
   "outputs": [],
   "source": []
  },
  {
   "cell_type": "code",
   "execution_count": null,
   "metadata": {},
   "outputs": [],
   "source": []
  },
  {
   "cell_type": "code",
   "execution_count": null,
   "metadata": {},
   "outputs": [],
   "source": []
  },
  {
   "cell_type": "code",
   "execution_count": null,
   "metadata": {},
   "outputs": [],
   "source": []
  },
  {
   "cell_type": "code",
   "execution_count": null,
   "metadata": {},
   "outputs": [],
   "source": [
    "rows = 6\n",
    "\n",
    "df = pd.DataFrame({\n",
    "    'A': np.random.rand(rows) * (10 - 1) + 1,\n",
    "    'B': pd.date_range('20190101', periods=rows),\n",
    "    'C': pd.Series(np.arange(0.1, 0.7, step=0.1), index=[chr(0x61 + n) for n in range(rows)], dtype='float32'),\n",
    "    'D': np.array([3] * rows, dtype='int32'),\n",
    "    'E': pd.Categorical(np.tile(['test', 'train'], reps=rows//2)),\n",
    "    'F': 'foo'\n",
    "})\n",
    "\n",
    "print('* when data frame “df” is:')\n",
    "show_df(df)"
   ]
  },
  {
   "cell_type": "code",
   "execution_count": null,
   "metadata": {},
   "outputs": [],
   "source": [
    "df.where(df['A'] < 6, None).dropna()"
   ]
  },
  {
   "cell_type": "code",
   "execution_count": null,
   "metadata": {},
   "outputs": [],
   "source": []
  },
  {
   "cell_type": "code",
   "execution_count": null,
   "metadata": {},
   "outputs": [],
   "source": []
  },
  {
   "cell_type": "code",
   "execution_count": null,
   "metadata": {},
   "outputs": [],
   "source": []
  },
  {
   "cell_type": "code",
   "execution_count": null,
   "metadata": {},
   "outputs": [],
   "source": []
  }
 ],
 "metadata": {
  "kernelspec": {
   "display_name": "Python 3",
   "language": "python",
   "name": "python3"
  },
  "language_info": {
   "codemirror_mode": {
    "name": "ipython",
    "version": 3
   },
   "file_extension": ".py",
   "mimetype": "text/x-python",
   "name": "python",
   "nbconvert_exporter": "python",
   "pygments_lexer": "ipython3",
   "version": "3.7.2"
  }
 },
 "nbformat": 4,
 "nbformat_minor": 4
}
