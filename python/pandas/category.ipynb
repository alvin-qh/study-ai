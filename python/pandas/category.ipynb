{
 "cells": [
  {
   "cell_type": "markdown",
   "metadata": {},
   "source": [
    "# Category"
   ]
  },
  {
   "cell_type": "code",
   "execution_count": 2,
   "metadata": {},
   "outputs": [],
   "source": [
    "from __future__ import absolute_import, division, print_function, unicode_literals\n",
    "\n",
    "import pandas as pd\n",
    "import numpy as np\n",
    "import xarray as xr\n",
    "\n",
    "def show_component(cmp):\n",
    "    s = '\\n{}'.format(cmp)\n",
    "    return s.replace('\\n', '\\n\\t')\n",
    "\n",
    "def show_df(df):\n",
    "    from IPython.display import display, HTML\n",
    "    html = '<div style=\"margin-left:55px\">{}</div>'.format(df.to_html())\n",
    "    display(HTML(html))"
   ]
  },
  {
   "cell_type": "markdown",
   "metadata": {},
   "source": [
    "## 创建分类对象"
   ]
  },
  {
   "cell_type": "markdown",
   "metadata": {},
   "source": [
    "### 通过 pd.Series 创建"
   ]
  },
  {
   "cell_type": "code",
   "execution_count": 3,
   "metadata": {},
   "outputs": [
    {
     "name": "stdout",
     "output_type": "stream",
     "text": [
      "* category is: \n",
      "\t0    a\n",
      "\t1    b\n",
      "\t2    c\n",
      "\t3    a\n",
      "\tdtype: category\n",
      "\tCategories (3, object): [a, b, c]\n"
     ]
    }
   ],
   "source": [
    "c = pd.Series(['a', 'b', 'c', 'a'], dtype='category')\n",
    "print('* category is: {}'.format(show_component(c)))"
   ]
  },
  {
   "cell_type": "markdown",
   "metadata": {},
   "source": [
    "### 通过 pd.Categorical 创建"
   ]
  },
  {
   "cell_type": "code",
   "execution_count": 4,
   "metadata": {},
   "outputs": [
    {
     "name": "stdout",
     "output_type": "stream",
     "text": [
      "* category is: \n",
      "\t[a, b, c, a]\n",
      "\tCategories (3, object): [a, b, c]\n"
     ]
    }
   ],
   "source": [
    "c = pd.Categorical(['a', 'b', 'c', 'a'])\n",
    "print('* category is: {}'.format(show_component(c)))"
   ]
  },
  {
   "cell_type": "code",
   "execution_count": null,
   "metadata": {},
   "outputs": [],
   "source": []
  },
  {
   "cell_type": "code",
   "execution_count": null,
   "metadata": {},
   "outputs": [],
   "source": []
  },
  {
   "cell_type": "code",
   "execution_count": null,
   "metadata": {},
   "outputs": [],
   "source": []
  },
  {
   "cell_type": "code",
   "execution_count": null,
   "metadata": {},
   "outputs": [],
   "source": []
  },
  {
   "cell_type": "code",
   "execution_count": null,
   "metadata": {},
   "outputs": [],
   "source": []
  }
 ],
 "metadata": {
  "kernelspec": {
   "display_name": "Python 3",
   "language": "python",
   "name": "python3"
  },
  "language_info": {
   "codemirror_mode": {
    "name": "ipython",
    "version": 3
   },
   "file_extension": ".py",
   "mimetype": "text/x-python",
   "name": "python",
   "nbconvert_exporter": "python",
   "pygments_lexer": "ipython3",
   "version": "3.7.4"
  }
 },
 "nbformat": 4,
 "nbformat_minor": 4
}
