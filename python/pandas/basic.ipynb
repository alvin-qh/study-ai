{
 "cells": [
  {
   "cell_type": "markdown",
   "metadata": {},
   "source": [
    "# Pandas 基础数据结构\n",
    "\n",
    "- Pandas 处理以下三个数据结构\n",
    "    - 系列 (Series)\n",
    "    - 数据帧 (DataFrame)\n",
    "    - 数据集 (Dataset)"
   ]
  },
  {
   "cell_type": "code",
   "execution_count": null,
   "metadata": {},
   "outputs": [],
   "source": [
    "from __future__ import absolute_import, division, print_function, unicode_literals\n",
    "\n",
    "import pandas as pd\n",
    "import numpy as np\n",
    "import xarray as xr\n",
    "\n",
    "def show_component(cmp):\n",
    "    s = '\\n{}'.format(cmp)\n",
    "    return s.replace('\\n', '\\n\\t')\n",
    "\n",
    "def show_df(df):\n",
    "    from IPython.display import display, HTML\n",
    "    html = '<div style=\"margin-left:55px\">{}</div>'.format(df.to_html())\n",
    "    display(HTML(html))"
   ]
  },
  {
   "cell_type": "markdown",
   "metadata": {},
   "source": [
    "## Series\n",
    "\n",
    "-  1D 数据结构，表示一个数据列"
   ]
  },
  {
   "cell_type": "code",
   "execution_count": null,
   "metadata": {},
   "outputs": [],
   "source": [
    "data = [1, 3, 5, np.nan, 6, 8]\n",
    "\n",
    "series = pd.Series(data, index=list(range(1, len(data) + 1)))\n",
    "print('* Series is: {}'.format(show_component(series)))\n",
    "print('\\n  then values are: {}'.format(show_component(series.values)))\n",
    "print('\\n  and summary is: {}'.format(show_component(series.describe())))\n",
    "print('\\n  and dtypes of series is: {}'.format(show_component(series.dtypes)))"
   ]
  },
  {
   "cell_type": "markdown",
   "metadata": {},
   "source": [
    "## DataFrame\n",
    "\n",
    "- 2D 数据结构，表示一个表格"
   ]
  },
  {
   "cell_type": "markdown",
   "metadata": {},
   "source": [
    "### DataFrame 基本"
   ]
  },
  {
   "cell_type": "markdown",
   "metadata": {},
   "source": [
    "- 设置 DataFrame 的列名和索引"
   ]
  },
  {
   "cell_type": "code",
   "execution_count": null,
   "metadata": {},
   "outputs": [],
   "source": [
    "rows = 7\n",
    "columns = list('ABCD')\n",
    "indecs = pd.date_range('20190101', periods=rows)"
   ]
  },
  {
   "cell_type": "markdown",
   "metadata": {},
   "source": [
    "- 准备一个矩阵"
   ]
  },
  {
   "cell_type": "code",
   "execution_count": null,
   "metadata": {},
   "outputs": [],
   "source": [
    "data = np.reshape(np.arange(rows * len(columns)) + 1, (rows, len(columns)))\n",
    "print('* data is: {} (shape={})'.format(show_component(data), data.shape))"
   ]
  },
  {
   "cell_type": "markdown",
   "metadata": {},
   "source": [
    "- 生成 DataFrame 对象"
   ]
  },
  {
   "cell_type": "code",
   "execution_count": null,
   "metadata": {},
   "outputs": [],
   "source": [
    "df = pd.DataFrame(data=data, index=indecs, columns=columns)\n",
    "print('* data frame \"df\" is:')\n",
    "show_df(df)"
   ]
  },
  {
   "cell_type": "markdown",
   "metadata": {},
   "source": [
    "- 查看 DataFrame 属性"
   ]
  },
  {
   "cell_type": "code",
   "execution_count": null,
   "metadata": {},
   "outputs": [],
   "source": [
    "print('* dtypes of \"df\" is: {}'.format(show_component(df.dtypes)))\n",
    "print('\\n* index of \"df\" is: {}'.format(show_component(df.index)))\n",
    "print('\\n* columns of \"df\" is: {}'.format(show_component(df.columns)))\n",
    "print('\\n* values of \"df\" is: {} (shape={})'.format(show_component(df.values), df.values.shape))"
   ]
  },
  {
   "cell_type": "markdown",
   "metadata": {},
   "source": [
    "- DataFrame 内容概览"
   ]
  },
  {
   "cell_type": "code",
   "execution_count": null,
   "metadata": {},
   "outputs": [],
   "source": [
    "print('* describe of \"df\" is: ')\n",
    "show_df(df.describe())\n",
    "\n",
    "print('\\n* head of \"df\" is:')\n",
    "show_df(df.head())\n",
    "\n",
    "print('\\n* tail of \"df\" is:')\n",
    "show_df(df.tail())\n",
    "\n",
    "print('\\n* transpos of \"df\" is: ')\n",
    "show_df(df.T)"
   ]
  },
  {
   "cell_type": "markdown",
   "metadata": {},
   "source": [
    "## xArray"
   ]
  },
  {
   "cell_type": "markdown",
   "metadata": {},
   "source": [
    "- 表示一个 Dataset 组成的数据集"
   ]
  },
  {
   "cell_type": "code",
   "execution_count": null,
   "metadata": {},
   "outputs": [],
   "source": [
    "df1 = pd.DataFrame(data=np.reshape(np.arange(10) + 1, (2, 5)))\n",
    "print('* when dataframe \"df1\" is:')\n",
    "show_df(df1)\n",
    "\n",
    "da_one = xr.DataArray(df1,\n",
    "                      dims=['n1', 'n2'],\n",
    "                      coords={'n1': ['x', 'y'], 'n2': ['a', 'b', 'c', 'd', 'e']},\n",
    "                      name='one')\n",
    "print('  then convert to DataArray \"da_one\" is: {}'.format(da_one))\n",
    "\n",
    "df2 = pd.DataFrame(data=np.reshape(np.arange(18) + 1, (3, 6)))\n",
    "print('\\n  and dataframe \"df2\" is:')\n",
    "show_df(df2)\n",
    "\n",
    "da_two = xr.DataArray(df2,\n",
    "                      dims=['n1', 'n2'],\n",
    "                      coords={'n1': ['x', 'y', 'z'], 'n2': ['a', 'b', 'c', 'd', 'e', 'f']},\n",
    "                      name='two')\n",
    "print('  then convert to DataArray \"da_one\" is: {}'.format(da_one))\n",
    "\n",
    "ds = xr.Dataset(data_vars={'one': da_one, 'two': da_two})\n",
    "print('\\n  then dataset \"ds\" is: {}'.format(show_component(ds)))\n",
    "print('  then ds is: ')\n",
    "show_df(ds.to_dataframe())"
   ]
  }
 ],
 "metadata": {
  "kernelspec": {
   "display_name": "Python 3",
   "language": "python",
   "name": "python3"
  },
  "language_info": {
   "codemirror_mode": {
    "name": "ipython",
    "version": 3
   },
   "file_extension": ".py",
   "mimetype": "text/x-python",
   "name": "python",
   "nbconvert_exporter": "python",
   "pygments_lexer": "ipython3",
   "version": "3.7.2"
  }
 },
 "nbformat": 4,
 "nbformat_minor": 4
}
