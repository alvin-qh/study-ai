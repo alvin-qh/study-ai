{
 "cells": [
  {
   "cell_type": "markdown",
   "metadata": {},
   "source": [
    "# Pandas 基础数据结构\n",
    "\n",
    "- Pandas 处理以下三个数据结构\n",
    "    - 系列 (Series)\n",
    "    - 数据帧 (DataFrame)\n",
    "    - 数据集 (Dataset)"
   ]
  },
  {
   "cell_type": "code",
   "execution_count": null,
   "metadata": {},
   "outputs": [],
   "source": [
    "from __future__ import absolute_import, division, print_function, unicode_literals\n",
    "\n",
    "import pandas as pd\n",
    "import numpy as np\n",
    "import xarray as xr\n",
    "\n",
    "def show_component(cmp):\n",
    "    s = '\\n{}'.format(cmp)\n",
    "    return s.replace('\\n', '\\n\\t')\n",
    "\n",
    "def show_df(df):\n",
    "    from IPython.display import display, HTML\n",
    "    html = '<div style=\"margin-left:55px\">{}</div>'.format(df.to_html())\n",
    "    display(HTML(html))"
   ]
  },
  {
   "cell_type": "markdown",
   "metadata": {},
   "source": [
    "## Series\n",
    "\n",
    "-  1D 数据结构，表示一个数据列"
   ]
  },
  {
   "cell_type": "code",
   "execution_count": null,
   "metadata": {},
   "outputs": [],
   "source": [
    "data = [1, 3, 5, np.nan, 6, 8]\n",
    "\n",
    "series = pd.Series(data, index=list(range(1, len(data) + 1)))\n",
    "print('* Series is: {}'.format(show_component(series)))\n",
    "print('\\n  then values are: {}'.format(show_component(series.values)))\n",
    "print('\\n  and summary is: {}'.format(show_component(series.describe())))\n",
    "print('\\n  and dtypes of series is: {}'.format(show_component(series.dtypes)))"
   ]
  },
  {
   "cell_type": "markdown",
   "metadata": {},
   "source": [
    "## DataFrame\n",
    "\n",
    "- 2D 数据结构，表示一个表格"
   ]
  },
  {
   "cell_type": "markdown",
   "metadata": {},
   "source": [
    "### DataFrame 基本"
   ]
  },
  {
   "cell_type": "markdown",
   "metadata": {},
   "source": [
    "- 设置 DataFrame 的列名和索引"
   ]
  },
  {
   "cell_type": "code",
   "execution_count": null,
   "metadata": {},
   "outputs": [],
   "source": [
    "rows = 7\n",
    "columns = list('ABCD')\n",
    "indecs = pd.date_range('20190101', periods=rows)"
   ]
  },
  {
   "cell_type": "markdown",
   "metadata": {},
   "source": [
    "- 准备一个矩阵"
   ]
  },
  {
   "cell_type": "code",
   "execution_count": null,
   "metadata": {},
   "outputs": [],
   "source": [
    "data = np.reshape(np.arange(rows * len(columns)) + 1, (rows, len(columns)))\n",
    "print('* data is: {} (shape={})'.format(show_component(data), data.shape))"
   ]
  },
  {
   "cell_type": "markdown",
   "metadata": {},
   "source": [
    "- 生成 DataFrame 对象"
   ]
  },
  {
   "cell_type": "code",
   "execution_count": null,
   "metadata": {},
   "outputs": [],
   "source": [
    "df = pd.DataFrame(data=data, index=indecs, columns=columns)\n",
    "print('* data frame \"df\" is:')\n",
    "show_df(df)"
   ]
  },
  {
   "cell_type": "markdown",
   "metadata": {},
   "source": [
    "- 查看 DataFrame 属性"
   ]
  },
  {
   "cell_type": "code",
   "execution_count": null,
   "metadata": {},
   "outputs": [],
   "source": [
    "print('* dtypes of \"df\" is: {}'.format(show_component(df.dtypes)))\n",
    "print('\\n* index of \"df\" is: {}'.format(show_component(df.index)))\n",
    "print('\\n* columns of \"df\" is: {}'.format(show_component(df.columns)))\n",
    "print('\\n* values of \"df\" is: {} (shape={})'.format(show_component(df.values), df.values.shape))"
   ]
  },
  {
   "cell_type": "markdown",
   "metadata": {},
   "source": [
    "- DataFrame 内容概览"
   ]
  },
  {
   "cell_type": "code",
   "execution_count": null,
   "metadata": {},
   "outputs": [],
   "source": [
    "print('* describe of \"df\" is: ')\n",
    "show_df(df.describe())\n",
    "\n",
    "print('\\n* head of \"df\" is:')\n",
    "show_df(df.head())\n",
    "\n",
    "print('\\n* tail of \"df\" is:')\n",
    "show_df(df.tail())\n",
    "\n",
    "print('\\n* transpos of \"df\" is: ')\n",
    "show_df(df.T)"
   ]
  },
  {
   "cell_type": "markdown",
   "metadata": {},
   "source": [
    "### Dataframe 操作"
   ]
  },
  {
   "cell_type": "markdown",
   "metadata": {},
   "source": [
    "#### 按列创建 DataFrame 对象"
   ]
  },
  {
   "cell_type": "code",
   "execution_count": null,
   "metadata": {},
   "outputs": [],
   "source": [
    "rows = 6\n",
    "\n",
    "df = pd.DataFrame({\n",
    "    'A': np.random.rand(rows) * (10 - 1) + 1,\n",
    "    'B': pd.date_range('20190101', periods=rows),\n",
    "    'C': pd.Series(np.arange(0.1, 0.7, step=0.1), index=[chr(0x61 + n) for n in range(rows)], dtype='float32'),\n",
    "    'D': np.array([3] * rows, dtype='int32'),\n",
    "    'E': pd.Categorical(np.tile(['test', 'train'], reps=rows//2)),\n",
    "    'F': 'foo'\n",
    "})\n",
    "\n",
    "print('* when data frame “df” is:')\n",
    "show_df(df)"
   ]
  },
  {
   "cell_type": "markdown",
   "metadata": {},
   "source": [
    "#### 列操作"
   ]
  },
  {
   "cell_type": "markdown",
   "metadata": {},
   "source": [
    "- 列集合"
   ]
  },
  {
   "cell_type": "code",
   "execution_count": null,
   "metadata": {},
   "outputs": [],
   "source": [
    "cols = df.columns\n",
    "print('* columns of \"df\" are: {}'.format(show_component(cols)))\n",
    "\n",
    "col_names = cols.values\n",
    "print('  and column names are: {}'.format(show_component(col_names)))\n",
    "\n",
    "col_index = cols.get_loc('C')\n",
    "print('  and index of column \"C\" is: {}'.format(col_index))"
   ]
  },
  {
   "cell_type": "markdown",
   "metadata": {},
   "source": [
    "- 根据列名获取该列数据"
   ]
  },
  {
   "cell_type": "code",
   "execution_count": null,
   "metadata": {},
   "outputs": [],
   "source": [
    "column_c = df['C']\n",
    "print('* data of column \"C\" are: {}'.format(show_component(column_c)))\n",
    "print('\\n  and column values are: {}'.format(show_component(column_c.values)))\n",
    "\n",
    "data_c_d = column_c['d']\n",
    "print('\\n  and data of row \"d\" of column is: {:.2f}'.format(data_c_d))\n",
    "\n",
    "data_c_2 = column_c[3]\n",
    "print('  and data of row 2 of column is: {:.2f}'.format(data_c_2))"
   ]
  },
  {
   "cell_type": "markdown",
   "metadata": {},
   "source": [
    "- 添加列"
   ]
  },
  {
   "cell_type": "code",
   "execution_count": null,
   "metadata": {},
   "outputs": [],
   "source": [
    "df_ = df.copy()\n",
    "\n",
    "column_count = len(df.columns)\n",
    "\n",
    "series = pd.Series(data=[chr(0x41 + n) for n in range(0, column_count)],\n",
    "                   index=[chr(0x61 + n) for n in range(0, column_count)])\n",
    "print('* when column data is: {}'.format(show_component(series)))\n",
    "\n",
    "df_['G'] = series\n",
    "\n",
    "print('\\n  after column was add as \"G\", dataframe \"df\" is:')\n",
    "show_df(df_)"
   ]
  },
  {
   "cell_type": "markdown",
   "metadata": {},
   "source": [
    "- 删除列"
   ]
  },
  {
   "cell_type": "code",
   "execution_count": null,
   "metadata": {},
   "outputs": [],
   "source": [
    "df_ = df.copy()\n",
    "\n",
    "del_col = df_.pop('B')\n",
    "print('* removed column \"B\" is: {}'.format(show_component(del_col)))\n",
    "\n",
    "print('\\n  then dataframe \"df\" is:')\n",
    "show_df(df_)\n",
    "\n",
    "del df_['D']\n",
    "print('\\n* after removed column \"D\", dataframe \"df\" is:')\n",
    "show_df(df_)"
   ]
  },
  {
   "cell_type": "markdown",
   "metadata": {},
   "source": [
    "#### 行操作"
   ]
  },
  {
   "cell_type": "markdown",
   "metadata": {},
   "source": [
    "- 根据行索引获取数据"
   ]
  },
  {
   "cell_type": "code",
   "execution_count": null,
   "metadata": {},
   "outputs": [],
   "source": [
    "row_b = df.loc['b']\n",
    "print('* data of row \"b\" are: {}'.format(show_component(row_b)))\n",
    "print('\\n  and row values are: {}'.format(show_component(row_b.values)))\n",
    "\n",
    "column_b = row_b['B']\n",
    "print('\\n  and column \"B\" of row is: {}'.format(column_b))"
   ]
  },
  {
   "cell_type": "markdown",
   "metadata": {},
   "source": [
    "- 根据行下标进获取数据"
   ]
  },
  {
   "cell_type": "code",
   "execution_count": null,
   "metadata": {},
   "outputs": [],
   "source": [
    "row_3 = df_.iloc[3]\n",
    "print('* data of row 3 are: {}'.format(show_component(row_3)))\n",
    "print('\\n  and row values are: {}'.format(show_component(row_3.values)))\n",
    "\n",
    "column_2 = row_3[2]\n",
    "print('\\n  and column 2 of row is: {}'.format(column_2))"
   ]
  },
  {
   "cell_type": "markdown",
   "metadata": {},
   "source": [
    "- 添加行"
   ]
  },
  {
   "cell_type": "code",
   "execution_count": null,
   "metadata": {},
   "outputs": [],
   "source": [
    "df_ = df.copy()\n",
    "\n",
    "rows = 2\n",
    "new_rows = pd.DataFrame({\n",
    "    'A': np.random.rand(rows) * (10 - 1) + 1,\n",
    "    'B': pd.date_range('20190107', periods=rows),\n",
    "    'C': [0.7, 0.8],\n",
    "    'D': np.array([3] * rows, dtype='int32'),\n",
    "    'E': ['test', 'train'],\n",
    "    'F': pd.Series(['foo'] * 2, index=['g', 'h'])\n",
    "})\n",
    "print('* when new row is: {}'.format(show_component(new_rows)))\n",
    "\n",
    "df_ = df_.append(new_rows)\n",
    "print('\\n  after append new row, data frame \"df\" is:')\n",
    "show_df(df_)"
   ]
  },
  {
   "cell_type": "markdown",
   "metadata": {},
   "source": [
    "- 以 Series 结构添加一行"
   ]
  },
  {
   "cell_type": "code",
   "execution_count": null,
   "metadata": {},
   "outputs": [],
   "source": [
    "df_ = df.copy()\n",
    "\n",
    "new_row = pd.Series(data={\n",
    "    'A': np.random.rand() * (10 - 1) + 1,\n",
    "    'B': pd.Timestamp('20190107'),\n",
    "    'C': 0.7,\n",
    "    'D': 3,\n",
    "    'E': 'test',\n",
    "    'F': 'foo'\n",
    "}, name='g')\n",
    "print('\\n* when new row is: {}'.format(show_component(new_row)))\n",
    "df_ = df_.append(new_row)\n",
    "\n",
    "print('  after append new row, data frame \"df\" is:')\n",
    "show_df(df_)"
   ]
  },
  {
   "cell_type": "markdown",
   "metadata": {},
   "source": [
    "- 删除行"
   ]
  },
  {
   "cell_type": "code",
   "execution_count": null,
   "metadata": {},
   "outputs": [],
   "source": [
    "df_ = df.copy()\n",
    "\n",
    "df_droped = df_.drop(index='a')\n",
    "print('* after drop row \"a\", then the \"df\" is')\n",
    "show_df(df_droped)\n",
    "\n",
    "df_droped = df_.drop(index=['a', 'b', 'c'])\n",
    "print('* after drop row \"a\", then the \"df\" is')\n",
    "show_df(df_droped)\n",
    "\n",
    "num_to_delete = list(range(1, 5))\n",
    "df_droped = df_.drop(index=[df_.index[n] for n in num_to_delete])\n",
    "print('* after drop row {}, then the \"df\" is'.format(num_to_delete))\n",
    "show_df(df_droped)"
   ]
  },
  {
   "cell_type": "markdown",
   "metadata": {},
   "source": [
    "#### 行列操作"
   ]
  },
  {
   "cell_type": "markdown",
   "metadata": {},
   "source": [
    "- 获取行列数据 (根据索引)"
   ]
  },
  {
   "cell_type": "code",
   "execution_count": null,
   "metadata": {},
   "outputs": [],
   "source": [
    "row = df.loc['a', :]\n",
    "print('* row of index \"a\" is: {}'.format(show_component(row)))\n",
    "\n",
    "column = df.loc[:, 'B']\n",
    "print('\\n* column of name \"B\" is: {}'.format(show_component(column)))\n",
    "\n",
    "rows = df.loc[['a', 'b', 'd'], :]\n",
    "print('\\n* rows of index [\"a\", \"b\", \"d\"] is: {}'.format(show_component(rows)))\n",
    "\n",
    "columns = df.loc[:, ['A', 'B', 'D']]\n",
    "print('\\n* columns of name [\"A\", \"B\", \"D\"] is: {}'.format(show_component(columns)))\n",
    "\n",
    "rows = df.loc['b':'e', :]\n",
    "print('\\n* rows of index \"b\":\"e\" is: {}'.format(show_component(rows)))\n",
    "\n",
    "columns = df.loc[:, 'B':'E']\n",
    "print('\\n* columns of name \"B\":\"E\" is: {}'.format(show_component(columns)))\n",
    "\n",
    "datas = df.loc[['a', 'd'], ['A', 'B', 'D']]\n",
    "print('\\n* rows [\"a\", \"d\"] and columns [\"A\", \"B\", \"D\"] is: {}'.format(show_component(datas)))\n",
    "\n",
    "datas = df.loc['c':'e', 'A':'D']\n",
    "print('\\n* rows \"c\":\"e\" and columns \"A\":\"D\" is: {}'.format(show_component(datas)))"
   ]
  },
  {
   "cell_type": "markdown",
   "metadata": {},
   "source": [
    "- 获取行列数据 (根据行列号)"
   ]
  },
  {
   "cell_type": "code",
   "execution_count": null,
   "metadata": {},
   "outputs": [],
   "source": [
    "row = df.iloc[0, :]\n",
    "print('* row of num 0 is: {}'.format(show_component(row)))\n",
    "\n",
    "column = df.iloc[:, 1]\n",
    "print('\\n* column of num 1 is: {}'.format(show_component(column)))\n",
    "\n",
    "rows = df.iloc[[1, 2, 4], :]\n",
    "print('\\n* rows of num [1, 2, 4] is: {}'.format(show_component(rows)))\n",
    "\n",
    "columns = df.iloc[:, [1, 2, 4]]\n",
    "print('\\n* columns of num [1, 2, 4] is: {}'.format(show_component(columns)))\n",
    "\n",
    "rows = df.iloc[2:5, :]\n",
    "print('\\n* rows of num 2:4 is: {}'.format(show_component(rows)))\n",
    "\n",
    "columns = df.iloc[:, 2:5]\n",
    "print('\\n* columns of num 2:4 is: {}'.format(show_component(columns)))\n",
    "\n",
    "datas = df.iloc[[2, 5], [1, 2, 4]]\n",
    "print('\\n* rows [2, 5] and columns [1, 2, 4 is: {}'.format(show_component(datas)))\n",
    "\n",
    "datas = df.iloc[2:5, 1:4]\n",
    "print('\\n* rows 2:5 and columns 1:4 is: {}'.format(show_component(datas)))"
   ]
  },
  {
   "cell_type": "markdown",
   "metadata": {},
   "source": [
    "#### 遍历"
   ]
  },
  {
   "cell_type": "markdown",
   "metadata": {},
   "source": [
    "- 遍历列名"
   ]
  },
  {
   "cell_type": "code",
   "execution_count": null,
   "metadata": {},
   "outputs": [],
   "source": [
    "print('* column names are: ')\n",
    "for n, col in enumerate(df):\n",
    "    print('\\tcolumn {} is \"{}\"'.format(n, col))"
   ]
  },
  {
   "cell_type": "markdown",
   "metadata": {},
   "source": [
    "- 按列遍历数据"
   ]
  },
  {
   "cell_type": "code",
   "execution_count": null,
   "metadata": {},
   "outputs": [],
   "source": [
    "print('* data of \"df\" is:')\n",
    "for column, rows in df.iteritems():\n",
    "    print('\\tcolumn \"{}\"'.format(column))\n",
    "    for index, value in rows.iteritems():\n",
    "        print('\\t\\t{} => {}'.format(index, value))"
   ]
  },
  {
   "cell_type": "markdown",
   "metadata": {},
   "source": [
    "- 按行遍历数据 1"
   ]
  },
  {
   "cell_type": "code",
   "execution_count": null,
   "metadata": {},
   "outputs": [],
   "source": [
    "print('* data of \"df\" is:')\n",
    "for row_index, row in df.iterrows():\n",
    "    print('\\trow \"{}\"'.format(row_index))\n",
    "    for column, data in row.iteritems():\n",
    "        print('\\t\\t{} => {}'.format(column, data))"
   ]
  },
  {
   "cell_type": "markdown",
   "metadata": {},
   "source": [
    "- 按行遍历数据 2"
   ]
  },
  {
   "cell_type": "code",
   "execution_count": null,
   "metadata": {},
   "outputs": [],
   "source": [
    "print('* data of \"df\" is:')\n",
    "for row in df.itertuples():\n",
    "    index = row[0]\n",
    "    print('\\trow \"{}\"'.format(index))\n",
    "    for n, col in enumerate(df):\n",
    "        print('\\t\\t{} => {}'.format(col, row[n + 1]))"
   ]
  },
  {
   "cell_type": "markdown",
   "metadata": {},
   "source": [
    "#### 排序"
   ]
  },
  {
   "cell_type": "markdown",
   "metadata": {},
   "source": [
    "- 按索引排序"
   ]
  },
  {
   "cell_type": "code",
   "execution_count": null,
   "metadata": {},
   "outputs": [],
   "source": [
    "df_sorted = df.sort_index(ascending=False)\n",
    "print('* after sort index by desc, the \"df\" is: ')\n",
    "show_df(df_sorted)\n",
    "\n",
    "df_sorted = df_sorted.sort_index()\n",
    "print('* after sort index by asc, the \"df\" is: ')\n",
    "show_df(df_sorted)"
   ]
  },
  {
   "cell_type": "markdown",
   "metadata": {},
   "source": [
    "- 对列名进行排序"
   ]
  },
  {
   "cell_type": "code",
   "execution_count": null,
   "metadata": {},
   "outputs": [],
   "source": [
    "df_sorted = df.sort_index(axis=1, ascending=False)\n",
    "print('* after sort column name by desc, the \"df\" is: ')\n",
    "show_df(df_sorted)\n",
    "\n",
    "df_sorted = df_sorted.sort_index(axis=1)\n",
    "print('* after sort column name by asc, the \"df\" is: ')\n",
    "show_df(df_sorted)"
   ]
  },
  {
   "cell_type": "markdown",
   "metadata": {},
   "source": [
    "- 按值排序"
   ]
  },
  {
   "cell_type": "code",
   "execution_count": null,
   "metadata": {},
   "outputs": [],
   "source": [
    "df_sorted = df.sort_values(by='A', ascending=False)\n",
    "print('* after sort values by column \"A\" desc, the \"df\" is: ')\n",
    "show_df(df_sorted)\n",
    "\n",
    "df_sorted = df.sort_values(by=['E', 'B'], ascending=[True, False])\n",
    "print('* after sort values by column \"A\" asc and \"B\" desc, the \"df\" is: ')\n",
    "show_df(df_sorted)\n",
    "\n",
    "df_sorted = df.sort_values(by='A', kind='mergeesort')\n",
    "print('* after sort values by column \"A\" with \"mergeesort\", the \"df\" is: ')\n",
    "show_df(df_sorted)\n",
    "\n",
    "df_sorted = df.sort_values(by='A', kind='heapsort')\n",
    "print('* after sort values by column \"A\" with \"heapsort\", the \"df\" is: ')\n",
    "show_df(df_sorted)\n",
    "\n",
    "df_sorted = df.sort_values(by='A', kind='quicksort')\n",
    "print('* after sort values by column \"A\" with \"quicksort\", the \"df\" is: ')\n",
    "show_df(df_sorted)"
   ]
  },
  {
   "cell_type": "markdown",
   "metadata": {},
   "source": [
    "#### 分组"
   ]
  },
  {
   "cell_type": "code",
   "execution_count": null,
   "metadata": {},
   "outputs": [],
   "source": [
    "df_ = df.copy()\n",
    "\n",
    "df_['A'] = df_['A'].map(np.trunc)\n",
    "print('* the new dataframe \"df\" is: ')\n",
    "show_df(df_)"
   ]
  },
  {
   "cell_type": "markdown",
   "metadata": {},
   "source": [
    "- 按列分组"
   ]
  },
  {
   "cell_type": "code",
   "execution_count": null,
   "metadata": {},
   "outputs": [],
   "source": [
    "groupby = df_.groupby('E')\n",
    "print('* group by column \"E\", the result is: {}'.format(show_component(groupby)))\n",
    "\n",
    "groups = groupby.groups\n",
    "print('  and the groups is: {}'.format(show_component(groups)))\n",
    "\n",
    "group_test = groups['test']\n",
    "print('  and index of group \"test\" are: {}'.format(show_component(group_test.values)))\n",
    "\n",
    "group_train = groups['train']\n",
    "print('  and index of group \"train\" are: {}'.format(show_component(group_train.values)))\n",
    "\n",
    "print('\\n* the detail of each groups are:')\n",
    "for group in groupby:\n",
    "    print('{}the group \"{}\"'.format(' ' * 7, group[0]))\n",
    "    show_df(group[1])\n",
    "\n",
    "print('\\n* group by column \"E\" and \"A\":')\n",
    "groupby = df_.groupby(['E', 'A'])\n",
    "for group in groupby:\n",
    "    print('{}the group \"{}\"'.format(' ' * 7, group[0]))\n",
    "    show_df(group[1])"
   ]
  },
  {
   "cell_type": "markdown",
   "metadata": {},
   "source": [
    "## xArray"
   ]
  },
  {
   "cell_type": "markdown",
   "metadata": {},
   "source": [
    "- 表示一个 Dataset 组成的数据集"
   ]
  },
  {
   "cell_type": "code",
   "execution_count": null,
   "metadata": {},
   "outputs": [],
   "source": [
    "df1 = pd.DataFrame(data=np.reshape(np.arange(10) + 1, (2, 5)))\n",
    "print('* when dataframe \"df1\" is:')\n",
    "show_df(df1)\n",
    "\n",
    "da_one = xr.DataArray(df1,\n",
    "                      dims=['n1', 'n2'],\n",
    "                      coords={'n1': ['x', 'y'], 'n2': ['a', 'b', 'c', 'd', 'e']},\n",
    "                      name='one')\n",
    "print('  then convert to DataArray \"da_one\" is: {}'.format(da_one))\n",
    "\n",
    "df2 = pd.DataFrame(data=np.reshape(np.arange(18) + 1, (3, 6)))\n",
    "print('\\n  and dataframe \"df2\" is:')\n",
    "show_df(df2)\n",
    "\n",
    "da_two = xr.DataArray(df2,\n",
    "                      dims=['n1', 'n2'],\n",
    "                      coords={'n1': ['x', 'y', 'z'], 'n2': ['a', 'b', 'c', 'd', 'e', 'f']},\n",
    "                      name='two')\n",
    "print('  then convert to DataArray \"da_one\" is: {}'.format(da_one))\n",
    "\n",
    "ds = xr.Dataset(data_vars={'one': da_one, 'two': da_two})\n",
    "print('\\n  then dataset \"ds\" is: {}'.format(show_component(ds)))\n",
    "print('  then ds is: ')\n",
    "show_df(ds.to_dataframe())"
   ]
  },
  {
   "cell_type": "code",
   "execution_count": null,
   "metadata": {},
   "outputs": [],
   "source": [
    "df_sorted = df.sort_values(by=['E', 'C'], ascending=[False, True])\n",
    "\n",
    "print('* and sorted by \"E\" and \"C\" columns of frame is: ')\n",
    "show_df(df_sorted)"
   ]
  }
 ],
 "metadata": {
  "kernelspec": {
   "display_name": "Python 3",
   "language": "python",
   "name": "python3"
  },
  "language_info": {
   "codemirror_mode": {
    "name": "ipython",
    "version": 3
   },
   "file_extension": ".py",
   "mimetype": "text/x-python",
   "name": "python",
   "nbconvert_exporter": "python",
   "pygments_lexer": "ipython3",
   "version": "3.7.4"
  }
 },
 "nbformat": 4,
 "nbformat_minor": 4
}
