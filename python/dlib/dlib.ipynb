{
 "cells": [
  {
   "cell_type": "markdown",
   "metadata": {},
   "source": [
    "# Dlib Demo\n",
    "\n",
    "> Refer to: https://github.com/ageitgey/face_recognition/blob/master/face_recognition/api.py\n",
    "\n",
    "> Refer to: http://dlib.net, http://dlib.net/files/"
   ]
  },
  {
   "cell_type": "markdown",
   "metadata": {},
   "source": [
    "## Prepare"
   ]
  },
  {
   "cell_type": "markdown",
   "metadata": {},
   "source": [
    "### Define dlib model variables"
   ]
  },
  {
   "cell_type": "code",
   "execution_count": null,
   "metadata": {},
   "outputs": [],
   "source": [
    "from PIL import Image, ImageFile, ImageDraw\n",
    "\n",
    "import dlib\n",
    "import numpy as np\n",
    "import matplotlib.pyplot as plt\n",
    "\n",
    "dlib_face_recognition_resnet_model_v1 = 'dlib_face_recognition_resnet_model_v1.dat'\n",
    "mmod_human_face_detector = 'mmod_human_face_detector.dat'\n",
    "shape_predictor_5_face_landmarks = 'shape_predictor_5_face_landmarks.dat'\n",
    "shape_predictor_68_face_landmarks = 'shape_predictor_68_face_landmarks.dat'\n",
    "\n",
    "ImageFile.LOAD_TRUNCATED_IMAGES = True"
   ]
  },
  {
   "cell_type": "markdown",
   "metadata": {},
   "source": [
    "### Make dataset"
   ]
  },
  {
   "cell_type": "code",
   "execution_count": null,
   "metadata": {},
   "outputs": [],
   "source": [
    "from os import curdir, path\n",
    "from itertools import chain\n",
    "\n",
    "import glob\n",
    "import random as rdm\n",
    "\n",
    "\n",
    "class Dataset(object):\n",
    "    def __init__(self):\n",
    "        pic_dir = path.abspath(path.join(curdir, 'pics'))\n",
    "        pic_files = set(glob.glob(path.join(picture_dir, '**/*.jpg')))\n",
    "        self._dataset = self._make_dataset(pic_files)\n",
    "\n",
    "    @staticmethod\n",
    "    def _make_dataset(pic_files):\n",
    "        dataset = {}\n",
    "        for pf in pic_files:\n",
    "            key = path.split(path.dirname(pf))[1]\n",
    "            if key in dataset:\n",
    "                dataset[key].append(pf)\n",
    "            else:\n",
    "                dataset[key] = [pf]\n",
    "        return dataset\n",
    "\n",
    "    def one_face(self):\n",
    "        key = rdm.choice(list(self._dataset.keys()))\n",
    "        return key, rdm.choice(self._dataset[key])\n",
    "\n",
    "    def fetch(self, split_count=1):\n",
    "        train_labels, train_data, test_labels, test_data = [], [], [], []\n",
    "        for name, files in self._dataset.items():\n",
    "            test_indices = np.random.choice(len(files), split_count)\n",
    "            data_indices = np.setdiff1d(np.arange(len(files)), test_indices)\n",
    "\n",
    "            files = np.array(files)\n",
    "            train_labels.append(np.repeat(name, len(data_indices)))\n",
    "            train_data.append(files[data_indices])\n",
    "\n",
    "            test_labels.append(np.repeat(name, len(test_indices)))\n",
    "            test_data.append(files[test_indices])\n",
    "\n",
    "        return np.array(train_labels), np.array(train_data), np.array(test_labels), np.array(test_data)\n",
    "\n",
    "\n",
    "dataset = Dataset()"
   ]
  },
  {
   "cell_type": "markdown",
   "metadata": {},
   "source": [
    "### Utils functions"
   ]
  },
  {
   "cell_type": "code",
   "execution_count": null,
   "metadata": {},
   "outputs": [],
   "source": [
    "def draw_rectange(img, rect, outline='#fff'):\n",
    "    for n in range(0, 5):\n",
    "        box = [(rect[0][0] + n, rect[0][1] + n), (rect[1][0] - n, rect[1][1] - n)]\n",
    "        draw.rectangle(box, outline=outline)"
   ]
  },
  {
   "cell_type": "markdown",
   "metadata": {},
   "source": [
    "## Create dlib model download function"
   ]
  },
  {
   "cell_type": "code",
   "execution_count": 169,
   "metadata": {},
   "outputs": [],
   "source": [
    "import requests\n",
    "import bz2\n",
    "from os import curdir, path, makedirs, rename\n",
    "from urllib.parse import urljoin\n",
    "\n",
    "def download_model(model_file):\n",
    "    def make_model_path(model_file, middle_path=''):\n",
    "        base_dir = path.abspath(path.join(curdir, 'models', middle_path))\n",
    "        if not path.exists(base_dir):\n",
    "            makedirs(base_dir, exist_ok=True)\n",
    "\n",
    "        return path.join(base_dir, model_file)\n",
    "\n",
    "    local_model_file = make_model_path(model_file)\n",
    "    if path.exists(local_model_file):\n",
    "        print('* model file \"{}\" exsits'.format(model_file))\n",
    "        return local_model_file\n",
    "\n",
    "    print('* model file \"{}\" not exsits'.format(model_file))\n",
    "\n",
    "    def unzip_bz2(src_file, dest_file):\n",
    "        with bz2.BZ2File(src_file, 'rb') as src_fp, open(dest_file, 'wb') as dest_fp:\n",
    "            while 1:\n",
    "                data = src_fp.read(100 * (1024 ** 2))\n",
    "                if not data:\n",
    "                    break\n",
    "                dest_fp.write(data)\n",
    "\n",
    "    bz2_model_file = '{}.bz2'.format(model_file)\n",
    "    bz2_local_model_file = make_model_path(bz2_model_file, middle_path='.cache')\n",
    "    if path.exists(bz2_local_model_file):\n",
    "        print('* model bz2 file \"{}\" exsits, uncompress it...'.format(bz2_local_model_file))\n",
    "        unzip_bz2(bz2_local_model_file, local_model_file)\n",
    "\n",
    "        print('* model bz2 file \"{}\" uncompressed, save as \"{}\"'.format(bz2_local_model_file, local_model_file))\n",
    "        return local_model_file\n",
    "\n",
    "    download_url = urljoin('http://dlib.net/files/', bz2_model_file)\n",
    "    print('* begin download from url \"{}\"'.format(download_url))\n",
    "\n",
    "    r = requests.get(download_url, stream=True, verify=False)\n",
    "    total_size = int(r.headers.get('Content-Length', -1))\n",
    "    print('* total file size is {}'.format(total_size))\n",
    "\n",
    "    download_size = 0\n",
    "    download_tmp_file = '{}__download.tmp'.format(bz2_local_model_file)\n",
    "    with open(download_tmp_file, 'wb') as fp:\n",
    "        print('* create download file \"{}\"'.format(download_tmp_file))\n",
    "        for chunk in r.iter_content(chunk_size=10 * (1024 ** 2)):\n",
    "            if chunk:\n",
    "                fp.write(chunk)\n",
    "                download_size += len(chunk)\n",
    "                print('* {:.2f}kb downloaded'.format(download_size / 1024), end='\\r')\n",
    "            else:\n",
    "                print('* download completed')\n",
    "\n",
    "    rename(download_tmp_file, bz2_local_model_file)\n",
    "    print('* rename \"{}\" to \"{}\"'.format(download_tmp_file, bz2_local_model_file))\n",
    "\n",
    "    unzip_bz2(bz2_local_model_file, local_model_file)\n",
    "    print('* model bz2 file \"{}\" uncompressed, save as \"{}\"'.format(bz2_local_model_file, local_model_file))\n",
    "    \n",
    "    return local_model_file"
   ]
  },
  {
   "cell_type": "markdown",
   "metadata": {},
   "source": [
    "## Face detect"
   ]
  },
  {
   "cell_type": "markdown",
   "metadata": {},
   "source": [
    "- Load face image"
   ]
  },
  {
   "cell_type": "code",
   "execution_count": null,
   "metadata": {},
   "outputs": [],
   "source": [
    "_, face_file = dataset.one_face()\n",
    "detect_im = np.array(Image.open(face_file).convert('RGB'))\n",
    "\n",
    "plt.imshow(detect_im)\n",
    "plt.show()"
   ]
  },
  {
   "cell_type": "markdown",
   "metadata": {},
   "source": [
    "### HOG algorithm"
   ]
  },
  {
   "cell_type": "code",
   "execution_count": null,
   "metadata": {},
   "outputs": [],
   "source": [
    "face_detector = dlib.get_frontal_face_detector()\n",
    "\n",
    "boxes = face_detector(detect_im, 1)\n",
    "print('* {} faces detected, boxes is \"{}\"'.format(len(boxes), boxes))\n",
    "\n",
    "img = Image.fromarray(detect_im)\n",
    "draw = ImageDraw.Draw(img)\n",
    "\n",
    "for box in boxes:\n",
    "    box = [(box.left(), box.top()), (box.right(), box.bottom())]\n",
    "    draw_rectange(draw, box, outline='#fff')\n",
    "\n",
    "plt.imshow(img)\n",
    "plt.show()"
   ]
  },
  {
   "cell_type": "markdown",
   "metadata": {},
   "source": [
    "### CNN algorithm"
   ]
  },
  {
   "cell_type": "code",
   "execution_count": null,
   "metadata": {},
   "outputs": [],
   "source": [
    "model_file = download_model(mmod_human_face_detector)\n",
    "\n",
    "if not cnn_face_detector:\n",
    "    cnn_face_detector = dlib.cnn_face_detection_model_v1(model_file)\n",
    "\n",
    "boxes = cnn_face_detector(detect_im, 1)\n",
    "print('* {} faces detected, boxes is \"{}\"'.format(len(boxes), boxes))\n",
    "\n",
    "img = Image.fromarray(detect_im)\n",
    "draw = ImageDraw.Draw(img)\n",
    "\n",
    "for box in boxes:\n",
    "    box = box.rect\n",
    "    box = [(box.left(), box.top()), (box.right(), box.bottom())]\n",
    "    draw_rectange(draw, box, outline='#fff')\n",
    "\n",
    "plt.imshow(img)\n",
    "plt.show()"
   ]
  }
 ],
 "metadata": {
  "kernelspec": {
   "display_name": "Python 3",
   "language": "python",
   "name": "python3"
  },
  "language_info": {
   "codemirror_mode": {
    "name": "ipython",
    "version": 3
   },
   "file_extension": ".py",
   "mimetype": "text/x-python",
   "name": "python",
   "nbconvert_exporter": "python",
   "pygments_lexer": "ipython3",
   "version": "3.7.2"
  }
 },
 "nbformat": 4,
 "nbformat_minor": 4
}
