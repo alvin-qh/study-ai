{
 "cells": [
  {
   "cell_type": "markdown",
   "metadata": {},
   "source": [
    "# 随机数"
   ]
  },
  {
   "cell_type": "code",
   "execution_count": null,
   "metadata": {},
   "outputs": [],
   "source": [
    "from __future__ import absolute_import, division, print_function, unicode_literals\n",
    "import numpy as np\n",
    "\n",
    "def ndarray_to_str(t: np.ndarray):\n",
    "    if type(t) != np.ndarray:\n",
    "        t = np.array(t)\n",
    "        \n",
    "    s = '\\n{} (shape={}, dtype={})'.format(t, t.shape, t.dtype)\n",
    "    s = s.replace('\\n', '\\n\\t')\n",
    "    return s"
   ]
  },
  {
   "cell_type": "markdown",
   "metadata": {},
   "source": [
    "## 随机张量"
   ]
  },
  {
   "cell_type": "markdown",
   "metadata": {},
   "source": [
    "### 常量"
   ]
  },
  {
   "cell_type": "code",
   "execution_count": null,
   "metadata": {},
   "outputs": [],
   "source": [
    "ones = np.ones((3, 4))\n",
    "print('* \"np.ones((3, 4))\" is:{}'.format(ndarray_to_str(ones)))\n",
    "\n",
    "zeros = np.zeros((3, 4))\n",
    "print('* \"np.zeros((3, 4))\" is:{}'.format(ndarray_to_str(zeros)))\n",
    "\n",
    "zeros_like = np.zeros_like(ones)\n",
    "print('* \"np.zeros_like(ones)\" is:{}'.format(ndarray_to_str(zeros_like)))\n",
    "\n",
    "ones_like = np.ones_like(zeros)\n",
    "print('* \"np.ones_like(zeros)\" is:{}'.format(ndarray_to_str(ones_like)))"
   ]
  },
  {
   "cell_type": "markdown",
   "metadata": {},
   "source": [
    "### 随机分布"
   ]
  },
  {
   "cell_type": "code",
   "execution_count": null,
   "metadata": {},
   "outputs": [],
   "source": [
    "low, high = 0.1, 0.7\n",
    "\n",
    "t = np.random.uniform(low=low, high=high, size=10)\n",
    "print('* \"np.random.uniform(low=0.1, high=0.7, size=10)\" is:{}'.format(ndarray_to_str(t)))\n",
    "\n",
    "m = np.mean(t)\n",
    "print('* mean of array is {}, and mean of (0.1, 0,7) is {}'.format(m, (low + high) / 2))\n",
    "\n",
    "t = np.random.uniform(low=low, high=high, size=(3, 4))\n",
    "print('\\n* \"np.random.uniform(low=0.1, high=0.7, size=(3, 4))\" is:{}'.format(ndarray_to_str(t)))"
   ]
  },
  {
   "cell_type": "markdown",
   "metadata": {},
   "source": [
    "### 均匀分布\n",
    "\n",
    "- `np.random.rand(a1, a2, a3, ...)`生成形状为`(a1, a2, a3, ...)`, $[0,1)$之间的**均匀分布**随机数"
   ]
  },
  {
   "cell_type": "code",
   "execution_count": null,
   "metadata": {},
   "outputs": [],
   "source": [
    "low, high = 0.1, 0.7\n",
    "\n",
    "t = np.random.rand(10)\n",
    "print('* \"np.random.rand(10)\" is:{}'.format(ndarray_to_str(t)))\n",
    "\n",
    "m = np.mean(t)\n",
    "print('* mean of array is {}, and mean of (0, 1) is {}'.format(m, 1 / 2))\n",
    "\n",
    "t = np.random.rand(10) * (high - low) + low\n",
    "print('\\n* \"np.random.rand(10) * (high - low) + low\" is:{}'.format(ndarray_to_str(t)))\n",
    "\n",
    "m = np.mean(t)\n",
    "print('* mean of array is {}, and mean of (0.1, 0,7) is {}'.format(m, (low + high) / 2))\n",
    "\n",
    "t = np.random.rand(3, 4) * (high - low) + low\n",
    "print('\\n* \"np.random.rand(3, 4) * (high - low) + low\" is:{}'.format(ndarray_to_str(t)))\n",
    "\n",
    "m = np.mean(t)\n",
    "print('* mean of array is {}'.format(m))"
   ]
  },
  {
   "cell_type": "markdown",
   "metadata": {},
   "source": [
    "### 正态分布\n",
    "\n",
    "- 正态分布即高斯分布，`np.random.randn(a1, a2, a3, ...)`生成形状为`(a1, a2, a3, ...)`的**标准正态分布**随机数\n",
    "- 若要获得**一般正态分布**，即 $N(\\mu,\\sigma^2)$ (其中 $\\mu$ 表示平均值，$\\sigma^2$ 表示方差)，可用公式 `sigma * np.random.randn(...) + mu`"
   ]
  },
  {
   "cell_type": "code",
   "execution_count": null,
   "metadata": {},
   "outputs": [],
   "source": [
    "t = np.random.randn(10)\n",
    "print('* \"np.random.randn(10)\" is:{}'.format(ndarray_to_str(t)))\n",
    "\n",
    "mu = 2.5  # 平均值 2.5\n",
    "sigma = 5  # 方差5\n",
    "\n",
    "t = sigma * np.random.randn(10) + mu\n",
    "print('* \"sigma * np.random.randn(10) + mu\" is:{}'.format(ndarray_to_str(t)))\n",
    "\n",
    "t = sigma * np.random.randn(3, 4) + mu\n",
    "print('* \"sigma * np.random.randn(3, 4) + mu\" is:{}'.format(ndarray_to_str(t)))"
   ]
  },
  {
   "cell_type": "markdown",
   "metadata": {},
   "source": [
    "### 随机整数"
   ]
  },
  {
   "cell_type": "code",
   "execution_count": null,
   "metadata": {},
   "outputs": [],
   "source": [
    "low, high = 5, 10\n",
    "\n",
    "t = np.random.randint(low=low, high=high, size=10)\n",
    "print('* \"np.random.randint(low=low, high=high, size=10)\" is:{}'.format(ndarray_to_str(t)))\n",
    "\n",
    "m = np.mean(t)\n",
    "print('* mean of array is {}, and mean of (5, 10) is {}'.format(m, (low + high) / 2))\n",
    "\n",
    "t = np.random.randint(low=low, high=high, size=(3, 4))\n",
    "print('\\n* \"np.random.randint(low=low, high=high, size=(3, 4))\" is:{}'.format(ndarray_to_str(t)))"
   ]
  }
 ],
 "metadata": {
  "kernelspec": {
   "display_name": "Python 3",
   "language": "python",
   "name": "python3"
  },
  "language_info": {
   "codemirror_mode": {
    "name": "ipython",
    "version": 3
   },
   "file_extension": ".py",
   "mimetype": "text/x-python",
   "name": "python",
   "nbconvert_exporter": "python",
   "pygments_lexer": "ipython3",
   "version": "3.7.2"
  }
 },
 "nbformat": 4,
 "nbformat_minor": 4
}
