{
 "cells": [
  {
   "cell_type": "markdown",
   "metadata": {},
   "source": [
    "# 矩阵和张量"
   ]
  },
  {
   "cell_type": "code",
   "execution_count": null,
   "metadata": {},
   "outputs": [],
   "source": [
    "from __future__ import absolute_import, division, print_function, unicode_literals\n",
    "import numpy as np\n",
    "\n",
    "def ndarray_to_str(t: np.ndarray):\n",
    "    if type(t) != np.ndarray:\n",
    "        t = np.array(t)\n",
    "        \n",
    "    s = '\\n{} (shape={}, dtype={})'.format(t, t.shape, t.dtype)\n",
    "    s = s.replace('\\n', '\\n\\t')\n",
    "    return s"
   ]
  },
  {
   "cell_type": "markdown",
   "metadata": {},
   "source": [
    "## 张量索引"
   ]
  },
  {
   "cell_type": "markdown",
   "metadata": {},
   "source": [
    "- 利用索引获取张量不同维度的数据"
   ]
  },
  {
   "cell_type": "code",
   "execution_count": null,
   "metadata": {},
   "outputs": [],
   "source": [
    "t = np.reshape(np.arange(1, 81.), (2, 2, 4, 5))\n",
    "print('* when tensor t is:{}'.format(ndarray_to_str(t)))\n",
    "\n",
    "t_ = t[0]\n",
    "print('\\n* then t[0] is:{}'.format(ndarray_to_str(t_)))\n",
    "\n",
    "t_ = t[0, 1]\n",
    "print('\\n* and t[0, 1] is:{}'.format(ndarray_to_str(t_)))\n",
    "\n",
    "t_ = t[0, 1, 2]\n",
    "print('\\n* and t[0, 1, 2] is:{}'.format(ndarray_to_str(t_)))\n",
    "\n",
    "t_ = t[0, 1, 2, 3]\n",
    "print('\\n* and t[0, 1, 2, 3] is:{}'.format(ndarray_to_str(t_)))"
   ]
  },
  {
   "cell_type": "markdown",
   "metadata": {},
   "source": [
    "- 组合索引"
   ]
  },
  {
   "cell_type": "code",
   "execution_count": null,
   "metadata": {},
   "outputs": [],
   "source": [
    "t = np.reshape(np.arange(1, 21.), (4, 5))\n",
    "print('* when tensor t is:{}'.format(ndarray_to_str(t)))\n",
    "\n",
    "t_ = t[[0, 2, 3]]  # 维度 0, 表示取索引为 0, 2, 3 的行\n",
    "print('\\n* then t[[0, 2, 3]] is:{}'.format(ndarray_to_str(t_)))\n",
    "\n",
    "t_ = t[..., [0, 2, 3]]  # 维度 1, 表示取索引为 0, 2, 3 的列\n",
    "print('\\n* and t[..., [0, 2, 3]] is:{}'.format(ndarray_to_str(t_)))\n",
    "\n",
    "\"\"\"\n",
    "对于 numpy，t[[1, 2], [3, 4]] 表示，第一维取 1, 2，即第 1 行和第 2 行，第二维取 3, 4，即在之前的结果上取第 3 列和第 4 列\n",
    "\"\"\"\n",
    "t_ = t[[1, 2], [3, 4]]  # 取第 1 行的第 3 列以及第 2 行的第 4 列\n",
    "print('\\n* and t[[1, 2], [3, 4]] is:{}'.format(ndarray_to_str(t_)))"
   ]
  },
  {
   "cell_type": "markdown",
   "metadata": {},
   "source": [
    "- 索引切片"
   ]
  },
  {
   "cell_type": "code",
   "execution_count": null,
   "metadata": {},
   "outputs": [],
   "source": [
    "t = np.reshape(np.arange(1, 81.), (2, 2, 4, 5))\n",
    "print('* when tensor t is:{}'.format(ndarray_to_str(t)))\n",
    "\n",
    "t_ = t[:, 1:]\n",
    "print('\\n* then t[:, 1] is:{}'.format(ndarray_to_str(t_)))\n",
    "\n",
    "t_ = t[:, 1:, 2:4, 3]\n",
    "print('\\n* and t[:, 1:, 3] is:{}'.format(ndarray_to_str(t_)))\n",
    "\n",
    "t_ = t[:, 1:, 2:4, 1:3]\n",
    "print('\\n* and t[:, 1:, 1:3] is:{}'.format(ndarray_to_str(t_)))\n",
    "\n",
    "t_ = t[..., 1:3]  # t_ = t[:, :, :, 1:3]\n",
    "print('\\n* and t[..., 1:3] is:{}'.format(ndarray_to_str(t_)))"
   ]
  },
  {
   "cell_type": "markdown",
   "metadata": {},
   "source": [
    "## 查找"
   ]
  },
  {
   "cell_type": "markdown",
   "metadata": {},
   "source": [
    "- Find by conditions"
   ]
  },
  {
   "cell_type": "code",
   "execution_count": null,
   "metadata": {},
   "outputs": [],
   "source": [
    "t = np.random.randint(low=-3, high=3, size=5)\n",
    "print('* when tensor t is:{}'.format(ndarray_to_str(t)))\n",
    "\n",
    "indecs = np.where(t < 0)\n",
    "print('* then \"np.where(t < 0)\" is {}'.format(indecs))\n",
    "\n",
    "t_ = t[indecs]\n",
    "print('* and \"t[t < 0]\" is {}'.format(ndarray_to_str(t_)))\n",
    "\n",
    "t = np.random.randint(low=-3, high=3, size=(2, 3, 4))\n",
    "print('\\n* when tensor t is:{}'.format(ndarray_to_str(t)))\n",
    "\n",
    "indecs = np.where(t < 0)\n",
    "print('* then \"np.where(t < 0)\" is {}'.format(ndarray_to_str(list(zip(indecs[0], indecs[1], indecs[2])))))\n",
    "\n",
    "t_ = t[indecs]\n",
    "print('* and \"t[t < 0]\" is {}'.format(ndarray_to_str(t_)))"
   ]
  },
  {
   "cell_type": "markdown",
   "metadata": {},
   "source": [
    "- Boolean mask"
   ]
  },
  {
   "cell_type": "code",
   "execution_count": null,
   "metadata": {},
   "outputs": [],
   "source": [
    "t = np.reshape(np.arange(1, 21.), (4, 5))\n",
    "print('* when tensor t is: {}'.format(ndarray_to_str(t)))\n",
    "\n",
    "bm = np.array(\n",
    "    [\n",
    "        [True, False, True, True, False],\n",
    "        [True, False, True, True, False],\n",
    "        [True, False, True, True, False],\n",
    "        [True, False, True, True, False]\n",
    "    ]\n",
    ")\n",
    "print('* and boolean mask bm is: {}'.format(ndarray_to_str(bm)))\n",
    "\n",
    "t_ = t[bm]\n",
    "print('* then \"t[bm]\" is: {}'.format(ndarray_to_str(t_)))\n",
    "\n",
    "bm = t % 2 == 0\n",
    "print('\\n* and boolean mask bm is: {}'.format(ndarray_to_str(bm)))\n",
    "\n",
    "t_ = t[bm]\n",
    "print('* then \"t[bm]\" is: {}'.format(ndarray_to_str(t_)))"
   ]
  }
 ],
 "metadata": {
  "kernelspec": {
   "display_name": "Python 3",
   "language": "python",
   "name": "python3"
  },
  "language_info": {
   "codemirror_mode": {
    "name": "ipython",
    "version": 3
   },
   "file_extension": ".py",
   "mimetype": "text/x-python",
   "name": "python",
   "nbconvert_exporter": "python",
   "pygments_lexer": "ipython3",
   "version": "3.7.2"
  }
 },
 "nbformat": 4,
 "nbformat_minor": 4
}
