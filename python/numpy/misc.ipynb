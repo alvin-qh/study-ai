{
 "cells": [
  {
   "cell_type": "markdown",
   "metadata": {},
   "source": [
    "# 收集箱"
   ]
  },
  {
   "cell_type": "code",
   "execution_count": null,
   "metadata": {},
   "outputs": [],
   "source": [
    "from __future__ import absolute_import, division, print_function, unicode_literals\n",
    "import numpy as np\n",
    "\n",
    "def ndarray_to_str(t: np.ndarray):\n",
    "    if type(t) != np.ndarray:\n",
    "        t = np.array(t)\n",
    "        \n",
    "    s = '\\n{} (shape={}, dtype={})'.format(t, t.shape, t.dtype)\n",
    "    s = s.replace('\\n', '\\n\\t')\n",
    "    return s"
   ]
  },
  {
   "cell_type": "markdown",
   "metadata": {},
   "source": [
    "### 张量组合\n",
    "\n",
    "- `np.c_`操作符用于组合多个不同的张量\n",
    "- 对于一个长度为`n`的矢量`t`，`np.c_[t]`相当于reshape为`(n, 1)`\n",
    "- `np.c_[a, b, c, ...]` 可以合并`a, b, c, ...` 张量为一个张量，要求所有张量形状相同"
   ]
  },
  {
   "cell_type": "code",
   "execution_count": null,
   "metadata": {},
   "outputs": [],
   "source": [
    "a = np.arange(1, 13)\n",
    "print('* when tensor a is:{}'.format(ndarray_to_str(a)))\n",
    "\n",
    "r = np.c_[a]\n",
    "print('  then \"np.c_[a]\" is:{}'.format(ndarray_to_str(r)))\n",
    "\n",
    "a = np.reshape(np.arange(1, 13), (3, 4))\n",
    "print('\\n* when tensor a is:{}'.format(ndarray_to_str(a)))\n",
    "\n",
    "b = np.reshape(np.arange(12, 0, step=-1), (3, 4))\n",
    "print('  and tensor b is:{}'.format(ndarray_to_str(b)))\n",
    "\n",
    "r = np.c_[a, b]\n",
    "print('  then \"np.c_[a, b]\" is:{}'.format(ndarray_to_str(r)))"
   ]
  },
  {
   "cell_type": "markdown",
   "metadata": {},
   "source": [
    "### 求平均值"
   ]
  },
  {
   "cell_type": "code",
   "execution_count": 38,
   "metadata": {},
   "outputs": [
    {
     "name": "stdout",
     "output_type": "stream",
     "text": [
      "* when tensor a is:\n",
      "\t[ 1.  2.  3.  4.  5.  6.  7.  8.  9. 10. 11. 12.] (shape=(12,), dtype=float64)\n",
      "  then \"np.mean(a)\" is:\n",
      "\t6.5 (shape=(), dtype=float64)\n"
     ]
    },
    {
     "ename": "TypeError",
     "evalue": "random() takes at most 1 positional argument (2 given)",
     "output_type": "error",
     "traceback": [
      "\u001b[0;31m---------------------------------------------------------------------------\u001b[0m",
      "\u001b[0;31mTypeError\u001b[0m                                 Traceback (most recent call last)",
      "\u001b[0;32m<ipython-input-38-9dc54ac277f6>\u001b[0m in \u001b[0;36m<module>\u001b[0;34m\u001b[0m\n\u001b[1;32m      5\u001b[0m \u001b[0mprint\u001b[0m\u001b[0;34m(\u001b[0m\u001b[0;34m'  then \"np.mean(a)\" is:{}'\u001b[0m\u001b[0;34m.\u001b[0m\u001b[0mformat\u001b[0m\u001b[0;34m(\u001b[0m\u001b[0mndarray_to_str\u001b[0m\u001b[0;34m(\u001b[0m\u001b[0mm\u001b[0m\u001b[0;34m)\u001b[0m\u001b[0;34m)\u001b[0m\u001b[0;34m)\u001b[0m\u001b[0;34m\u001b[0m\u001b[0;34m\u001b[0m\u001b[0m\n\u001b[1;32m      6\u001b[0m \u001b[0;34m\u001b[0m\u001b[0m\n\u001b[0;32m----> 7\u001b[0;31m \u001b[0ma\u001b[0m \u001b[0;34m=\u001b[0m \u001b[0mnp\u001b[0m\u001b[0;34m.\u001b[0m\u001b[0mrandom\u001b[0m\u001b[0;34m.\u001b[0m\u001b[0mrandom\u001b[0m\u001b[0;34m(\u001b[0m\u001b[0;36m1\u001b[0m\u001b[0;34m,\u001b[0m \u001b[0;36m2\u001b[0m\u001b[0;34m)\u001b[0m\u001b[0;34m\u001b[0m\u001b[0;34m\u001b[0m\u001b[0m\n\u001b[0m",
      "\u001b[0;32mmtrand.pyx\u001b[0m in \u001b[0;36mnumpy.random.mtrand.RandomState.random\u001b[0;34m()\u001b[0m\n",
      "\u001b[0;31mTypeError\u001b[0m: random() takes at most 1 positional argument (2 given)"
     ]
    }
   ],
   "source": [
    "a = np.arange(1., 13.)\n",
    "print('* when tensor a is:{}'.format(ndarray_to_str(a)))\n",
    "\n",
    "m = np.mean(a)\n",
    "print('  then \"np.mean(a)\" is:{}'.format(ndarray_to_str(m)))\n",
    "\n",
    "a = np.random.random(1, 2)"
   ]
  },
  {
   "cell_type": "code",
   "execution_count": null,
   "metadata": {},
   "outputs": [],
   "source": []
  }
 ],
 "metadata": {
  "kernelspec": {
   "display_name": "Python 3",
   "language": "python",
   "name": "python3"
  },
  "language_info": {
   "codemirror_mode": {
    "name": "ipython",
    "version": 3
   },
   "file_extension": ".py",
   "mimetype": "text/x-python",
   "name": "python",
   "nbconvert_exporter": "python",
   "pygments_lexer": "ipython3",
   "version": "3.7.2"
  }
 },
 "nbformat": 4,
 "nbformat_minor": 4
}
