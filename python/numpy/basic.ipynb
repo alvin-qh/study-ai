{
 "cells": [
  {
   "cell_type": "markdown",
   "metadata": {},
   "source": [
    "# 基础"
   ]
  },
  {
   "cell_type": "code",
   "execution_count": null,
   "metadata": {},
   "outputs": [],
   "source": [
    "from __future__ import absolute_import, division, print_function, unicode_literals\n",
    "import numpy as np\n",
    "\n",
    "def ndarray_to_str(t: np.ndarray):\n",
    "    s = '\\n{} (shape={}, dtype={})'.format(t, t.shape, t.dtype)\n",
    "    s = s.replace('\\n', '\\n\\t')\n",
    "    return s"
   ]
  },
  {
   "cell_type": "markdown",
   "metadata": {},
   "source": [
    "## 基本运算"
   ]
  },
  {
   "cell_type": "markdown",
   "metadata": {},
   "source": [
    "- 标量运算\n",
    "    - $m+n$\n",
    "    - $m-n$\n",
    "    - $m*n$\n",
    "    - $m÷n$\n",
    "    - $m\\%n$"
   ]
  },
  {
   "cell_type": "code",
   "execution_count": null,
   "metadata": {},
   "outputs": [],
   "source": [
    "a = 10\n",
    "b = 0.1\n",
    "print('* when a={}, b={}'.format(a, b))\n",
    "\n",
    "r = np.add(a, b)\n",
    "print('* then \"np.add(a, b)\" is {}'.format(r))\n",
    "\n",
    "r = np.subtract(a, b)\n",
    "print('* and \"np.subtract(a, b)\" is {}'.format(r))\n",
    "\n",
    "r = np.multiply(a, b)\n",
    "print('* and \"np.multiply(a, b)\" is {}'.format(r))\n",
    "\n",
    "r = np.divide(a, b)\n",
    "print('* and \"np.divide(a, b)\" is {}'.format(r))\n",
    "\n",
    "r = np.mod(a, b)\n",
    "print('* and \"np.mod(a, b)\" is {}'.format(r))"
   ]
  },
  {
   "cell_type": "markdown",
   "metadata": {},
   "source": [
    "- $T(x, y) + n$"
   ]
  },
  {
   "cell_type": "code",
   "execution_count": null,
   "metadata": {},
   "outputs": [],
   "source": [
    "a = [[1, 2, 3], [4, 5, 6]]\n",
    "b = 2.\n",
    "print('* when a={}, b={}'.format(a, b))\n",
    "\n",
    "r = np.add(a, b)\n",
    "print('* then \"np.add(a, b)\" is {}'.format(ndarray_to_str(r)))\n",
    "\n",
    "r = np.subtract(a, b)\n",
    "print('* and \"np.subtract(a, b)\" is {}'.format(ndarray_to_str(r)))\n",
    "\n",
    "r = np.multiply(a, b)\n",
    "print('* and \"np.multiply(a, b)\" is {}'.format(ndarray_to_str(r)))\n",
    "\n",
    "r = np.divide(a, b)\n",
    "print('* and \"np.divide(a, b)\" is {}'.format(ndarray_to_str(r)))\n",
    "\n",
    "r = np.mod(a, b)\n",
    "print('* and \"np.mod(a, b)\" is {}'.format(ndarray_to_str(r)))"
   ]
  },
  {
   "cell_type": "markdown",
   "metadata": {},
   "source": [
    "- $T_1(x_1, y_1) + T_2(x_2)$"
   ]
  },
  {
   "cell_type": "code",
   "execution_count": null,
   "metadata": {},
   "outputs": [],
   "source": [
    "a = [[1, 2, 3], [4, 5, 6]]\n",
    "b = [0.1, 0.2, 0.3]\n",
    "print('* when a={}, b={}'.format(a, b))\n",
    "\n",
    "r = np.add(a, b)\n",
    "print('* then \"np.add(a, b)\" is {}'.format(ndarray_to_str(r)))\n",
    "\n",
    "r = np.subtract(a, b)\n",
    "print('* and \"np.subtract(a, b)\" is {}'.format(ndarray_to_str(r)))\n",
    "\n",
    "r = np.multiply(a, b)\n",
    "print('* and \"np.multiply(a, b)\" is {}'.format(ndarray_to_str(r)))\n",
    "\n",
    "r = np.divide(a, b)\n",
    "print('* and \"np.divide(a, b)\" is {}'.format(ndarray_to_str(r)))\n",
    "\n",
    "r = np.mod(a, b)\n",
    "print('* and \"np.mod(a, b)\" is {}'.format(ndarray_to_str(r)))"
   ]
  },
  {
   "cell_type": "markdown",
   "metadata": {},
   "source": [
    "- $T_1(x_1, y_1) + T_2(x_2, y_2)$"
   ]
  },
  {
   "cell_type": "code",
   "execution_count": null,
   "metadata": {},
   "outputs": [],
   "source": [
    "a = [[1, 2, 3], [4, 5, 6]]\n",
    "b = [[0.1, 0.2, 0.3], [0.4, 0.5, 0.6]]\n",
    "print('* when a={}, b={}'.format(a, b))\n",
    "\n",
    "r = np.add(a, b)\n",
    "print('* then \"np.add(a, b)\" is {}'.format(ndarray_to_str(r)))\n",
    "\n",
    "r = np.subtract(a, b)\n",
    "print('* and \"np.subtract(a, b)\" is {}'.format(ndarray_to_str(r)))\n",
    "\n",
    "r = np.multiply(a, b)\n",
    "print('* and \"np.multiply(a, b)\" is {}'.format(ndarray_to_str(r)))\n",
    "\n",
    "r = np.divide(a, b)\n",
    "print('* and \"np.divide(a, b)\" is {}'.format(ndarray_to_str(r)))\n",
    "\n",
    "r = np.mod(a, b)\n",
    "print('* and \"np.mod(a, b)\" is {}'.format(ndarray_to_str(r)))"
   ]
  },
  {
   "cell_type": "markdown",
   "metadata": {},
   "source": [
    "- 运算符重载"
   ]
  },
  {
   "cell_type": "code",
   "execution_count": null,
   "metadata": {},
   "outputs": [],
   "source": [
    "a = np.array([[1, 2, 3], [4, 5, 6]])\n",
    "b = np.array([[0.1, 0.2, 0.3], [0.4, 0.5, 0.6]])\n",
    "print('* when a is {}\\n  and b is {}'.format(ndarray_to_str(a), ndarray_to_str(b)))\n",
    "\n",
    "r = a + b\n",
    "print('* then \"a + b\" is {}'.format(ndarray_to_str(r)))\n",
    "\n",
    "r = a - b\n",
    "print('* and \"a - b\" is {}'.format(ndarray_to_str(r)))\n",
    "\n",
    "r = a * b\n",
    "print('* and \"a * b\" is {}'.format(ndarray_to_str(r)))\n",
    "\n",
    "r = a / b\n",
    "print('* and \"a / b\" is {}'.format(ndarray_to_str(r)))\n",
    "\n",
    "r = a % b\n",
    "print('* and \"a % b\" is {}'.format(ndarray_to_str(r)))"
   ]
  },
  {
   "cell_type": "markdown",
   "metadata": {},
   "source": [
    "- 形状广播"
   ]
  },
  {
   "cell_type": "code",
   "execution_count": null,
   "metadata": {},
   "outputs": [],
   "source": [
    "from functools import reduce\n",
    "from itertools import repeat\n",
    "\n",
    "shape1 = (4, 3, 2)\n",
    "shape2s = [(4, 3, 2), (1, 3, 2), (3, 2), (2,), (4, 3), (4, 2, 3)]\n",
    "\n",
    "def make_array_by_shape(shape, inital=1):\n",
    "    m = reduce(lambda x, y: x * y, shape)\n",
    "    return np.reshape(np.arange(inital, m + inital), shape)\n",
    "\n",
    "\n",
    "for s1, s2 in zip(repeat(shape1), shape2s):\n",
    "    a = make_array_by_shape(s1)\n",
    "    b = make_array_by_shape(s2, inital=10)\n",
    "    try:\n",
    "        t = a + b\n",
    "        print('* shapes {} and {} can be evaluated, '\n",
    "              'and answer shape is {}'.format(a.shape, b.shape, t.shape))\n",
    "    except Exception as e:\n",
    "        print('* {}'.format(e))"
   ]
  },
  {
   "cell_type": "code",
   "execution_count": null,
   "metadata": {},
   "outputs": [],
   "source": [
    "a = np.array(np.arange(1, 13).reshape((2, 3, 2)))\n",
    "print(a)\n",
    "b = np.array(np.arange(6).reshape((2, 3, 1)))\n",
    "print(b)\n",
    "\n",
    "r = np.c_[a, b]\n",
    "print(r)"
   ]
  }
 ],
 "metadata": {
  "kernelspec": {
   "display_name": "Python 3",
   "language": "python",
   "name": "python3"
  },
  "language_info": {
   "codemirror_mode": {
    "name": "ipython",
    "version": 3
   },
   "file_extension": ".py",
   "mimetype": "text/x-python",
   "name": "python",
   "nbconvert_exporter": "python",
   "pygments_lexer": "ipython3",
   "version": "3.7.4"
  }
 },
 "nbformat": 4,
 "nbformat_minor": 4
}
