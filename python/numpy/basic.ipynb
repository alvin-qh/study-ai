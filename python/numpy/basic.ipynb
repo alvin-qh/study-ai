{
 "cells": [
  {
   "cell_type": "markdown",
   "metadata": {},
   "source": [
    "# Basic of numpy"
   ]
  },
  {
   "cell_type": "code",
   "execution_count": null,
   "metadata": {},
   "outputs": [],
   "source": [
    "from __future__ import absolute_import, division, print_function, unicode_literals\n",
    "import numpy as np\n",
    "\n",
    "def ndarray_to_str(t: np.ndarray):\n",
    "    s = '\\n{} (shape={}, dtype={})'.format(t, t.shape, t.dtype)\n",
    "    s = s.replace('\\n', '\\n\\t')\n",
    "    return s"
   ]
  },
  {
   "cell_type": "markdown",
   "metadata": {},
   "source": [
    "## Calculate"
   ]
  },
  {
   "cell_type": "markdown",
   "metadata": {},
   "source": [
    "### Add"
   ]
  },
  {
   "cell_type": "markdown",
   "metadata": {},
   "source": [
    "- $m+n$"
   ]
  },
  {
   "cell_type": "code",
   "execution_count": null,
   "metadata": {},
   "outputs": [],
   "source": [
    "a = 10\n",
    "b = 0.1\n",
    "r = np.add(a, b)\n",
    "print('* when a={}, b={}, \"np.add(a, b)\" is {}'.format(a, b, r))"
   ]
  },
  {
   "cell_type": "markdown",
   "metadata": {},
   "source": [
    "- $T(x, y) + n$"
   ]
  },
  {
   "cell_type": "code",
   "execution_count": null,
   "metadata": {},
   "outputs": [],
   "source": [
    "a = [[1, 2, 3], [4, 5, 6]]\n",
    "b = 0.1\n",
    "r = np.add(a, b)\n",
    "print('* when a={}, b={}, \"np.add(a, b)\" is {}'.format(a, b, ndarray_to_str(r)))"
   ]
  },
  {
   "cell_type": "markdown",
   "metadata": {},
   "source": [
    "- $T_1(x_1, y_1) + T_2(x_2)$"
   ]
  },
  {
   "cell_type": "code",
   "execution_count": null,
   "metadata": {},
   "outputs": [],
   "source": [
    "a = [[1, 2, 3], [4, 5, 6]]\n",
    "b = [0.1, 0.2, 0.3]\n",
    "r = np.add(a, b)\n",
    "print('* when a={}, b={}, \"np.add(a, b)\" is {}'.format(a, b, ndarray_to_str(r)))"
   ]
  },
  {
   "cell_type": "markdown",
   "metadata": {},
   "source": [
    "- $T_1(x_1, y_1) + T_2(x_2, y_2)$"
   ]
  },
  {
   "cell_type": "code",
   "execution_count": null,
   "metadata": {},
   "outputs": [],
   "source": [
    "a = [[1, 2, 3], [4, 5, 6]]\n",
    "b = [[0.1, 0.2, 0.3], [0.4, 0.5, 0.6]]\n",
    "r = np.add(a, b)\n",
    "print('* when a={}, b={}, \"np.add(a, b)\" is {}'.format(a, b, ndarray_to_str(r)))"
   ]
  },
  {
   "cell_type": "markdown",
   "metadata": {},
   "source": [
    "- Operator override"
   ]
  },
  {
   "cell_type": "code",
   "execution_count": 42,
   "metadata": {},
   "outputs": [
    {
     "name": "stdout",
     "output_type": "stream",
     "text": [
      "* when \"a\" is: \n",
      "\t[[1 2 3]\n",
      "\t [4 5 6]] (shape=(2, 3), dtype=int64)\n",
      "  and \"b\" is: \n",
      "\t[[0.1 0.2 0.3]\n",
      "\t [0.4 0.5 0.6]] (shape=(2, 3), dtype=float64)\n",
      "  then \"np.add(a, b)\" is: \n",
      "\t[[1.1 2.2 3.3]\n",
      "\t [4.4 5.5 6.6]] (shape=(2, 3), dtype=float64)\n"
     ]
    }
   ],
   "source": [
    "a = np.array([[1, 2, 3], [4, 5, 6]])\n",
    "b = np.array([[0.1, 0.2, 0.3], [0.4, 0.5, 0.6]])\n",
    "r = a + b\n",
    "print('* when \"a\" is: {}\\n  and \"b\" is: {}\\n  then \"np.add(a, b)\" is: {}'.format(ndarray_to_str(a), ndarray_to_str(b), ndarray_to_str(r)))"
   ]
  },
  {
   "cell_type": "markdown",
   "metadata": {},
   "source": [
    "- Wrong shapes of two addtions"
   ]
  },
  {
   "cell_type": "code",
   "execution_count": null,
   "metadata": {},
   "outputs": [],
   "source": [
    "a = [[1, 2, 3], [4, 5, 6]]\n",
    "b = [0.1, 0.2, 0.3, 0.4]\n",
    "try:\n",
    "    np.add(a, b)\n",
    "except Exception as err:\n",
    "    print('* error caused: {}'.format(err))\n",
    "\n",
    "\n",
    "a = [[1, 2, 3], [4, 5, 6]]\n",
    "b = [[0.1, 0.2], [0.4, 0.5]]\n",
    "try:\n",
    "    np.add(a, b)\n",
    "except Exception as err:\n",
    "    print('* error caused: {}'.format(err))"
   ]
  },
  {
   "cell_type": "code",
   "execution_count": 61,
   "metadata": {},
   "outputs": [
    {
     "name": "stdout",
     "output_type": "stream",
     "text": [
      "[[[ 1  2]\n",
      "  [ 3  4]\n",
      "  [ 5  6]]\n",
      "\n",
      " [[ 7  8]\n",
      "  [ 9 10]\n",
      "  [11 12]]]\n",
      "[[[0]\n",
      "  [1]\n",
      "  [2]]\n",
      "\n",
      " [[3]\n",
      "  [4]\n",
      "  [5]]]\n",
      "[[[ 1  2  0]\n",
      "  [ 3  4  1]\n",
      "  [ 5  6  2]]\n",
      "\n",
      " [[ 7  8  3]\n",
      "  [ 9 10  4]\n",
      "  [11 12  5]]]\n"
     ]
    }
   ],
   "source": [
    "a = np.array(np.arange(1, 13).reshape((2, 3, 2)))\n",
    "print(a)\n",
    "b = np.array(np.arange(6).reshape((2, 3, 1)))\n",
    "print(b)\n",
    "\n",
    "r = np.c_[a, b]\n",
    "print(r)"
   ]
  }
 ],
 "metadata": {
  "kernelspec": {
   "display_name": "Python 3",
   "language": "python",
   "name": "python3"
  },
  "language_info": {
   "codemirror_mode": {
    "name": "ipython",
    "version": 3
   },
   "file_extension": ".py",
   "mimetype": "text/x-python",
   "name": "python",
   "nbconvert_exporter": "python",
   "pygments_lexer": "ipython3",
   "version": "3.7.4"
  }
 },
 "nbformat": 4,
 "nbformat_minor": 4
}
