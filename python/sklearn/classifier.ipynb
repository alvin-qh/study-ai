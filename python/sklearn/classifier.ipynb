{
 "cells": [
  {
   "cell_type": "markdown",
   "metadata": {},
   "source": [
    "# Sklearn classifier"
   ]
  },
  {
   "cell_type": "code",
   "execution_count": null,
   "metadata": {},
   "outputs": [],
   "source": [
    "from __future__ import absolute_import, division, print_function, unicode_literals"
   ]
  },
  {
   "cell_type": "markdown",
   "metadata": {},
   "source": [
    "## Prepare"
   ]
  },
  {
   "cell_type": "markdown",
   "metadata": {},
   "source": [
    "### Prepare data\n",
    "\n",
    "- Country data:\n",
    "\n",
    "    Merge `data/weo.csv` and `data/bli.csv` csv files, and got data table as following:\n",
    "\n",
    "    <table width=\"80%\" border=\"1\" align=\"left\" cellpadding=\"0\" cellspacing=\"0\">\n",
    "        <thead>\n",
    "            <tr>\n",
    "                <td>Country</td>\n",
    "                <td>GDP per capita</td>\n",
    "                <td>Life satisfaction</td>\n",
    "            </tr>\n",
    "        </thead>\n",
    "        <tbody>\n",
    "            <tr>\n",
    "                <td>Australia</td>\n",
    "                <td>50961.87</td>\n",
    "                <td>7.3</td>\n",
    "            </tr>\n",
    "            <tr>\n",
    "                <td>...</td>\n",
    "                <td>...</td>\n",
    "                <td>...</td>\n",
    "            </tr>\n",
    "        </tbody>\n",
    "    </table>"
   ]
  },
  {
   "cell_type": "code",
   "execution_count": null,
   "metadata": {},
   "outputs": [],
   "source": [
    "import pandas as pd\n",
    "import numpy as np\n",
    "\n",
    "from os import curdir, path\n",
    "from sklearn.datasets import load_iris\n",
    "\n",
    "data_dir = path.abspath(path.join(curdir, 'data'))\n",
    "\n",
    "oecd_bli_dir = path.join(data_dir, 'bli.csv')\n",
    "gdp_per_capita_dir = path.join(data_dir, 'weo.csv')\n",
    "\n",
    "oecd_bli = pd.read_csv(oecd_bli_dir, thousands=',', na_values=\"n/a\")\n",
    "gdp_per_capita = pd.read_csv(gdp_per_capita_dir, thousands=',', na_values=\"n/a\")\n",
    "print('* load \"bli.csv\" and \"weo.csv\"')\n",
    "\n",
    "oecd_bli = oecd_bli[oecd_bli['INEQUALITY'] == 'TOT']\n",
    "print('* filter \"bli.csv\" with \"INEQUALITY\" colume is \"TOT\"')\n",
    "\n",
    "oecd_bli = oecd_bli.pivot(index='Country', columns='Indicator', values='Value')\n",
    "print('* make pivo-table based on \"bli.csv\" data, every \"Country\", each \"Indicator\" as colume')\n",
    "\n",
    "gdp_per_capita.rename(columns={'2015': 'GDP per capita'}, inplace=True)\n",
    "print('* rename \"2015\" field to \"GDP per capita\" in \"weo.csv\" ')\n",
    "\n",
    "gdp_per_capita.set_index(\"Country\", inplace=True)\n",
    "print('* set \"Country\" field as index in \"weo.csv\" ')\n",
    "\n",
    "full_country_stats = pd.merge(left=oecd_bli, right=gdp_per_capita, left_index=True, right_index=True)\n",
    "print('* merge two data tables')\n",
    "\n",
    "country_stats = full_country_stats[['GDP per capita', 'Life satisfaction']]\n",
    "print('* keep \"GDP per capita\" and \"Life satisfaction\" columns')\n",
    "\n",
    "# remove_indices = [0, 1, 6, 8, 33, 34, 35]\n",
    "# keep_indices = list(set(range(36)) - set(remove_indices))\n",
    "# country_stats = country_stats.iloc[keep_indices]\n",
    "\n",
    "print('* country data load completed')\n",
    "\n",
    "iris_dataset = load_iris()\n",
    "\n",
    "iris_data = iris_dataset.data\n",
    "iris_labels = iris_dataset.target\n",
    "iris_classes = iris_dataset.target_names\n",
    "\n",
    "print('* iris data loaded')"
   ]
  },
  {
   "cell_type": "markdown",
   "metadata": {},
   "source": [
    "## Linear classifier"
   ]
  },
  {
   "cell_type": "code",
   "execution_count": null,
   "metadata": {},
   "outputs": [],
   "source": [
    "from sklearn import linear_model\n",
    "\n",
    "print(country_stats.head(20))\n",
    "\n",
    "# this is an ingenious method to convert a tensor from shape '(n,)' to shape'(n, 1)'\n",
    "gdp_per_capita = np.c_[country_stats['GDP per capita']]\n",
    "life_satisfaction = np.c_[country_stats['Life satisfaction']]\n",
    "\n",
    "clf = linear_model.LinearRegression()\n",
    "clf.fit(gdp_per_capita, life_satisfaction)\n",
    "\n",
    "new_gdp = 22587\n",
    "new_life_satisfaction = clf.predict(X=[[new_gdp]])\n",
    "print('* GDP \"{}\" may got life satisfaction {:.2f}'.format(new_gdp, new_life_satisfaction[0][0]))"
   ]
  },
  {
   "cell_type": "markdown",
   "metadata": {},
   "source": [
    "## Linear SVC classifier"
   ]
  },
  {
   "cell_type": "code",
   "execution_count": null,
   "metadata": {},
   "outputs": [],
   "source": [
    "from sklearn import svm\n",
    "from sklearn.model_selection import train_test_split\n",
    "\n",
    "import random as rdm\n",
    "\n",
    "x_train, x_test, y_train, y_test = train_test_split(iris_data, iris_labels, test_size=0.10, random_state=2)\n",
    "\n",
    "# clf = svm.LinearSVC(multi_class='ovr', random_state=0, C=1, max_iter=2500)\n",
    "clf = svm.SVC(kernel='linear', probability=True, random_state=0, C=1, max_iter=2500)\n",
    "clf.fit(x_train, y_train)\n",
    "\n",
    "results = clf.predict(x_test)\n",
    "correct_prediction = [1 if r else 0 for r in y_test == results]\n",
    "print('* correct prediction is: {:.2f}'.format(np.mean(correct_prediction)))\n",
    "\n",
    "random_feature = rdm.choice(list(zip(x_test, y_test)))\n",
    "actual_label = clf.predict([random_feature[0]])\n",
    "print('* expected label is \"{}\" and actual_label is \"{}\"'.format(random_feature[1], actual_label[0]))\n",
    "print('* class name is \"{}\"'.format(iris_classes[actual_label[0]]))"
   ]
  },
  {
   "cell_type": "markdown",
   "metadata": {},
   "source": [
    "## KNN Classifier"
   ]
  },
  {
   "cell_type": "code",
   "execution_count": null,
   "metadata": {},
   "outputs": [],
   "source": [
    "from sklearn import neighbors as nb\n",
    "from sklearn.model_selection import train_test_split\n",
    "\n",
    "import random as rdm\n",
    "\n",
    "x_train, x_test, y_train, y_test = train_test_split(iris_data, iris_labels, test_size=0.10, random_state=2)\n",
    "\n",
    "clf = nb.KNeighborsClassifier(n_neighbors=1, algorithm='kd_tree', metric='minkowski')\n",
    "clf.fit(x_train, y_train)\n",
    "\n",
    "results = clf.predict(x_test)\n",
    "correct_prediction = [1 if r else 0 for r in y_test == results]\n",
    "print('* correct prediction is: {:.2f}'.format(np.mean(correct_prediction)))\n",
    "\n",
    "random_feature = rdm.choice(list(zip(x_test, y_test)))\n",
    "actual_label = clf.predict([random_feature[0]])\n",
    "print('* expected label is \"{}\" and actual_label is \"{}\"'.format(random_feature[1], actual_label[0]))\n",
    "print('* class name is \"{}\"'.format(iris_classes[actual_label[0]]))"
   ]
  }
 ],
 "metadata": {
  "kernelspec": {
   "display_name": "Python 3",
   "language": "python",
   "name": "python3"
  },
  "language_info": {
   "codemirror_mode": {
    "name": "ipython",
    "version": 3
   },
   "file_extension": ".py",
   "mimetype": "text/x-python",
   "name": "python",
   "nbconvert_exporter": "python",
   "pygments_lexer": "ipython3",
   "version": "3.7.4"
  }
 },
 "nbformat": 4,
 "nbformat_minor": 4
}
