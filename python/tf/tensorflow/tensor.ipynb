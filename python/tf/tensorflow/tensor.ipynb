{
 "cells": [
  {
   "cell_type": "markdown",
   "metadata": {},
   "source": [
    "# 使用 Tensorflow 定义张量"
   ]
  },
  {
   "cell_type": "code",
   "execution_count": null,
   "metadata": {},
   "outputs": [],
   "source": [
    "from __future__ import absolute_import, division, print_function, unicode_literals\n",
    "\n",
    "import tensorflow as tf\n",
    "import numpy as np\n",
    "\n",
    "\n",
    "def tensor_to_str(vt):\n",
    "    s = '\\n{} (shape={}, type={})'.format(vt, vt.shape, vt.dtype)\n",
    "    return '{}'.format(s.replace('\\n', '\\n\\t'))"
   ]
  },
  {
   "cell_type": "markdown",
   "metadata": {},
   "source": [
    "## 定义常量张量"
   ]
  },
  {
   "cell_type": "markdown",
   "metadata": {},
   "source": [
    "### 整型常量张量"
   ]
  },
  {
   "cell_type": "code",
   "execution_count": null,
   "metadata": {},
   "outputs": [],
   "source": [
    "t = tf.constant(value=1)\n",
    "print('* \"tf.constant(value=1)\" is:{}'.format(tensor_to_str(t)))"
   ]
  },
  {
   "cell_type": "markdown",
   "metadata": {},
   "source": [
    "### 实型常量张量"
   ]
  },
  {
   "cell_type": "code",
   "execution_count": null,
   "metadata": {},
   "outputs": [],
   "source": [
    "t = tf.constant(value=1.)\n",
    "print('* \"tf.constant(value=1.)\" is:{}'.format(tensor_to_str(t)))\n",
    "\n",
    "t = tf.constant(value=2., dtype=tf.float64)  # 创建的同时指定数据类型\n",
    "print('* \"tf.constant(value=2., dtype=tf.double)\" is:{}'.format(tensor_to_str(t)))"
   ]
  },
  {
   "cell_type": "markdown",
   "metadata": {},
   "source": [
    "### 矩阵常量张量"
   ]
  },
  {
   "cell_type": "code",
   "execution_count": null,
   "metadata": {},
   "outputs": [],
   "source": [
    "d = [[1., 2., 3.], [4., 5., 6.]]\n",
    "t = tf.constant(value=d)  # 通过 list 对象创建张量\n",
    "print('* when d={}, \"tf.constant(value=d)\" is:{}'.format(d, tensor_to_str(t)))"
   ]
  },
  {
   "cell_type": "markdown",
   "metadata": {},
   "source": [
    "## 张量初始化"
   ]
  },
  {
   "cell_type": "markdown",
   "metadata": {},
   "source": [
    "### 用现有数据初始化"
   ]
  },
  {
   "cell_type": "code",
   "execution_count": null,
   "metadata": {},
   "outputs": [],
   "source": [
    "d = [[[1., 2.], [3., 4.]], [[5., 6.], [7., 8.]]]\n",
    "t = tf.convert_to_tensor(value=d)\n",
    "print('* when d={}, \"tf.constant(value=d)\" is:{}'.format(d, tensor_to_str(t)))\n",
    "\n",
    "d = np.ones(shape=(2, 3))\n",
    "t = tf.convert_to_tensor(value=d)\n",
    "print('\\n* when d is {}, \\n\"tf.constant(value=d)\" is:{}'.format(tensor_to_str(d), tensor_to_str(t)))"
   ]
  },
  {
   "cell_type": "markdown",
   "metadata": {},
   "source": [
    "### 用 0 或 1 初始化"
   ]
  },
  {
   "cell_type": "code",
   "execution_count": null,
   "metadata": {},
   "outputs": [],
   "source": [
    "t = tf.zeros(shape=(2, 3, 3))\n",
    "print('* \"tf.zeros(shape=(2, 3, 3))\" is:{}'.format(tensor_to_str(t)))\n",
    "\n",
    "t = tf.ones(shape=(2, 3))\n",
    "print('\\n* \"tf.ones(shape=(2, 3))\" is:{}'.format(tensor_to_str(t)))"
   ]
  },
  {
   "cell_type": "markdown",
   "metadata": {},
   "source": [
    "### 用它其数据初始化"
   ]
  },
  {
   "cell_type": "code",
   "execution_count": null,
   "metadata": {},
   "outputs": [],
   "source": [
    "t = tf.fill(dims=(2, 3), value=10.)\n",
    "print('* \"tf.fill(dims=(2, 3), value=10.)\" is:{}'.format(tensor_to_str(t)))"
   ]
  },
  {
   "cell_type": "markdown",
   "metadata": {},
   "source": [
    "### 用随机集合初始化\n",
    "\n",
    "- `tf.random.normal`在一个标准方差内取随机值，即`[mean - stddev, mean + stddev]`\n",
    "- `tf.random.truncated_normal`在两个标准方差内取随机值，即`[mean - 2(stddev), mean + 2(stddev)]`\n",
    "- `tf.random.uniform`求在`minval`到`maxval`之间均匀分布的随机值"
   ]
  },
  {
   "cell_type": "code",
   "execution_count": null,
   "metadata": {},
   "outputs": [],
   "source": [
    "t = tf.random.normal(shape=(2, 3), mean=1, stddev=1)\n",
    "print('* \"tf.random.normal(shape=(2, 3), mean=1, stddev=1)\" is:{}'.format(tensor_to_str(t)))\n",
    "\n",
    "t = tf.random.truncated_normal(shape=(2, 3), mean=1, stddev=1)\n",
    "print('\\n* \"tf.random.truncated_normal(shape=(2, 3), mean=1, stddev=1)\" is:{}'.format(tensor_to_str(t)))\n",
    "\n",
    "t = tf.random.uniform(shape=(2, 3), minval=1., maxval=2.)  # 在1~2之间均匀分布\n",
    "print('\\n* \"tf.random.uniform(shape=(2, 3), minval=1., maxval=2.)\" is:{}'.format(tensor_to_str(t)))"
   ]
  },
  {
   "cell_type": "markdown",
   "metadata": {},
   "source": [
    "### 用现有张量的形状初始化"
   ]
  },
  {
   "cell_type": "code",
   "execution_count": null,
   "metadata": {},
   "outputs": [],
   "source": [
    "t = tf.convert_to_tensor(np.arange(24).reshape((2, 3, 4)))\n",
    "print('* when t is:{}'.format(tensor_to_str(t)))\n",
    "\n",
    "t_ = tf.zeros_like(t)\n",
    "print('\\n* then \"tf.zeros_like(t)\" is:{}'.format(tensor_to_str(t_)))\n",
    "\n",
    "t_ = tf.ones_like(t)\n",
    "print('\\n* then \"tf.ones_like(t)\" is:{}'.format(tensor_to_str(t_)))"
   ]
  },
  {
   "cell_type": "markdown",
   "metadata": {},
   "source": [
    "## 索引"
   ]
  },
  {
   "cell_type": "markdown",
   "metadata": {},
   "source": [
    "### 单一索引\n",
    "\n",
    "- 单一索引可以获取一个张量**指定维度**的数据，结果仍是一个张量。\n",
    "- 索引运算符为`[]`，几个`[]`表示检索张量的第几个维度，例如：`t[0]`表示检索第一个维度的第0个数据\n",
    "- 索引运算符有两种写法，`t[1, 0, 2]`和`t[1][0][2]`含义完全相同"
   ]
  },
  {
   "cell_type": "code",
   "execution_count": null,
   "metadata": {},
   "outputs": [],
   "source": [
    "t = tf.convert_to_tensor(value=np.arange(80.).reshape(2, 2, 4, 5))\n",
    "print('* when tensor t is:{}'.format(tensor_to_str(t)))\n",
    "\n",
    "t_ = t[0]\n",
    "print('\\n* then t[0] is:{}'.format(tensor_to_str(t_)))\n",
    "\n",
    "t_ = t[0, 1]\n",
    "print('\\n* and t[0, 1] is:{}'.format(tensor_to_str(t_)))\n",
    "\n",
    "t_ = t[0, 1, 2]\n",
    "print('\\n* and t[0, 1, 2] is:{}'.format(tensor_to_str(t_)))\n",
    "\n",
    "t_ = t[0, 1, 2, 3]\n",
    "print('\\n* and t[0, 1, 2, 3] is:{}'.format(tensor_to_str(t_)))"
   ]
  },
  {
   "cell_type": "markdown",
   "metadata": {},
   "source": [
    "### 组合索引"
   ]
  },
  {
   "cell_type": "code",
   "execution_count": 54,
   "metadata": {},
   "outputs": [
    {
     "name": "stdout",
     "output_type": "stream",
     "text": [
      "* when tensor t is:\n",
      "\t[[ 0.  1.  2.  3.  4.]\n",
      "\t [ 5.  6.  7.  8.  9.]\n",
      "\t [10. 11. 12. 13. 14.]\n",
      "\t [15. 16. 17. 18. 19.]] (shape=(4, 5), type=<dtype: 'float64'>)\n",
      "\n",
      "* then t[[0, 2, 3]] is:\n",
      "\t[[ 0.  1.  2.  3.  4.]\n",
      "\t [10. 11. 12. 13. 14.]\n",
      "\t [15. 16. 17. 18. 19.]] (shape=(3, 5), type=<dtype: 'float64'>)\n",
      "\n",
      "* and t[[0, 2, 3]][..., [0, 2, 3]] is:\n",
      "[[ 0.  2.  3.]\n",
      " [10. 12. 13.]\n",
      " [15. 17. 18.]] (shape=(3, 3), type=<dtype: 'float64'>)\n",
      "\n",
      "* and t[[1, 2], [3, 4]] is:\n",
      "[ 8. 14.] (shape=(2,), type=<dtype: 'float64'>)\n"
     ]
    }
   ],
   "source": [
    "t = tf.convert_to_tensor(np.arange(20.).reshape(4, 5))\n",
    "print('* when tensor t is:{}'.format(tensor_to_str(t)))\n",
    "\n",
    "t_ = tf.gather(params=t, axis=0, indices=[0, 2, 3])  # 维度 0, 表示取索引为 0, 2, 3 的行\n",
    "print('\\n* then t[[0, 2, 3]] is:{}'.format(tensor_to_str(t_)))\n",
    "\n",
    "t_ = tf.gather(params=t_, axis=1, indices=[0, 2, 3])  # 维度 1, 表示取索引为 0, 2, 3 的列\n",
    "print('\\n* and t[[0, 2, 3]][..., [0, 2, 3]] is:\\n{} (shape={}, type={})'.format(t_, t_.shape, t_.dtype))\n",
    "\n",
    "t_ = tf.gather_nd(params=t, indices=[[1, 3], [2, 4]])  # 取第 1 行的第 3 列以及第 2 行的第 4 列\n",
    "\"\"\"\n",
    "对于 numpy，t[[1, 2], [3, 4]] 表示，第一维取 1, 2，即第 1 行和第 2 行，第二维取 3, 4，即在之前的结果上取第 3 列和第 4 列\n",
    "\"\"\"\n",
    "print('\\n* and t[[1, 2], [3, 4]] is:\\n{} (shape={}, type={})'.format(t_, t_.shape, t_.dtype))"
   ]
  }
 ],
 "metadata": {
  "kernelspec": {
   "display_name": "Python 3",
   "language": "python",
   "name": "python3"
  },
  "language_info": {
   "codemirror_mode": {
    "name": "ipython",
    "version": 3
   },
   "file_extension": ".py",
   "mimetype": "text/x-python",
   "name": "python",
   "nbconvert_exporter": "python",
   "pygments_lexer": "ipython3",
   "version": "3.7.2"
  }
 },
 "nbformat": 4,
 "nbformat_minor": 4
}
