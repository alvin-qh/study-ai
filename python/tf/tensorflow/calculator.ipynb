{
 "cells": [
  {
   "cell_type": "markdown",
   "metadata": {},
   "source": [
    "# 数学计算"
   ]
  },
  {
   "cell_type": "code",
   "execution_count": null,
   "metadata": {},
   "outputs": [],
   "source": [
    "from __future__ import absolute_import, division, print_function, unicode_literals\n",
    "\n",
    "import tensorflow as tf\n",
    "import numpy as np\n",
    "from math import e as E\n",
    "\n",
    "def tensor_to_str(vt):\n",
    "    s = '\\n{} (shape={}, type={})'.format(vt, vt.shape, vt.dtype)\n",
    "    return '{}'.format(s.replace('\\n', '\\n\\t'))"
   ]
  },
  {
   "cell_type": "markdown",
   "metadata": {},
   "source": [
    "## 基本运算\n",
    "\n",
    "- 张量的广播：\n",
    "    - 当两个阶数不同的张量进行运算时，如果没有歧义的话，较小的张量会被广播，以匹配较大张量的形状\n",
    "    - 广播包含以下两步：\n",
    "        1. 向较小的张量添加轴（称为广播轴），使其`dim`与较大的张量相同\n",
    "        2. 将较小的张量沿着新轴重复，使其形状与较大的张量相同\n",
    "    - 例如：\n",
    "        - `t1(2, 3)`和`t2(1, 3)`相加，因为两个张量的阶数相同，则只需对`t2(1, 3)`沿第一个轴复制，将其扩展到`t2(2, 3)`\n",
    "        - `t1(2, 3)`和`t2(3)`相加，需要对`t2(3)`扩展第一个轴，将其变为`t2(1, 3)`，再沿第一个轴复制，将其扩展到`t2(2, 3)`"
   ]
  },
  {
   "cell_type": "markdown",
   "metadata": {},
   "source": [
    "### 加法"
   ]
  },
  {
   "cell_type": "markdown",
   "metadata": {},
   "source": [
    "- `tf.add(t1, t2)`表示向量相加，等价于`t1 + t2`"
   ]
  },
  {
   "cell_type": "code",
   "execution_count": null,
   "metadata": {},
   "outputs": [],
   "source": [
    "t1 = tf.random.uniform((2, 3), minval=1, maxval=6, dtype=tf.int32)\n",
    "print('* when t1 is:{}'.format(tensor_to_str(t1)))\n",
    "\n",
    "t2 = tf.random.uniform((2, 3), minval=1, maxval=6, dtype=tf.int32)\n",
    "print('\\n* and t2 is:{}'.format(tensor_to_str(t2)))\n",
    "\n",
    "t_ = t1 + t2\n",
    "print('\\n* then \"t1 + t2\" is:{}'.format(tensor_to_str(t_)))\n",
    "\n",
    "t_ = tf.add(t1, t2)\n",
    "print('\\n* then \"tf.add(t1, t2)\" is:{}'.format(tensor_to_str(t_)))"
   ]
  },
  {
   "cell_type": "markdown",
   "metadata": {},
   "source": [
    "- 两个形状相同的张量可以相加"
   ]
  },
  {
   "cell_type": "code",
   "execution_count": null,
   "metadata": {},
   "outputs": [],
   "source": [
    "t1 = tf.random.uniform((2, 3), minval=1, maxval=6, dtype=tf.int32)\n",
    "print('* when t1 is:{}'.format(tensor_to_str(t1)))\n",
    "\n",
    "t2 = tf.random.uniform((2, 3), minval=1, maxval=6, dtype=tf.int32)\n",
    "print('\\n* and t2 is:{}'.format(tensor_to_str(t2)))\n",
    "\n",
    "t_ = t1 + t2\n",
    "print('\\n* then \"t1 + t2\" is:{}'.format(tensor_to_str(t_)))"
   ]
  },
  {
   "cell_type": "markdown",
   "metadata": {},
   "source": [
    "- 维度相同时，相加的两个张量必须符合如下特征：\n",
    "    - 自右向左，作为加数张量的轴元素数必须和被加数张量相同，否则必须为`1`\n",
    "    - 例如：`t(2, 3, 4)`可以和`t(2, 3, 4)`, `t(1, 3, 4)`, `t(1, 1, 4)`相加"
   ]
  },
  {
   "cell_type": "code",
   "execution_count": null,
   "metadata": {},
   "outputs": [],
   "source": [
    "t1 = tf.random.uniform((2, 3, 4), minval=1, maxval=6, dtype=tf.int32)\n",
    "print('* when t1 is:{}'.format(tensor_to_str(t1)))\n",
    "\n",
    "t2 = tf.random.uniform((1, 1, 4), minval=1, maxval=6, dtype=tf.int32)\n",
    "print('\\n* and t2 is:{}'.format(tensor_to_str(t2)))\n",
    "\n",
    "t_ = t1 + t2\n",
    "print('\\n* then \"t1 + t2\" is:{}'.format(tensor_to_str(t_)))"
   ]
  },
  {
   "cell_type": "markdown",
   "metadata": {},
   "source": [
    "- 维度相同时，相加的两个张量必须符合如下特征：\n",
    "    - 自右向左，作为加数张量的轴元素数必须和被加数张量相同，否则必须为`1`\n",
    "    - 例如：`t(2, 3, 4)`可以和`t(2, 3, 4)`, `t(1, 3, 4)`, `t(1, 1, 4)`相加"
   ]
  },
  {
   "cell_type": "code",
   "execution_count": null,
   "metadata": {},
   "outputs": [],
   "source": [
    "t1 = tf.random.uniform((2, 3, 4), minval=1, maxval=6, dtype=tf.int32)\n",
    "print('* when t1 is:{}'.format(tensor_to_str(t1)))\n",
    "\n",
    "t2 = tf.random.uniform((3, 4), minval=1, maxval=6, dtype=tf.int32)\n",
    "print('\\n* and t2 is:{}'.format(tensor_to_str(t2)))\n",
    "\n",
    "t_ = t1 + t2\n",
    "print('\\n* then \"t1 + t2\" is:{}'.format(tensor_to_str(t_)))"
   ]
  },
  {
   "cell_type": "markdown",
   "metadata": {},
   "source": [
    "- 维度相同时，相加的两个张量必须符合如下特征：\n",
    "    - 自右向左，作为加数张量的轴元素数必须和被加数张量相同，否则必须为`1`\n",
    "    - 例如：`t(2, 3, 4)`可以和`t(2, 3, 4)`, `t(1, 3, 4)`, `t(1, 1, 4)`相加"
   ]
  },
  {
   "cell_type": "code",
   "execution_count": null,
   "metadata": {},
   "outputs": [],
   "source": [
    "t1 = tf.random.uniform((2, 3, 4), minval=1, maxval=6, dtype=tf.int32)\n",
    "print('* when t1 is:{}'.format(tensor_to_str(t1)))\n",
    "\n",
    "t2 = tf.random.uniform((1, 4,), minval=1, maxval=6, dtype=tf.int32)\n",
    "print('\\n* and t2 is:{}'.format(tensor_to_str(t2)))\n",
    "\n",
    "t_ = t1 + t2\n",
    "print('\\n* then \"t1 + t2\" is:{}'.format(tensor_to_str(t_)))"
   ]
  },
  {
   "cell_type": "markdown",
   "metadata": {},
   "source": [
    "### 减法\n",
    "\n",
    "- 如果两个张量阶数相同，则对应轴的项数要么相同，要么为`1`\n",
    "- 如果两个张量阶数不同，则自右到左对应轴的项目要么相同，要么为`1`\n",
    "- `tf.subtract(t1, t2)`表示向量相加，等价于`t1 - t2`"
   ]
  },
  {
   "cell_type": "code",
   "execution_count": null,
   "metadata": {},
   "outputs": [],
   "source": [
    "t1 = tf.random.uniform((2, 3), minval=1, maxval=6, dtype=tf.int32)\n",
    "print('* when t1 is:{}'.format(tensor_to_str(t1)))\n",
    "\n",
    "t2 = tf.random.uniform((2, 3), minval=1, maxval=6, dtype=tf.int32)\n",
    "print('\\n* and t2 is:{}'.format(tensor_to_str(t2)))\n",
    "\n",
    "t_ = t1 - t2\n",
    "print('\\n* then \"t1 - t2\" is:{}'.format(tensor_to_str(t_)))\n",
    "\n",
    "t_ = tf.subtract(t1, t2)\n",
    "print('\\n* then \"tf.subtract(t1, t2)\" is:{}'.format(tensor_to_str(t_)))\n",
    "\n",
    "t1 = tf.random.uniform((2, 3, 4), minval=1, maxval=6, dtype=tf.int32)\n",
    "print('\\n\\n* when t1 is:{}'.format(tensor_to_str(t1)))\n",
    "\n",
    "t2 = tf.random.uniform((1, 3, 4), minval=1, maxval=6, dtype=tf.int32)\n",
    "print('\\n* and t2 is:{}'.format(tensor_to_str(t2)))\n",
    "\n",
    "t_ = t1 - t2\n",
    "print('\\n* then \"t1 - t2\" is:{}'.format(tensor_to_str(t_)))\n",
    "\n",
    "t1 = tf.random.uniform((2, 3, 4), minval=1, maxval=6, dtype=tf.int32)\n",
    "print('\\n\\n* when t1 is:{}'.format(tensor_to_str(t1)))\n",
    "\n",
    "t2 = tf.random.uniform((1, 4), minval=1, maxval=6, dtype=tf.int32)\n",
    "print('\\n* and t2 is:{}'.format(tensor_to_str(t2)))\n",
    "\n",
    "t_ = t1 - t2\n",
    "print('\\n* then \"t1 - t2\" is:{}'.format(tensor_to_str(t_)))\n",
    "\n",
    "t1 = tf.random.uniform((2, 3, 4), minval=1, maxval=6, dtype=tf.int32)\n",
    "print('\\n\\n* when t1 is:{}'.format(tensor_to_str(t1)))\n",
    "\n",
    "t2 = tf.random.uniform((4,), minval=1, maxval=6, dtype=tf.int32)\n",
    "print('\\n* and t2 is:{}'.format(tensor_to_str(t2)))\n",
    "\n",
    "t_ = t1 - t2\n",
    "print('\\n* then \"t1 - t2\" is:{}'.format(tensor_to_str(t_)))"
   ]
  },
  {
   "cell_type": "markdown",
   "metadata": {},
   "source": [
    "### 乘法（内积）\n",
    "\n",
    "- 如果两个张量阶数相同，则对应轴的项数要么相同，要么为`1`\n",
    "- 如果两个张量阶数不同，则自右到左对应轴的项目要么相同，要么为`1`\n",
    "- `tf.multiply(t1, t2)`表示向量相加，等价于`t1 * t2`"
   ]
  },
  {
   "cell_type": "code",
   "execution_count": null,
   "metadata": {},
   "outputs": [],
   "source": [
    "t1 = tf.random.uniform((2, 3), minval=1, maxval=6, dtype=tf.int32)\n",
    "print('* when t1 is:{}'.format(tensor_to_str(t1)))\n",
    "\n",
    "t2 = tf.random.uniform((2, 3), minval=1, maxval=6, dtype=tf.int32)\n",
    "print('\\n* and t2 is:{}'.format(tensor_to_str(t2)))\n",
    "\n",
    "t_ = t1 * t2\n",
    "print('\\n* then \"t1 * t2\" is:{}'.format(tensor_to_str(t_)))\n",
    "\n",
    "t_ = tf.multiply(t1, t2)\n",
    "print('\\n* then \"tf.multiply(t1, t2)\" is:{}'.format(tensor_to_str(t_)))\n",
    "\n",
    "t1 = tf.random.uniform((2, 3, 4), minval=1, maxval=6, dtype=tf.int32)\n",
    "print('* when t1 is:{}'.format(tensor_to_str(t1)))\n",
    "\n",
    "t2 = tf.random.uniform((1, 3, 4), minval=1, maxval=6, dtype=tf.int32)\n",
    "print('\\n* and t2 is:{}'.format(tensor_to_str(t2)))\n",
    "\n",
    "t_ = t1 * t2\n",
    "print('\\n* then \"t1 * t2\" is:{}'.format(tensor_to_str(t_)))\n",
    "\n",
    "t1 = tf.random.uniform((2, 3, 4), minval=1, maxval=6, dtype=tf.int32)\n",
    "print('* when t1 is:{}'.format(tensor_to_str(t1)))\n",
    "\n",
    "t2 = tf.random.uniform((1, 4), minval=1, maxval=6, dtype=tf.int32)\n",
    "print('\\n* and t2 is:{}'.format(tensor_to_str(t2)))\n",
    "\n",
    "t_ = t1 * t2\n",
    "print('\\n* then \"t1 * t2\" is:{}'.format(tensor_to_str(t_)))\n",
    "\n",
    "t1 = tf.random.uniform((2, 3, 4), minval=1, maxval=6, dtype=tf.int32)\n",
    "print('* when t1 is:{}'.format(tensor_to_str(t1)))\n",
    "\n",
    "t2 = tf.random.uniform((4,), minval=1, maxval=6, dtype=tf.int32)\n",
    "print('\\n* and t2 is:{}'.format(tensor_to_str(t2)))\n",
    "\n",
    "t_ = t1 * t2\n",
    "print('\\n* then \"t1 * t2\" is:{}'.format(tensor_to_str(t_)))"
   ]
  },
  {
   "cell_type": "markdown",
   "metadata": {},
   "source": [
    "### 乘法（点积）\n",
    "\n",
    "- 点积乘法在张量的阶为`3`时，等价为矩阵相乘，即第一个矩阵的每一行元素和第二个矩阵的每一列对应元素相乘并求和，组成新的矩阵\n",
    "- 点积乘法在张量的阶大于`3`时，相当于一批矩阵和另一批矩阵分步依次相乘\n",
    "- 点积乘法要求:\n",
    "    - 相乘的两个张量的**阶**必须大于`2`（即表示为**矩阵**或**矩阵的集合**）\n",
    "    - 参与运算的两个张量`(t1, t2)`的**阶**必须满足如下需求：\n",
    "        - 从倒数第三个轴开始，`t1`和`t2`对应轴的元素数量必须相同\n",
    "        - `t1`的最后一个轴元素数量必须和`t2`倒数第二个轴元素数量相同\n",
    "- 如果阶数不同或其它轴上项数不同，则需要对形状较小的张量进行广播"
   ]
  },
  {
   "cell_type": "code",
   "execution_count": null,
   "metadata": {},
   "outputs": [],
   "source": [
    "t1 = tf.random.uniform((2, 3, 2, 3), minval=1, maxval=6, dtype=tf.int32)\n",
    "print('* when t1 is:{}'.format(tensor_to_str(t1)))\n",
    "\n",
    "t2 = tf.random.uniform((1, 3, 2), minval=1, maxval=6, dtype=tf.int32)\n",
    "print('\\n* and t2 is:{}'.format(tensor_to_str(t2)))\n",
    "\n",
    "t_ = tf.matmul(t1, t2)\n",
    "print('\\n* then \"t1 • t2\" is:{}'.format(tensor_to_str(t_)))\n",
    "\n",
    "t1 = tf.random.uniform((2, 3, 2, 3), minval=1, maxval=6, dtype=tf.int32)\n",
    "print('\\n\\n* when t1 is:{}'.format(tensor_to_str(t1)))\n",
    "\n",
    "t2 = tf.random.uniform((1, 3, 2), minval=1, maxval=6, dtype=tf.int32)\n",
    "print('\\n* and t2 is:{}'.format(tensor_to_str(t2)))\n",
    "\n",
    "t_ = tf.matmul(t1, t2)\n",
    "print('\\n* then \"t1 • t2\" is:{}'.format(tensor_to_str(t_)))"
   ]
  },
  {
   "cell_type": "markdown",
   "metadata": {},
   "source": [
    "### 除法"
   ]
  },
  {
   "cell_type": "code",
   "execution_count": null,
   "metadata": {},
   "outputs": [],
   "source": [
    "t1 = tf.random.uniform([2, 3], minval=1, maxval=6, dtype=tf.int32)\n",
    "print('* when t1 is:{}'.format(tensor_to_str(t1)))\n",
    "\n",
    "t2 = tf.random.uniform([2, 3], minval=1, maxval=6, dtype=tf.int32)\n",
    "print('\\n* and t2 is:{}'.format(tensor_to_str(t2)))\n",
    "\n",
    "t_ = t1 / t2\n",
    "print('\\n* then \"t1 / t2\" is:{}'.format(tensor_to_str(t_)))\n",
    "\n",
    "t_ = tf.divide(t1, t2)\n",
    "print('\\n* then \"tf.divide(t1, t2)\" is:{}'.format(tensor_to_str(t_)))\n",
    "\n",
    "t_ = t1 // t2\n",
    "print('\\n* then \"t1 // t2\" is:{}'.format(tensor_to_str(t_)))\n",
    "\n",
    "t_ = tf.math.floordiv(t1, t2)\n",
    "print('\\n* then \"tf.math.floordiv(t1, t2)\" is:{}'.format(tensor_to_str(t_)))"
   ]
  },
  {
   "cell_type": "markdown",
   "metadata": {},
   "source": [
    "### 模运算"
   ]
  },
  {
   "cell_type": "code",
   "execution_count": null,
   "metadata": {},
   "outputs": [],
   "source": [
    "t1 = tf.random.uniform([2, 3], minval=1, maxval=6, dtype=tf.int32)\n",
    "print('* when t1 is:{}'.format(tensor_to_str(t1)))\n",
    "\n",
    "t2 = tf.random.uniform([2, 3], minval=1, maxval=6, dtype=tf.int32)\n",
    "print('\\n* and t2 is:{}'.format(tensor_to_str(t2)))\n",
    "\n",
    "t_ = t1 % t2\n",
    "print('\\n* then \"t1 % t2\" is:{}'.format(tensor_to_str(t_)))\n",
    "\n",
    "t_ = tf.math.mod(t1, t2)\n",
    "print('\\n* then \"tf.math.mod(t1, t2)\" is:{}'.format(tensor_to_str(t_)))\n",
    "\n",
    "t_ = tf.math.floormod(t1, t2)\n",
    "print('\\n* then \"tf.math.floormod(t1, t2)\" is:{}'.format(tensor_to_str(t_)))"
   ]
  },
  {
   "cell_type": "markdown",
   "metadata": {},
   "source": [
    "## 指数、开方、对数"
   ]
  },
  {
   "cell_type": "markdown",
   "metadata": {},
   "source": [
    "### 对数运算\n",
    "\n",
    "- `tf.math.log`求的是以自然常数`𝑒`为底的对数\n",
    "- 求任意底数的对数，可以借助公式 $log_xy = \\frac{log_ey}{log_ex}$ 进行计算"
   ]
  },
  {
   "cell_type": "code",
   "execution_count": null,
   "metadata": {},
   "outputs": [],
   "source": [
    "t = tf.constant([E, E ** 2, E ** 3])\n",
    "print('* when t is:{}'.format(tensor_to_str(t)))\n",
    "\n",
    "t_ = tf.math.log(t)\n",
    "print('\\n* then \"tf.math.log(t)\" is:{}'.format(tensor_to_str(t_)))\n",
    "\n",
    "\n",
    "t1 = tf.constant([[1., 9.], [16., 100.]])\n",
    "print('\\n\\n* when t1 is:{}'.format(tensor_to_str(t1)))\n",
    "\n",
    "t2 = tf.constant([[2., 3.], [2., 10.]])\n",
    "print('\\n* and t2 is:{}'.format(tensor_to_str(t2)))\n",
    "\n",
    "t_ = tf.math.log(t1) / tf.math.log(t2)\n",
    "print('\\n* and \"log(t2)t1\" is:{}'.format(tensor_to_str(t_)))"
   ]
  }
 ],
 "metadata": {
  "kernelspec": {
   "display_name": "Python 3",
   "language": "python",
   "name": "python3"
  },
  "language_info": {
   "codemirror_mode": {
    "name": "ipython",
    "version": 3
   },
   "file_extension": ".py",
   "mimetype": "text/x-python",
   "name": "python",
   "nbconvert_exporter": "python",
   "pygments_lexer": "ipython3",
   "version": "3.7.2"
  }
 },
 "nbformat": 4,
 "nbformat_minor": 4
}
