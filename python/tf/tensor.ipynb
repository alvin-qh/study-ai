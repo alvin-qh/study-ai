{
 "cells": [
  {
   "cell_type": "markdown",
   "metadata": {},
   "source": [
    "# 张量"
   ]
  },
  {
   "cell_type": "markdown",
   "metadata": {},
   "source": [
    "- 引入必要的包"
   ]
  },
  {
   "cell_type": "code",
   "execution_count": null,
   "metadata": {},
   "outputs": [],
   "source": [
    "from __future__ import absolute_import, division, print_function, unicode_literals\n",
    "\n",
    "import tensorflow as tf\n",
    "import numpy as np"
   ]
  },
  {
   "cell_type": "markdown",
   "metadata": {},
   "source": [
    "- 定义一个张量转字符串的函数"
   ]
  },
  {
   "cell_type": "code",
   "execution_count": null,
   "metadata": {},
   "outputs": [],
   "source": [
    "def tensor_to_str(vt):\n",
    "    s = '\\n{} (shape={}, type={})'.format(vt, vt.shape, vt.dtype)\n",
    "    return '{}'.format(s.replace('\\n', '\\n\\t'))"
   ]
  },
  {
   "cell_type": "markdown",
   "metadata": {},
   "source": [
    "## 常量张量"
   ]
  },
  {
   "cell_type": "markdown",
   "metadata": {},
   "source": [
    "### 整型常量张量"
   ]
  },
  {
   "cell_type": "code",
   "execution_count": null,
   "metadata": {},
   "outputs": [],
   "source": [
    "t = tf.constant(value=1)\n",
    "print('* \"tf.constant(value=1)\" is:{}'.format(tensor_to_str(t)))"
   ]
  },
  {
   "cell_type": "markdown",
   "metadata": {},
   "source": [
    "### 实型常量张量"
   ]
  },
  {
   "cell_type": "code",
   "execution_count": null,
   "metadata": {},
   "outputs": [],
   "source": [
    "t = tf.constant(value=1.)\n",
    "print('* \"tf.constant(value=1.)\" is:{}'.format(tensor_to_str(t)))"
   ]
  },
  {
   "cell_type": "markdown",
   "metadata": {},
   "source": [
    "- `dtype`参数用于显式指定元素数据类型"
   ]
  },
  {
   "cell_type": "code",
   "execution_count": null,
   "metadata": {},
   "outputs": [],
   "source": [
    "t = tf.constant(value=2., dtype=tf.float64)  # 创建的同时指定数据类型\n",
    "print('* \"tf.constant(value=2., dtype=tf.double)\" is:{}'.format(tensor_to_str(t)))"
   ]
  },
  {
   "cell_type": "markdown",
   "metadata": {},
   "source": [
    "### list 集合常量张量"
   ]
  },
  {
   "cell_type": "code",
   "execution_count": null,
   "metadata": {},
   "outputs": [],
   "source": [
    "d = [[1., 2., 3.], [4., 5., 6.]]\n",
    "t = tf.constant(value=d)  # 通过 list 对象创建张量\n",
    "print('* when d={}, \"tf.constant(value=d)\" is:{}'.format(d, tensor_to_str(t)))"
   ]
  },
  {
   "cell_type": "markdown",
   "metadata": {},
   "source": [
    "## 张量初始化"
   ]
  },
  {
   "cell_type": "markdown",
   "metadata": {},
   "source": [
    "### 用现有数据初始化"
   ]
  },
  {
   "cell_type": "markdown",
   "metadata": {},
   "source": [
    "- list 集合转为张量"
   ]
  },
  {
   "cell_type": "code",
   "execution_count": null,
   "metadata": {},
   "outputs": [],
   "source": [
    "d = [[[1., 2.], [3., 4.]], [[5., 6.], [7., 8.]]]\n",
    "t = tf.convert_to_tensor(value=d)\n",
    "print('* when d={}, \"tf.constant(value=d)\" is:{}'.format(d, tensor_to_str(t)))"
   ]
  },
  {
   "cell_type": "markdown",
   "metadata": {},
   "source": [
    "- numpy 集合转为张量"
   ]
  },
  {
   "cell_type": "code",
   "execution_count": null,
   "metadata": {},
   "outputs": [],
   "source": [
    "d = np.ones(shape=(2, 3))\n",
    "t = tf.convert_to_tensor(value=d)\n",
    "print('\\n* when d is {}, \\n\"tf.constant(value=d)\" is:{}'.format(tensor_to_str(d), tensor_to_str(t)))"
   ]
  },
  {
   "cell_type": "markdown",
   "metadata": {},
   "source": [
    "### 用 0 或 1 初始化"
   ]
  },
  {
   "cell_type": "markdown",
   "metadata": {},
   "source": [
    "- 初始化一个指定形状的全`0`张量"
   ]
  },
  {
   "cell_type": "code",
   "execution_count": null,
   "metadata": {},
   "outputs": [],
   "source": [
    "t = tf.zeros(shape=(2, 3, 3))\n",
    "print('* \"tf.zeros(shape=(2, 3, 3))\" is:{}'.format(tensor_to_str(t)))"
   ]
  },
  {
   "cell_type": "markdown",
   "metadata": {},
   "source": [
    "- 初始化一个指定形状的全`1`张量"
   ]
  },
  {
   "cell_type": "code",
   "execution_count": null,
   "metadata": {},
   "outputs": [],
   "source": [
    "t = tf.ones(shape=(2, 3))\n",
    "print('\\n* \"tf.ones(shape=(2, 3))\" is:{}'.format(tensor_to_str(t)))"
   ]
  },
  {
   "cell_type": "markdown",
   "metadata": {},
   "source": [
    "### 用它其数据初始化\n",
    "\n",
    "- `tf.fill`可以初始化一个指定形状的张量，并用指定的值填充元素"
   ]
  },
  {
   "cell_type": "code",
   "execution_count": null,
   "metadata": {},
   "outputs": [],
   "source": [
    "t = tf.fill(dims=(2, 3), value=10.)\n",
    "print('* \"tf.fill(dims=(2, 3), value=10.)\" is:{}'.format(tensor_to_str(t)))"
   ]
  },
  {
   "cell_type": "markdown",
   "metadata": {},
   "source": [
    "### 用随机集合初始化"
   ]
  },
  {
   "cell_type": "markdown",
   "metadata": {},
   "source": [
    "- `tf.random.normal`在一个标准方差内取随机值，即`[mean - stddev, mean + stddev]`"
   ]
  },
  {
   "cell_type": "code",
   "execution_count": null,
   "metadata": {},
   "outputs": [],
   "source": [
    "t = tf.random.normal(shape=(2, 3), mean=1, stddev=1)\n",
    "print('* \"tf.random.normal(shape=(2, 3), mean=1, stddev=1)\" is:{}'.format(tensor_to_str(t)))"
   ]
  },
  {
   "cell_type": "markdown",
   "metadata": {},
   "source": [
    "- `tf.random.truncated_normal`在两个标准方差内取随机值，即`[mean - 2(stddev), mean + 2(stddev)]`"
   ]
  },
  {
   "cell_type": "code",
   "execution_count": null,
   "metadata": {},
   "outputs": [],
   "source": [
    "t = tf.random.truncated_normal(shape=(2, 3), mean=1, stddev=1)\n",
    "print('\\n* \"tf.random.truncated_normal(shape=(2, 3), mean=1, stddev=1)\" is:{}'.format(tensor_to_str(t)))"
   ]
  },
  {
   "cell_type": "markdown",
   "metadata": {},
   "source": [
    "- `tf.random.uniform`求在`minval`到`maxval`之间均匀分布的随机值"
   ]
  },
  {
   "cell_type": "code",
   "execution_count": null,
   "metadata": {},
   "outputs": [],
   "source": [
    "t = tf.random.uniform(shape=(2, 3), minval=1., maxval=2.)  # 在1~2之间均匀分布\n",
    "print('\\n* \"tf.random.uniform(shape=(2, 3), minval=1., maxval=2.)\" is:{}'.format(tensor_to_str(t)))"
   ]
  },
  {
   "cell_type": "markdown",
   "metadata": {},
   "source": [
    "### 用现有张量的形状初始化"
   ]
  },
  {
   "cell_type": "markdown",
   "metadata": {},
   "source": [
    "- 基于现有张量，初始化一个元素全`0`的张量"
   ]
  },
  {
   "cell_type": "code",
   "execution_count": null,
   "metadata": {},
   "outputs": [],
   "source": [
    "t = tf.convert_to_tensor(np.arange(24).reshape((2, 3, 4)))\n",
    "print('* when t is:{}'.format(tensor_to_str(t)))\n",
    "\n",
    "t_ = tf.zeros_like(t)\n",
    "print('\\n* then \"tf.zeros_like(t)\" is:{}'.format(tensor_to_str(t_)))"
   ]
  },
  {
   "cell_type": "markdown",
   "metadata": {},
   "source": [
    "- 基于现有张量，初始化一个元素全`1`的张量"
   ]
  },
  {
   "cell_type": "code",
   "execution_count": null,
   "metadata": {},
   "outputs": [],
   "source": [
    "t = tf.convert_to_tensor(np.arange(24).reshape((2, 3, 4)))\n",
    "print('* when t is:{}'.format(tensor_to_str(t)))\n",
    "\n",
    "t_ = tf.ones_like(t)\n",
    "print('\\n* then \"tf.ones_like(t)\" is:{}'.format(tensor_to_str(t_)))"
   ]
  },
  {
   "cell_type": "markdown",
   "metadata": {},
   "source": [
    "## 索引"
   ]
  },
  {
   "cell_type": "markdown",
   "metadata": {},
   "source": [
    "### 单一索引\n",
    "\n",
    "- 单一索引可以获取一个张量**指定维度**的数据，结果仍是一个张量。\n",
    "- 索引运算符为`[]`，几个`[]`表示检索张量的第几个轴，里面的数字表示该轴上的下标，例如：`t[0]`表示检索第一个轴上下标为0的数据\n",
    "- 索引运算符有两种写法，`t[1, 0, 2]`和`t[1][0][2]`含义完全相同"
   ]
  },
  {
   "cell_type": "code",
   "execution_count": null,
   "metadata": {},
   "outputs": [],
   "source": [
    "t = tf.convert_to_tensor(value=np.arange(80.).reshape(2, 2, 4, 5))\n",
    "print('* when tensor t is:{}'.format(tensor_to_str(t)))\n",
    "\n",
    "t_ = t[0]\n",
    "print('\\n* then t[0] is:{}'.format(tensor_to_str(t_)))\n",
    "\n",
    "t_ = t[0, 1]\n",
    "print('\\n* and t[0, 1] is:{}'.format(tensor_to_str(t_)))\n",
    "\n",
    "t_ = t[0, 1, 2]\n",
    "print('\\n* and t[0, 1, 2] is:{}'.format(tensor_to_str(t_)))\n",
    "\n",
    "t_ = t[0, 1, 2, 3]\n",
    "print('\\n* and t[0, 1, 2, 3] is:{}'.format(tensor_to_str(t_)))"
   ]
  },
  {
   "cell_type": "markdown",
   "metadata": {},
   "source": [
    "### 组合索引\n",
    "\n",
    "- `tf.gather`用于组合一个索引"
   ]
  },
  {
   "cell_type": "code",
   "execution_count": null,
   "metadata": {},
   "outputs": [],
   "source": [
    "t = tf.convert_to_tensor(np.arange(20.).reshape(4, 5))\n",
    "print('* when tensor t is:{}'.format(tensor_to_str(t)))\n",
    "\n",
    "t_ = tf.gather(params=t, axis=0, indices=[0, 2, 3])  # 维度 0, 表示取索引为 0, 2, 3 的行\n",
    "print('\\n* then t[[0, 2, 3]] is:{}'.format(tensor_to_str(t_)))\n",
    "\n",
    "t_ = tf.gather(params=t_, axis=1, indices=[0, 2, 3])  # 维度 1, 表示取索引为 0, 2, 3 的列\n",
    "print('\\n* and t[[0, 2, 3]][..., [0, 2, 3]] is:{}'.format(tensor_to_str(t_)))\n",
    "\n",
    "\"\"\"\n",
    "对于 numpy，t[[1, 2], [3, 4]] 表示，第一维取 1, 2，即第 1 行和第 2 行，第二维取 3, 4，即在之前的结果上取第 3 列和第 4 列\n",
    "\"\"\"\n",
    "t_ = tf.gather_nd(params=t, indices=[[1, 3], [2, 4]])  # 取第 1 行的第 3 列以及第 2 行的第 4 列\n",
    "print('\\n* and t[[1, 2], [3, 4]] is:{}'.format(tensor_to_str(t_)))"
   ]
  },
  {
   "cell_type": "markdown",
   "metadata": {},
   "source": [
    "### 索引切片\n",
    "\n",
    "- 可以通过索引切片的方法获取指定轴的指定范围元素，例如：\n",
    "    - `t[2, 1:10]`表示第一轴下标`2`的下标为`1`到`10`的元素（列）\n",
    "- `:`表示获取指定轴所有元素\n",
    "- `...`表示在明确指定轴之间的所有轴的所有元素"
   ]
  },
  {
   "cell_type": "code",
   "execution_count": null,
   "metadata": {},
   "outputs": [],
   "source": [
    "t = tf.convert_to_tensor(value=np.arange(80.).reshape(2, 2, 4, 5))\n",
    "print('* when tensor t is:{}'.format(tensor_to_str(t)))\n",
    "\n",
    "t_ = t[:, 1:]\n",
    "print('\\n* then t[:, 1] is:{}'.format(tensor_to_str(t_)))\n",
    "\n",
    "t_ = t[:, 1:, 2:4, 3]\n",
    "print('\\n* and t[:, 1:, 3] is:{}'.format(tensor_to_str(t_)))\n",
    "\n",
    "t_ = t[:, 1:, 2:4, 1:3]\n",
    "print('\\n* and t[:, 1:, 1:3] is:{}'.format(tensor_to_str(t_)))\n",
    "\n",
    "t_ = t[..., 1:3]  # t_ = t[:, :, :, 1:3]\n",
    "print('\\n* and t[..., 1:3] is:{}'.format(tensor_to_str(t_)))"
   ]
  },
  {
   "cell_type": "markdown",
   "metadata": {},
   "source": [
    "### 按条件查找"
   ]
  },
  {
   "cell_type": "markdown",
   "metadata": {},
   "source": [
    "- `tf.boolean_mask`函数用于根据一个布尔类型的'掩码'张量对一个形状相同的张量进行过滤。保留掩码中`True`的部分。过滤掉`False`的部分"
   ]
  },
  {
   "cell_type": "code",
   "execution_count": null,
   "metadata": {},
   "outputs": [],
   "source": [
    "t = tf.random.uniform(shape=(3, 3), minval=-10, maxval=10, dtype=tf.int32)\n",
    "print('* when tensor t is:{}'.format(tensor_to_str(t)))\n",
    "\n",
    "mask = t < 0\n",
    "print('\\n* then \"t < 0\" is:{}'.format(tensor_to_str(mask)))\n",
    "\n",
    "t_ = tf.boolean_mask(tensor=t, mask=mask)\n",
    "print('\\n* and \"tf.boolean_mask(tensor=t, mask=t<0)\" is:{}'.format(tensor_to_str(t)))"
   ]
  },
  {
   "cell_type": "markdown",
   "metadata": {},
   "source": [
    "- `tf.where` 可以根据一个 condition 对张量中的所有元素进行过滤。保留可以让 condition 为`True`的部分的索引"
   ]
  },
  {
   "cell_type": "code",
   "execution_count": null,
   "metadata": {},
   "outputs": [],
   "source": [
    "t = tf.random.uniform(shape=(3, 3), minval=-10, maxval=10, dtype=tf.int32)\n",
    "print('* when tensor t is:{}'.format(tensor_to_str(t)))\n",
    "\n",
    "indices = tf.where(condition=t<0)\n",
    "print('\\n* and \"tf.where(condition=t<0)\" is:{}'.format(tensor_to_str(indices)))\n",
    "\n",
    "t_ = tf.gather_nd(t, indices)\n",
    "print('\\n* and \"tf.gather_nd(t, tf.where(t<0))\" is:{}'.format(tensor_to_str(t)))"
   ]
  },
  {
   "cell_type": "markdown",
   "metadata": {},
   "source": [
    "- `tf.where` 也可以根据一个 condition 对两个张量的内容进行筛选，将 condition 为`True`的部分组合成新的张量"
   ]
  },
  {
   "cell_type": "code",
   "execution_count": null,
   "metadata": {},
   "outputs": [],
   "source": [
    "condition = tf.cast(tf.random.uniform([3, 3], minval=0, maxval=2, dtype=tf.int32), tf.bool)\n",
    "print('* when condition is:{}'.format(tensor_to_str(condition)))\n",
    "\n",
    "t1 = tf.reshape(tensor=tf.range(1, 10), shape=(3, 3))\n",
    "print('\\n* and t1 is:{}'.format(tensor_to_str(t1)))\n",
    "\n",
    "t2 = tf.reshape(tensor=tf.range(-9, 0), shape=(3, 3))\n",
    "print('\\n* and t2 is:{}'.format(tensor_to_str(t1)))\n",
    "\n",
    "t_ = tf.where(condition, t1, t2)\n",
    "print('\\n* then \"tf.where(condition, t1, t2)\" is:{}'.format(tensor_to_str(t1)))"
   ]
  },
  {
   "cell_type": "markdown",
   "metadata": {},
   "source": [
    "## 调整张量维度"
   ]
  },
  {
   "cell_type": "markdown",
   "metadata": {},
   "source": [
    "### 更改维度\n",
    "\n",
    "- 通过`tf.reshape`方法可以转换一个张量额形状\n",
    "- 无论转为任何形状，元素的总数都不能发生改变"
   ]
  },
  {
   "cell_type": "code",
   "execution_count": null,
   "metadata": {},
   "outputs": [],
   "source": [
    "t = tf.convert_to_tensor(np.arange(20.))\n",
    "print('* when tensor t is:{}'.format(tensor_to_str(t)))\n",
    "\n",
    "t_ = tf.reshape(t, (2, 10))\n",
    "print('\\n* then tf.reshape(t, (2, 10)) is:{}'.format(tensor_to_str(t_)))\n",
    "\n",
    "t_ = tf.reshape(t, (2, 5, 2))\n",
    "print('\\n* then tf.reshape(t, (2, 5, 2)) is:{}'.format(tensor_to_str(t_)))"
   ]
  },
  {
   "cell_type": "markdown",
   "metadata": {},
   "source": [
    "### 转置"
   ]
  },
  {
   "cell_type": "markdown",
   "metadata": {},
   "source": [
    "- 默认的转置是轴对称转置，例如`t(2, 3, 4)`会转置为`t(4, 3, 2)`， 此时`perm`参数为`(2, 1, 0)`，表示轴`(0, 1, 2)`会被转换为轴`(2, 1, 0)`"
   ]
  },
  {
   "cell_type": "code",
   "execution_count": null,
   "metadata": {},
   "outputs": [],
   "source": [
    "t = tf.constant(np.arange(24).reshape((2, 3, 4)))  # source matrix, shape is (2, 3, 4)\n",
    "print('* when tensor t is:{}'.format(tensor_to_str(t)))\n",
    "\n",
    "t_ = tf.transpose(t)  # default transpose, perm is (1, 0), means from shape (2, 3, 4) to shape (4, 3, 2)\n",
    "print('\\n* then tf.transpose(t) is:{}'.format(tensor_to_str(t_)))"
   ]
  },
  {
   "cell_type": "markdown",
   "metadata": {},
   "source": [
    "- `perm`用于指定转置的轴以及位置，例如`perm=(1, 0)`表示将原有张量的第`1`轴转换为新张量的第`0`轴，第`0`轴转为新张量的第`1`轴"
   ]
  },
  {
   "cell_type": "code",
   "execution_count": null,
   "metadata": {},
   "outputs": [],
   "source": [
    "t = tf.constant(np.arange(24).reshape((2, 3, 4)))  # source matrix, shape is (2, 3, 4)\n",
    "print('* when tensor t is:{}'.format(tensor_to_str(t)))\n",
    "\n",
    "t_ = tf.transpose(t, perm=(2, 1, 0))  # perm is (2, 1, 0), means from shape (2, 3, 4) to shape (4, 3, 2)\n",
    "print('\\n* then tf.transpose(t, perm=(1, 2, 0)) is:{}'.format(tensor_to_str(t_)))\n",
    "\n",
    "t_ = tf.transpose(t, perm=(0, 2, 1))  # perm is (0, 2, 1), means from shape (2, 3, 4) to shape (2, 4, 3)\n",
    "print('\\n* then tf.transpose(t, perm=(2, 1, 0)) is:{}'.format(tensor_to_str(t_)))\n",
    "\n",
    "t_ = tf.transpose(t, perm=(2, 0, 1)) # perm is (2, 0, 1), means from shape (2, 3, 4) to shape (4, 2, 3)\n",
    "print('\\n* then tf.transpose(t, perm=(2, 1, 0)) is:{}'.format(tensor_to_str(t_)))"
   ]
  },
  {
   "cell_type": "markdown",
   "metadata": {},
   "source": [
    "### 添加纬度\n",
    "\n",
    "- `tf.expand_dims`在指定的维度增加一个`dims=1`的轴\n",
    "- `axis`参数指定要扩展的轴所在的维度，正数表示从前到后数，负数表示从后向前数"
   ]
  },
  {
   "cell_type": "code",
   "execution_count": null,
   "metadata": {},
   "outputs": [],
   "source": [
    "t = tf.constant([[1, 2, 3], [4, 5, 6]])\n",
    "print('* when tensor t is:{}'.format(tensor_to_str(t)))\n",
    "\n",
    "t_ = tf.expand_dims(t, axis=0)\n",
    "print('\\n* then \"tf.expand_dims(t, axis=0)\" is:{}'.format(tensor_to_str(t_)))\n",
    "\n",
    "t_ = tf.expand_dims(t, axis=1)\n",
    "print('\\n* then \"tf.expand_dims(t, axis=1)\" is:{}'.format(tensor_to_str(t_)))\n",
    "\n",
    "t_ = tf.expand_dims(t, axis=2)\n",
    "print('\\n* then \"tf.expand_dims(t, axis=1)\" is:{}'.format(tensor_to_str(t_)))\n",
    "\n",
    "t_ = tf.expand_dims(t, axis=-1)\n",
    "print('\\n* then \"tf.expand_dims(t, axis=-1)\" is:{}'.format(tensor_to_str(t_)))"
   ]
  },
  {
   "cell_type": "markdown",
   "metadata": {},
   "source": [
    "### 删除维度\n",
    "\n",
    "- `tf.squeeze`用于删除指定张量中所有`dims=1`的维度"
   ]
  },
  {
   "cell_type": "code",
   "execution_count": null,
   "metadata": {},
   "outputs": [],
   "source": [
    "t = tf.random.uniform(shape=(1, 3, 1, 2), minval=0, maxval=10, dtype=tf.int32)\n",
    "print('* when tensor t is:{}'.format(tensor_to_str(t)))\n",
    "\n",
    "t_ = tf.squeeze(t)\n",
    "print('\\n* then \"tf.squeeze(t)\" is:{}'.format(tensor_to_str(t_)))"
   ]
  }
 ],
 "metadata": {
  "kernelspec": {
   "display_name": "Python 3",
   "language": "python",
   "name": "python3"
  },
  "language_info": {
   "codemirror_mode": {
    "name": "ipython",
    "version": 3
   },
   "file_extension": ".py",
   "mimetype": "text/x-python",
   "name": "python",
   "nbconvert_exporter": "python",
   "pygments_lexer": "ipython3",
   "version": "3.7.4"
  }
 },
 "nbformat": 4,
 "nbformat_minor": 4
}
