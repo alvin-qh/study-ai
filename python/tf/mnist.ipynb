{
 "cells": [
  {
   "cell_type": "markdown",
   "metadata": {},
   "source": [
    "### refer to: https://www.tensorflow.org/tutorials/quickstart/beginner"
   ]
  },
  {
   "cell_type": "code",
   "execution_count": 2,
   "metadata": {
    "pycharm": {
     "is_executing": false
    }
   },
   "outputs": [
    {
     "name": "stdout",
     "output_type": "stream",
     "text": [
      "* train and test data loaded, shape is: (60000, 28, 28)\n",
      "10000/1 - 0s - loss: 0.1936 - accuracy: 0.9268\n",
      "* finish test, lost is 0.2708414345532656, accuracy is 0.926800012588501\n"
     ]
    },
    {
     "data": {
      "image/png": "[encoded data removed]",
      "text/plain": [
       "<Figure size 72x72 with 1 Axes>"
      ]
     },
     "metadata": {
      "needs_background": "light"
     },
     "output_type": "display_data"
    },
    {
     "name": "stdout",
     "output_type": "stream",
     "text": [
      "* result number is: 1\n"
     ]
    }
   ],
   "source": [
    "import random as rdm\n",
    "\n",
    "import matplotlib.pyplot as plt\n",
    "import numpy as np\n",
    "import tensorflow as tf\n",
    "from utils import load_weights, save_weights, show_image\n",
    "\n",
    "mnist = tf.keras.datasets.mnist\n",
    "\n",
    "(x_train, y_train), (x_test, y_test) = mnist.load_data()\n",
    "print('* train and test data loaded, shape is: {}'.format(x_train.shape))\n",
    "\n",
    "x_train, x_test = x_train / 255.0, x_test / 255.0\n",
    "\n",
    "model = tf.keras.models.Sequential([\n",
    "    tf.keras.layers.Flatten(input_shape=(28, 28)),  # 输入层，输入 28 点阵图片\n",
    "    tf.keras.layers.Dropout(0.2),  # dropout 正则化\n",
    "    tf.keras.layers.Dense(10, activation='softmax')  # 10 单元的 softmax 层作为输出\n",
    "])\n",
    "\n",
    "model.compile(optimizer='adam',\n",
    "              loss='sparse_categorical_crossentropy',\n",
    "              metrics=['accuracy'])\n",
    "\n",
    "model_path = 'models/mnist_num_softmax'\n",
    "if not load_weights(model, model_path=model_path):\n",
    "    model.fit(x_train, y_train, epochs=5)\n",
    "    save_weights(model, model_path=model_path)\n",
    "\n",
    "lost, accuracy = model.evaluate(x_test, y_test, verbose=2)\n",
    "print('* finish test, lost is {}, accuracy is {}'.format(lost, accuracy))\n",
    "\n",
    "random_idx = rdm.randint(0, len(x_test))\n",
    "\n",
    "selected_img = np.array([x_test[random_idx]])\n",
    "show_image(selected_img)\n",
    "\n",
    "result_num = np.argmax(model.predict(selected_img)[0])\n",
    "print('* result number is: {}'.format(result_num))"
   ]
  },
  {
   "cell_type": "code",
   "execution_count": 3,
   "metadata": {
    "pycharm": {
     "is_executing": false
    }
   },
   "outputs": [
    {
     "name": "stdout",
     "output_type": "stream",
     "text": [
      "* train and test data loaded, shape is: (60000, 28, 28)\n",
      "10000/1 - 0s - loss: 0.0410 - accuracy: 0.9760\n",
      "* finish test, lost is 0.07981035743718967, accuracy is 0.9760000109672546\n"
     ]
    },
    {
     "data": {
      "image/png": "[encoded data removed]",
      "text/plain": [
       "<Figure size 72x72 with 1 Axes>"
      ]
     },
     "metadata": {
      "needs_background": "light"
     },
     "output_type": "display_data"
    },
    {
     "name": "stdout",
     "output_type": "stream",
     "text": [
      "* result number is: 2\n"
     ]
    }
   ],
   "source": [
    "import tensorflow as tf\n",
    "import numpy as np\n",
    "import matplotlib.pyplot as plt\n",
    "import random as rdm\n",
    "from utils import load_weights, save_weights, show_image\n",
    "\n",
    "mnist = tf.keras.datasets.mnist\n",
    "\n",
    "(x_train, y_train), (x_test, y_test) = mnist.load_data()\n",
    "print('* train and test data loaded, shape is: {}'.format(x_train.shape))\n",
    "\n",
    "x_train, x_test = x_train / 255.0, x_test / 255.0\n",
    "\n",
    "model = tf.keras.models.Sequential(\n",
    "    [\n",
    "        tf.keras.layers.Flatten(input_shape=(28, 28)),  # 输入层，输入 28 点阵图片\n",
    "        tf.keras.layers.Dense(128, activation='relu'),  # 128 神经元的全连接层\n",
    "        tf.keras.layers.Dropout(0.2),  # dropout 正则化\n",
    "        tf.keras.layers.Dense(10, activation='softmax')  # 10 单元的 softmax 层作为输出\n",
    "    ]\n",
    ")\n",
    "\n",
    "model.compile(optimizer='adam',\n",
    "              loss='sparse_categorical_crossentropy',\n",
    "              metrics=['accuracy'])\n",
    "\n",
    "model_path = 'models/mnist_num_dense'\n",
    "if not load_weights(model, model_path=model_path):\n",
    "    model.fit(x_train, y_train, epochs=5)\n",
    "    save_weights(model, model_path=model_path)\n",
    "\n",
    "lost, accuracy = model.evaluate(x_test, y_test, verbose=2)\n",
    "print('* finish test, lost is {}, accuracy is {}'.format(lost, accuracy))\n",
    "\n",
    "random_idx = rdm.randint(0, len(x_test))\n",
    "\n",
    "selected_img = np.array([x_test[random_idx]])  # select random image from test list\n",
    "show_image(selected_img)\n",
    "\n",
    "result_num = np.argmax(model.predict(selected_img)[0])\n",
    "print('* result number is: {}'.format(result_num))"
   ]
  },
  {
   "cell_type": "markdown",
   "metadata": {},
   "source": [
    "### refer to: https://www.tensorflow.org/tutorials/keras/classification"
   ]
  },
  {
   "cell_type": "code",
   "execution_count": 4,
   "metadata": {
    "pycharm": {
     "is_executing": false
    }
   },
   "outputs": [
    {
     "name": "stdout",
     "output_type": "stream",
     "text": [
      "* train and test data loaded, shape is: (60000, 28, 28)\n",
      "WARNING:tensorflow:Unresolved object in checkpoint: (root).optimizer.iter\n",
      "WARNING:tensorflow:Unresolved object in checkpoint: (root).optimizer.beta_1\n",
      "WARNING:tensorflow:Unresolved object in checkpoint: (root).optimizer.beta_2\n",
      "WARNING:tensorflow:Unresolved object in checkpoint: (root).optimizer.decay\n",
      "WARNING:tensorflow:Unresolved object in checkpoint: (root).optimizer.learning_rate\n",
      "WARNING:tensorflow:A checkpoint was restored (e.g. tf.train.Checkpoint.restore or tf.keras.Model.load_weights) but not all checkpointed values were used. See above for specific issues. Use expect_partial() on the load status object, e.g. tf.train.Checkpoint.restore(...).expect_partial(), to silence these warnings, or use assert_consumed() to make the check explicit. See https://www.tensorflow.org/alpha/guide/checkpoints#loading_mechanics for details.\n",
      "WARNING:tensorflow:Unresolved object in checkpoint: (root).optimizer.iter\n",
      "WARNING:tensorflow:Unresolved object in checkpoint: (root).optimizer.beta_1\n",
      "WARNING:tensorflow:Unresolved object in checkpoint: (root).optimizer.beta_2\n",
      "WARNING:tensorflow:Unresolved object in checkpoint: (root).optimizer.decay\n",
      "WARNING:tensorflow:Unresolved object in checkpoint: (root).optimizer.learning_rate\n",
      "WARNING:tensorflow:A checkpoint was restored (e.g. tf.train.Checkpoint.restore or tf.keras.Model.load_weights) but not all checkpointed values were used. See above for specific issues. Use expect_partial() on the load status object, e.g. tf.train.Checkpoint.restore(...).expect_partial(), to silence these warnings, or use assert_consumed() to make the check explicit. See https://www.tensorflow.org/alpha/guide/checkpoints#loading_mechanics for details.\n",
      "10000/1 - 1s - loss: 0.2724 - accuracy: 0.8804\n",
      "* finish test, lost is 0.3378541542828083, accuracy is 0.8804000020027161\n"
     ]
    },
    {
     "data": {
      "image/png": "[encoded data removed]",
      "text/plain": [
       "<Figure size 72x72 with 1 Axes>"
      ]
     },
     "metadata": {
      "needs_background": "light"
     },
     "output_type": "display_data"
    },
    {
     "name": "stdout",
     "output_type": "stream",
     "text": [
      "* result is \"Dress\"\n"
     ]
    }
   ],
   "source": [
    "import tensorflow as tf\n",
    "import numpy as np\n",
    "import matplotlib.pyplot as plt\n",
    "import random as rdm\n",
    "from utils import load_weights, save_weights, show_image\n",
    "\n",
    "class_names = [\n",
    "    'T-shirt/top',\n",
    "    'Trouser',\n",
    "    'Pullover',\n",
    "    'Dress',\n",
    "    'Coat',\n",
    "    'Sandal',\n",
    "    'Shirt',\n",
    "    'Sneaker',\n",
    "    'Bag',\n",
    "    'Ankle boot',\n",
    "]\n",
    "\n",
    "data = tf.keras.datasets.fashion_mnist\n",
    "(imgs_train, labels_train), (imgs_test, labels_test) = data.load_data()\n",
    "imgs_train, imgs_test = imgs_train / 255.0, imgs_test / 255.0\n",
    "print('* train and test data loaded, shape is: {}'.format(imgs_train.shape))\n",
    "\n",
    "model = tf.keras.Sequential([\n",
    "    tf.keras.layers.Flatten(input_shape=(28, 28)),  # 输入层，输入 28 点阵图片\n",
    "    tf.keras.layers.Dense(128, activation='relu'),  # 128 神经元的全连接层\n",
    "    tf.keras.layers.Dropout(0.2),  # dropout 正则化\n",
    "    tf.keras.layers.Dense(10, activation='softmax')  # 10 单元的 softmax 层作为输出\n",
    "])\n",
    "\n",
    "model.compile(optimizer='adam',\n",
    "              loss='sparse_categorical_crossentropy',\n",
    "              metrics=['accuracy'])\n",
    "\n",
    "model_path = 'models/mnist_fashion_dense'\n",
    "if not load_weights(model, model_path=model_path):\n",
    "    model.fit(imgs_train, labels_train, epochs=10)\n",
    "    save_weights(model, model_path)\n",
    "\n",
    "lost, accuracy = model.evaluate(imgs_test, labels_test, verbose=2)\n",
    "print('* finish test, lost is {}, accuracy is {}'.format(lost, accuracy))\n",
    "\n",
    "random_idx = rdm.randint(0, len(imgs_test))\n",
    "\n",
    "selected_img = np.array([imgs_test[random_idx]])  # select random image from test list\n",
    "show_image(selected_img)\n",
    "\n",
    "result_idx = np.argmax(model.predict(selected_img)[0])\n",
    "result_cls = class_names[result_idx]\n",
    "print('* result is \"{}\"'.format(result_cls))"
   ]
  },
  {
   "cell_type": "code",
   "execution_count": 2,
   "metadata": {
    "pycharm": {
     "is_executing": false
    }
   },
   "outputs": [
    {
     "name": "stdout",
     "output_type": "stream",
     "text": [
      "* train and test data loaded, shape is: (60000, 28, 28, 1)\n",
      "WARNING:tensorflow:Unresolved object in checkpoint: (root).optimizer.iter\n",
      "WARNING:tensorflow:Unresolved object in checkpoint: (root).optimizer.beta_1\n",
      "WARNING:tensorflow:Unresolved object in checkpoint: (root).optimizer.beta_2\n",
      "WARNING:tensorflow:Unresolved object in checkpoint: (root).optimizer.decay\n",
      "WARNING:tensorflow:Unresolved object in checkpoint: (root).optimizer.learning_rate\n",
      "WARNING:tensorflow:A checkpoint was restored (e.g. tf.train.Checkpoint.restore or tf.keras.Model.load_weights) but not all checkpointed values were used. See above for specific issues. Use expect_partial() on the load status object, e.g. tf.train.Checkpoint.restore(...).expect_partial(), to silence these warnings, or use assert_consumed() to make the check explicit. See https://www.tensorflow.org/alpha/guide/checkpoints#loading_mechanics for details.\n",
      "10000/1 - 3s - loss: 0.1344 - accuracy: 0.9294\n",
      "* finish test, lost is 0.21741625018417834, accuracy is 0.9294000267982483\n"
     ]
    },
    {
     "data": {
      "image/png": "[encoded data removed]",
      "text/plain": [
       "<Figure size 72x72 with 1 Axes>"
      ]
     },
     "metadata": {
      "needs_background": "light"
     },
     "output_type": "display_data"
    },
    {
     "name": "stdout",
     "output_type": "stream",
     "text": [
      "* result is \"T-shirt/top\"\n"
     ]
    }
   ],
   "source": [
    "import tensorflow as tf\n",
    "import numpy as np\n",
    "import matplotlib.pyplot as plt\n",
    "import random as rdm\n",
    "from utils import load_weights, save_weights, show_image\n",
    "\n",
    "class_names = [\n",
    "    'T-shirt/top',\n",
    "    'Trouser',\n",
    "    'Pullover',\n",
    "    'Dress',\n",
    "    'Coat',\n",
    "    'Sandal',\n",
    "    'Shirt',\n",
    "    'Sneaker',\n",
    "    'Bag',\n",
    "    'Ankle boot',\n",
    "]\n",
    "\n",
    "data = tf.keras.datasets.fashion_mnist\n",
    "(imgs_train, labels_train), (imgs_test, labels_test) = data.load_data()\n",
    "imgs_train, imgs_test = imgs_train / 255.0, imgs_test / 255.0\n",
    "imgs_train, imgs_test = imgs_train.reshape(-1, 28, 28, 1), imgs_test.reshape(-1, 28, 28, 1)\n",
    "print('* train and test data loaded, shape is: {}'.format(imgs_train.shape))\n",
    "\n",
    "\n",
    "model = tf.keras.Sequential([\n",
    "    tf.keras.layers.Conv2D(32, (3, 3), activation='relu', input_shape=(28, 28, 1)),  # 输入层，输入 28 点阵图片\n",
    "    tf.keras.layers.Conv2D(64, (3, 3), activation='relu'),\n",
    "    tf.keras.layers.MaxPooling2D(pool_size=(2, 2)),\n",
    "    tf.keras.layers.Dropout(0.25),  # dropout 正则化\n",
    "    tf.keras.layers.Flatten(),  # 平面化\n",
    "    tf.keras.layers.Dense(128, activation='relu'),  # 128 神经元的全连接层\n",
    "    tf.keras.layers.Dropout(0.5),  # dropout 正则化\n",
    "    tf.keras.layers.Dense(10, activation='softmax')  # 10 单元的 softmax 层作为输出\n",
    "])\n",
    "\n",
    "model.compile(optimizer='adam',\n",
    "              loss='sparse_categorical_crossentropy',\n",
    "              metrics=['accuracy'])\n",
    "\n",
    "model_path = 'models/mnist_fashion_cnn'\n",
    "if not load_weights(model, model_path=model_path):\n",
    "    model.fit(imgs_train, labels_train, epochs=10)\n",
    "    save_weights(model, model_path=model_path)\n",
    "\n",
    "lost, accuracy = model.evaluate(imgs_test, labels_test, verbose=2)\n",
    "print('* finish test, lost is {}, accuracy is {}'.format(lost, accuracy))\n",
    "\n",
    "random_idx = rdm.randint(0, len(imgs_test))\n",
    "\n",
    "selected_img = np.array([imgs_test[random_idx]])  # select random image from test list\n",
    "show_image(selected_img.reshape(28, 28))\n",
    "\n",
    "result_idx = np.argmax(model.predict(selected_img)[0])\n",
    "result_cls = class_names[result_idx]\n",
    "print('* result is \"{}\"'.format(result_cls))"
   ]
  }
 ],
 "metadata": {
  "kernelspec": {
   "display_name": "Python 3",
   "language": "python",
   "name": "python3"
  },
  "language_info": {
   "codemirror_mode": {
    "name": "ipython",
    "version": 3
   },
   "file_extension": ".py",
   "mimetype": "text/x-python",
   "name": "python",
   "nbconvert_exporter": "python",
   "pygments_lexer": "ipython3",
   "version": "3.7.2"
  },
  "pycharm": {
   "stem_cell": {
    "cell_type": "raw",
    "metadata": {
     "collapsed": false
    },
    "source": []
   }
  }
 },
 "nbformat": 4,
 "nbformat_minor": 4
}
