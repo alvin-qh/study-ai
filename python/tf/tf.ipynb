{
 "cells": [
  {
   "cell_type": "code",
   "execution_count": 76,
   "metadata": {},
   "outputs": [
    {
     "name": "stdout",
     "output_type": "stream",
     "text": [
      "* result type is \"EagerTensor\"\n",
      "* result value is \"b'Hello World'\"\n"
     ]
    }
   ],
   "source": [
    "import tensorflow as tf\n",
    "\n",
    "@tf.function\n",
    "def add(h, W):\n",
    "    return tf.add(h, W)\n",
    "\n",
    "\n",
    "r = add('Hello', ' World')\n",
    "print('* result type is \"{}\"'.format(r.__class__.__name__))\n",
    "print('* result value is \"{}\"'.format(r.numpy()))"
   ]
  },
  {
   "cell_type": "code",
   "execution_count": 77,
   "metadata": {},
   "outputs": [
    {
     "name": "stdout",
     "output_type": "stream",
     "text": [
      "* result is [3 0 7]\n"
     ]
    }
   ],
   "source": [
    "import tensorflow as tf\n",
    "\n",
    "def linear_layer(x):\n",
    "    return 2 * x + 1\n",
    "\n",
    "@tf.function\n",
    "def deep_net(x):\n",
    "    return tf.nn.relu(linear_layer(x))\n",
    "\n",
    "r = deep_net(tf.constant((1, -2, 3)))\n",
    "print('* result is {}'.format(r))"
   ]
  },
  {
   "cell_type": "code",
   "execution_count": 78,
   "metadata": {},
   "outputs": [
    {
     "name": "stdout",
     "output_type": "stream",
     "text": [
      "variable x is:\n",
      "[[ 0.41979003  0.02658522 -0.03694689]\n",
      " [-0.4899968  -0.26153696 -0.23578537]\n",
      " [-0.46489942  0.06253743  0.04813612]]\n",
      "variable y is:\n",
      "[[0.0128175  0.9500203  0.63705134]\n",
      " [0.54777133 0.5567939  0.07118535]\n",
      " [0.91261613 0.9283582  0.3724078 ]]\n",
      "x · y is:\n",
      "[[-0.01377505  0.3793116   0.25556096]\n",
      " [-0.36472452 -0.8300224  -0.418579  ]\n",
      " [ 0.07222716 -0.36215585 -0.27378678]]\n",
      "relu(x · y) is:\n",
      "[[0.         0.3793116  0.25556096]\n",
      " [0.         0.         0.        ]\n",
      " [0.07222716 0.         0.        ]]\n"
     ]
    }
   ],
   "source": [
    "import tensorflow as tf\n",
    "\n",
    "@tf.function\n",
    "def simple_matmul(x, y):\n",
    "    return tf.matmul(x, y)\n",
    "\n",
    "@tf.function\n",
    "def simple_nn_layer(x, y):\n",
    "    return tf.nn.relu(tf.matmul(x, y))\n",
    "\n",
    "\n",
    "x = tf.random.uniform((3, 3), minval=-0.5, maxval=0.5)\n",
    "print('variable x is:\\n{}'.format(x))\n",
    "\n",
    "y = tf.random.uniform((3, 3))\n",
    "print('variable y is:\\n{}'.format(y))\n",
    "\n",
    "xy = simple_matmul(x, y)\n",
    "print('x · y is:\\n{}'.format(xy))\n",
    "\n",
    "relu = simple_nn_layer(x, y)\n",
    "print('relu(x · y) is:\\n{}'.format(relu))  # relu"
   ]
  }
 ],
 "metadata": {
  "kernelspec": {
   "display_name": "Python 3",
   "language": "python",
   "name": "python3"
  },
  "language_info": {
   "codemirror_mode": {
    "name": "ipython",
    "version": 3
   },
   "file_extension": ".py",
   "mimetype": "text/x-python",
   "name": "python",
   "nbconvert_exporter": "python",
   "pygments_lexer": "ipython3",
   "version": "3.7.2"
  }
 },
 "nbformat": 4,
 "nbformat_minor": 4
}
