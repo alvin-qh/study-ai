{
 "cells": [
  {
   "cell_type": "markdown",
   "metadata": {},
   "source": [
    "# 转置"
   ]
  },
  {
   "cell_type": "code",
   "execution_count": null,
   "metadata": {},
   "outputs": [],
   "source": [
    "from __future__ import absolute_import, division, print_function, unicode_literals\n",
    "import numpy as np\n",
    "\n",
    "def ndarray_to_str(t: np.ndarray):\n",
    "    s = '\\n{} (shape={}, dtype={})'.format(t, t.shape, t.dtype)\n",
    "    s = s.replace('\\n', '\\n\\t')\n",
    "    return s"
   ]
  },
  {
   "cell_type": "markdown",
   "metadata": {},
   "source": [
    "## T Transpose\n",
    "\n",
    "- T Transpose 即轴对称转置，轴对称转置即将张量的行和列交换，相当于将张量旋转了 90°\n",
    "- 假设`a`是`ndarray`，则`a.T`为其转置"
   ]
  },
  {
   "cell_type": "markdown",
   "metadata": {},
   "source": [
    "- 张量 $A_{(2, 3)}$ 转置后变为 $A'_{(3, 2)}$，其中：\n",
    "    - $ A[0, 0]=>A'[0, 0] $\n",
    "    - $ A[0, 1]=>A'[1, 0] $\n",
    "    - $ A[0, 2]=>A'[2, 0] $\n",
    "    - $ A[1, 0]=>A'[0, 1] $\n",
    "    - $ A[1, 1]=>A'[1, 1] $\n",
    "    - $ A[1, 2]=>A'[2, 1] $\n",
    "    \n",
    "```\n",
    "[[1 2 3]     [[1 4]\n",
    " [4 5 6]] =>  [2 5]\n",
    "              [3 6]]\n",
    "```"
   ]
  },
  {
   "cell_type": "code",
   "execution_count": null,
   "metadata": {},
   "outputs": [],
   "source": [
    "a = np.array([[1, 2, 3], [4, 5, 6]])\n",
    "print('* when array \"a\" is:{}'.format(ndarray_to_str(a)))\n",
    "\n",
    "t = a.T\n",
    "print('* then \"a.T\" is:{}'.format(ndarray_to_str(t)))\n",
    "\n",
    "a = np.array([[1, 2], [3, 4], [5, 6]])\n",
    "print('\\n* when \"a\" is:{}'.format(ndarray_to_str(a)))\n",
    "\n",
    "t = a.T\n",
    "print('* then \"a.T\" is:{}'.format(ndarray_to_str(t)))"
   ]
  },
  {
   "cell_type": "markdown",
   "metadata": {},
   "source": [
    "- 张量 $A_{(1, 2, 3)}$ 转置后变为 $A'_{(3, 2, 1)}$，其中：\n",
    "    - $ A[0, 0, 0]=>A'[0, 0, 0] $\n",
    "    - $ A[0, 0, 1]=>A'[1, 0, 0] $\n",
    "    - $ A[0, 0, 2]=>A'[2, 0, 0] $\n",
    "    - $ A[0, 1, 0]=>A'[0, 1, 0] $\n",
    "    - $ A[0, 1, 1]=>A'[1, 1, 0] $\n",
    "    - $ A[0, 1, 2]=>A'[2, 1, 0] $\n",
    "    - ...\n",
    "    \n",
    "```\n",
    "[[[11 12 13]         [[[11]\n",
    "  [14, 15, 16]]]  =>   [14]]\n",
    "                      [[12]\n",
    "                       [15]]\n",
    "                      [[13]\n",
    "                       [16]]]\n",
    "```"
   ]
  },
  {
   "cell_type": "code",
   "execution_count": null,
   "metadata": {},
   "outputs": [],
   "source": [
    "a = np.array([[[11, 12, 13], [14, 15, 16]]])\n",
    "print('* when array \"a\" is:{}'.format(ndarray_to_str(a)))\n",
    "\n",
    "t = a.T\n",
    "print('* then \"a.T\" is:{}'.format(ndarray_to_str(t)))"
   ]
  },
  {
   "cell_type": "markdown",
   "metadata": {},
   "source": [
    "## 任意轴转置\n",
    "\n",
    "- `np.transpose`函数可以基于任意轴进行转置\n",
    "    - `np.transpose(a)`与`np.transpose(a, (1, 0))`相当于轴对称转置\n",
    "    - `np.transpose(a, (1, 2, 0))`相当于把 $A_{(x,y,z)}$ 集合转置为 $A'_{(y,z,x)}$"
   ]
  },
  {
   "cell_type": "code",
   "execution_count": null,
   "metadata": {},
   "outputs": [],
   "source": [
    "a = np.array([[1, 2, 3], [4, 5, 6]])\n",
    "print('* when array \"a\" is:{}'.format(ndarray_to_str(a)))\n",
    "\n",
    "t = np.transpose(a)\n",
    "print('* then \"np.transpose(a)\" is:{}'.format(ndarray_to_str(t)))\n",
    "\n",
    "t = np.transpose(a, (1, 0))\n",
    "print('* and \"np.transpose(a, (1, 0))\" is:{}'.format(ndarray_to_str(t)))\n",
    "\n",
    "a = np.reshape(np.arange(1, 25), (4, 3, 2))\n",
    "print('\\n* when array \"a\" is:{}'.format(ndarray_to_str(a)))\n",
    "\n",
    "t = np.transpose(a, (1, 2, 0))\n",
    "print('* then \"np.transpose(a, (1, 2, 0))\" is:{}'.format(ndarray_to_str(t)))"
   ]
  }
 ],
 "metadata": {
  "kernelspec": {
   "display_name": "Python 3",
   "language": "python",
   "name": "python3"
  },
  "language_info": {
   "codemirror_mode": {
    "name": "ipython",
    "version": 3
   },
   "file_extension": ".py",
   "mimetype": "text/x-python",
   "name": "python",
   "nbconvert_exporter": "python",
   "pygments_lexer": "ipython3",
   "version": "3.8.2"
  }
 },
 "nbformat": 4,
 "nbformat_minor": 4
}
