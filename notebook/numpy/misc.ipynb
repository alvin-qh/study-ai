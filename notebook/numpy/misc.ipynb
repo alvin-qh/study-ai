{
 "cells": [
  {
   "cell_type": "markdown",
   "metadata": {},
   "source": [
    "# 收集箱"
   ]
  },
  {
   "cell_type": "code",
   "execution_count": null,
   "metadata": {},
   "outputs": [],
   "source": [
    "from __future__ import absolute_import, division, print_function, unicode_literals\n",
    "\n",
    "import numpy as np\n",
    "\n",
    "def ndarray_to_str(t: np.ndarray):\n",
    "    if type(t) != np.ndarray:\n",
    "        t = np.array(t)\n",
    "\n",
    "    s = '\\n{} (shape={}, dtype={})'.format(t, t.shape, t.dtype)\n",
    "    s = s.replace('\\n', '\\n\\t')\n",
    "    return s"
   ]
  },
  {
   "cell_type": "markdown",
   "metadata": {},
   "source": [
    "### 张量组合\n",
    "\n",
    "- `np.c_`操作符用于组合多个不同的张量\n",
    "- 对于一个长度为`n`的矢量`t`，`np.c_[t]`相当于reshape为`(n, 1)`\n",
    "- `np.c_[a, b, c, ...]` 可以合并`a, b, c, ...` 张量为一个张量，要求所有张量形状相同"
   ]
  },
  {
   "cell_type": "code",
   "execution_count": null,
   "metadata": {},
   "outputs": [],
   "source": [
    "a = np.arange(1, 13)\n",
    "print('* when tensor a is:{}'.format(ndarray_to_str(a)))\n",
    "\n",
    "r = np.c_[a]\n",
    "print('  then \"np.c_[a]\" is:{}'.format(ndarray_to_str(r)))\n",
    "\n",
    "a = np.reshape(np.arange(1, 13), (3, 4))\n",
    "print('\\n* when tensor a is:{}'.format(ndarray_to_str(a)))\n",
    "\n",
    "b = np.reshape(np.arange(12, 0, step=-1), (3, 4))\n",
    "print('  and tensor b is:{}'.format(ndarray_to_str(b)))\n",
    "\n",
    "r = np.c_[a, b]\n",
    "print('  then \"np.c_[a, b]\" is:{}'.format(ndarray_to_str(r)))"
   ]
  },
  {
   "cell_type": "markdown",
   "metadata": {},
   "source": [
    "### 求平均值"
   ]
  },
  {
   "cell_type": "code",
   "execution_count": null,
   "metadata": {},
   "outputs": [],
   "source": [
    "a = np.arange(1., 13.)\n",
    "print('* when tensor a is:{}'.format(ndarray_to_str(a)))\n",
    "\n",
    "m = np.mean(a)\n",
    "print('  then \"np.mean(a)\" is:{}'.format(ndarray_to_str(m)))\n",
    "\n",
    "a = np.random.rand(10)\n",
    "print('\\n* when tensor a is:{}'.format(ndarray_to_str(a)))\n",
    "\n",
    "m = np.mean(a)\n",
    "print('  then \"np.mean(a)\" is:{}'.format(ndarray_to_str(m)))"
   ]
  },
  {
   "cell_type": "markdown",
   "metadata": {},
   "source": [
    "### 获取最大值/最小值索引"
   ]
  },
  {
   "cell_type": "code",
   "execution_count": null,
   "metadata": {},
   "outputs": [],
   "source": [
    "a = np.random.randint(low=1, high=10, size=5)\n",
    "print('* when tensor a is:{}'.format(ndarray_to_str(a)))\n",
    "\n",
    "max_index = np.argmax(a)\n",
    "print('  then \"np.argmax(a)\" is: {}, value is: {}'.format(max_index, a[max_index]))\n",
    "\n",
    "min_index = np.argmin(a)\n",
    "print('  then \"np.argmin(a)\" is: {}, value is: {}'.format(min_index, a[min_index]))"
   ]
  },
  {
   "cell_type": "markdown",
   "metadata": {},
   "source": [
    "### 范数\n",
    "\n",
    "- `np.linalg.norm(x, ord=None, axis=None, keepdims=False)`用于求范数\n",
    "    - `ord`表示范数类型。包括：`ord=1`(L1 范数)、`ord=2`(L2 范数)、`ord=np.inf`(无穷范数)\n",
    "    - `axis`表示处理方式。包括：`axis=1`(按行向量处理，求多个行向量的范数)、`axis=0`(按列向量处理，求多个列向量的范数)、`axis=None`表示矩阵范数\n",
    "    - `keepdims`是否保持矩阵的二维特性，`True`表示保持矩阵的二维特性，`False`相反\n",
    "- 向量范数\n",
    "    - L1 范数相当于向量中每个元素绝对值的和，即 $||x||_1=\\sum_{i=1}^{N}{|x_i|}$\n",
    "    - L2 范数相当于向量元素绝对值的平方和再开平方 $||x||_2=\\sqrt{\\sum_{i=1}^{N}{x_i^2}}$\n",
    "    - 无穷范数相当于所有元素绝对值得最大值 $||x||_\\infty=max(|x_i|)$\n",
    "- 矩阵的范数：\n",
    "    - L1 范数表示列和的最大值\n",
    "    - L2 范数表示求特征值，然后求最大特征值得算术平方根，$|{\\lambda}E-ATA|=0$\n",
    "    - 无穷范数行和的最大值\n",
    "    - `ord=None`：求整个矩阵元素平方和再开根号"
   ]
  },
  {
   "cell_type": "code",
   "execution_count": null,
   "metadata": {},
   "outputs": [],
   "source": [
    "a = np.reshape(np.arange(1, 13), (3, 4))\n",
    "print('* when tensor a is:{}'.format(ndarray_to_str(a)))\n",
    "\n",
    "b = np.arange(1, 5)\n",
    "print('  and tensor b is:{}'.format(ndarray_to_str(b)))\n",
    "\n",
    "t = a - b\n",
    "print('  then \"a - b\" is:{}'.format(ndarray_to_str(t)))\n",
    "\n",
    "t = np.linalg.norm(t, axis=1)  # ord=2\n",
    "print('  then \"np.linalg.norm(a - b, axis=1)\" is:{}'.format(ndarray_to_str(t)))"
   ]
  },
  {
   "cell_type": "markdown",
   "metadata": {},
   "source": [
    "### 求向量差集"
   ]
  },
  {
   "cell_type": "code",
   "execution_count": null,
   "metadata": {},
   "outputs": [],
   "source": [
    "a = np.arange(1, 101)\n",
    "print('* when tensor a is: {}'.format(ndarray_to_str(a)))\n",
    "\n",
    "b = np.arange(50, 101)\n",
    "print('  and tensor b is: {}'.format(ndarray_to_str(b)))\n",
    "\n",
    "t = np.setdiff1d(a, b)\n",
    "print('  then \"np.setdiff1d(a, b)\" is: {}'.format(ndarray_to_str(b)))"
   ]
  }
 ],
 "metadata": {
  "kernelspec": {
   "display_name": "Python 3",
   "language": "python",
   "name": "python3"
  },
  "language_info": {
   "codemirror_mode": {
    "name": "ipython",
    "version": 3
   },
   "file_extension": ".py",
   "mimetype": "text/x-python",
   "name": "python",
   "nbconvert_exporter": "python",
   "pygments_lexer": "ipython3",
   "version": "3.8.2"
  }
 },
 "nbformat": 4,
 "nbformat_minor": 4
}
