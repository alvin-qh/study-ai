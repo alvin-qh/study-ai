{
 "cells": [
  {
   "cell_type": "markdown",
   "metadata": {},
   "source": [
    "# Operations"
   ]
  },
  {
   "cell_type": "code",
   "execution_count": null,
   "metadata": {},
   "outputs": [],
   "source": [
    "from __future__ import absolute_import, division, print_function, unicode_literals\n",
    "\n",
    "import numpy as np\n",
    "from functools import reduce\n",
    "\n",
    "\n",
    "def ndarray_to_str(t: np.ndarray):\n",
    "    s = '\\n{} (shape={}, dtype={})'.format(t, t.shape, t.dtype)\n",
    "    s = s.replace('\\n', '\\n{}'.format(' ' * 2))\n",
    "    return s\n",
    "\n",
    "def make_array_by_shape(shape, multiple=1, start=1):\n",
    "    m = reduce(lambda x, y: x * y, shape) + start\n",
    "    return np.reshape(np.arange(start, m), shape) * multiple"
   ]
  },
  {
   "cell_type": "markdown",
   "metadata": {},
   "source": [
    "## 1. Arithmetic operator"
   ]
  },
  {
   "cell_type": "markdown",
   "metadata": {},
   "source": [
    "### 1.1 Scalar operation"
   ]
  },
  {
   "cell_type": "code",
   "execution_count": null,
   "metadata": {},
   "outputs": [],
   "source": [
    "a = 10\n",
    "b = 0.1"
   ]
  },
  {
   "cell_type": "markdown",
   "metadata": {},
   "source": [
    "#### 1.1.1. $m+n$"
   ]
  },
  {
   "cell_type": "code",
   "execution_count": null,
   "metadata": {},
   "outputs": [],
   "source": [
    "r = np.add(a, b)\n",
    "print('* when a={}, b={}, then \"np.add(a, b)\" is {}'.format(a, b, r))"
   ]
  },
  {
   "cell_type": "markdown",
   "metadata": {},
   "source": [
    "#### 1.1.2. $m-n$"
   ]
  },
  {
   "cell_type": "code",
   "execution_count": null,
   "metadata": {},
   "outputs": [],
   "source": [
    "r = np.subtract(a, b)\n",
    "print('* when a={}, b={}, then \"np.subtract(a, b)\" is {}'.format(a, b, r))"
   ]
  },
  {
   "cell_type": "markdown",
   "metadata": {},
   "source": [
    "#### 1.1.3. $m*n$"
   ]
  },
  {
   "cell_type": "code",
   "execution_count": null,
   "metadata": {},
   "outputs": [],
   "source": [
    "r = np.multiply(a, b)\n",
    "print('* when a={}, b={}, then \"np.multiply(a, b)\" is {}'.format(a, b, r))"
   ]
  },
  {
   "cell_type": "markdown",
   "metadata": {},
   "source": [
    "#### 1.1.4. $m÷n$"
   ]
  },
  {
   "cell_type": "code",
   "execution_count": null,
   "metadata": {},
   "outputs": [],
   "source": [
    "r = np.subtract(a, b)\n",
    "print('* when a={}, b={}, then \"np.subtract(a, b)\" is {}'.format(a, b, r))"
   ]
  },
  {
   "cell_type": "markdown",
   "metadata": {},
   "source": [
    "#### 1.1.5. $m\\%n$"
   ]
  },
  {
   "cell_type": "code",
   "execution_count": null,
   "metadata": {},
   "outputs": [],
   "source": [
    "r = np.mod(a, b)\n",
    "print('* when a={}, b={}, then \"np.mod(a, b)\" is {}'.format(a, b, r))"
   ]
  },
  {
   "cell_type": "markdown",
   "metadata": {},
   "source": [
    "### 1.2. Tensor and scalar operations"
   ]
  },
  {
   "cell_type": "code",
   "execution_count": null,
   "metadata": {},
   "outputs": [],
   "source": [
    "a = [[1, 2, 3], [4, 5, 6]]\n",
    "b = 2."
   ]
  },
  {
   "cell_type": "markdown",
   "metadata": {},
   "source": [
    "#### 1.2.1. $T(x, y) + n$"
   ]
  },
  {
   "cell_type": "code",
   "execution_count": null,
   "metadata": {},
   "outputs": [],
   "source": [
    "r = np.add(a, b)\n",
    "print('* when a={}, b={}, then \"np.add(a, b)\" is: {}'.format(a, b, ndarray_to_str(r)))"
   ]
  },
  {
   "cell_type": "markdown",
   "metadata": {},
   "source": [
    "#### 1.2.2. $T(x, y) - n$"
   ]
  },
  {
   "cell_type": "code",
   "execution_count": null,
   "metadata": {},
   "outputs": [],
   "source": [
    "r = np.subtract(a, b)\n",
    "print('* when a={}, b={}, then \"np.subtract(a, b)\" is: {}'.format(a, b, ndarray_to_str(r)))"
   ]
  },
  {
   "cell_type": "markdown",
   "metadata": {},
   "source": [
    "#### 1.2.3. $T(x, y)*n$"
   ]
  },
  {
   "cell_type": "code",
   "execution_count": null,
   "metadata": {},
   "outputs": [],
   "source": [
    "r = np.multiply(a, b)\n",
    "print('* when a={}, b={}, then \"np.multiply(a, b)\" is: {}'.format(a, b, ndarray_to_str(r)))"
   ]
  },
  {
   "cell_type": "markdown",
   "metadata": {},
   "source": [
    "#### 1.2.4. $T(x, y)÷n$"
   ]
  },
  {
   "cell_type": "code",
   "execution_count": null,
   "metadata": {},
   "outputs": [],
   "source": [
    "r = np.divide(a, b)\n",
    "print('* when a={}, b={}, then \"np.divide(a, b)\" is: {}'.format(a, b, ndarray_to_str(r)))"
   ]
  },
  {
   "cell_type": "markdown",
   "metadata": {},
   "source": [
    "#### 1.2.5. $T(x, y)\\%n$"
   ]
  },
  {
   "cell_type": "code",
   "execution_count": null,
   "metadata": {},
   "outputs": [],
   "source": [
    "r = np.mod(a, b)\n",
    "print('* when a={}, b={}, then \"np.mod(a, b)\" is: {}'.format(a, b, ndarray_to_str(r)))"
   ]
  },
  {
   "cell_type": "markdown",
   "metadata": {},
   "source": [
    "### 1.3. Tensor and vector operations"
   ]
  },
  {
   "cell_type": "markdown",
   "metadata": {},
   "source": [
    "#### 1.3.1. $T_1(x_1, y_1) + T_2(x_2)$"
   ]
  },
  {
   "cell_type": "code",
   "execution_count": null,
   "metadata": {},
   "outputs": [],
   "source": [
    "a = [[1, 2, 3], [4, 5, 6]]\n",
    "b = [0.1, 0.2, 0.3]\n",
    "\n",
    "r = np.add(a, b)\n",
    "print('* when a={}, b={}, then \"np.add(a, b)\" is: {}'.format(a, b, ndarray_to_str(r)))"
   ]
  },
  {
   "cell_type": "markdown",
   "metadata": {},
   "source": [
    "#### 1.3.2. $T_1(x_1, y_1) - T_2(x_2)$"
   ]
  },
  {
   "cell_type": "code",
   "execution_count": null,
   "metadata": {},
   "outputs": [],
   "source": [
    "a = [[1, 2, 3], [4, 5, 6]]\n",
    "b = [0.1, 0.2, 0.3]\n",
    "\n",
    "r = np.subtract(a, b)\n",
    "print('* when a={}, b={}, then \"np.subtract(a, b)\" is: {}'.format(a, b, ndarray_to_str(r)))"
   ]
  },
  {
   "cell_type": "markdown",
   "metadata": {},
   "source": [
    "#### 1.3.3. $T_1(x_1, y_1) * T_2(x_2)$"
   ]
  },
  {
   "cell_type": "code",
   "execution_count": null,
   "metadata": {},
   "outputs": [],
   "source": [
    "a = [[1, 2, 3], [4, 5, 6]]\n",
    "b = [0.1, 0.2, 0.3]\n",
    "\n",
    "r = np.multiply(a, b)\n",
    "print('* when a={}, b={}, then \"np.multiply(a, b)\" is: {}'.format(a, b, ndarray_to_str(r)))"
   ]
  },
  {
   "cell_type": "markdown",
   "metadata": {},
   "source": [
    "#### 1.3.4. $T_1(x_1, y_1) ÷ T_2(x_2)$"
   ]
  },
  {
   "cell_type": "code",
   "execution_count": null,
   "metadata": {},
   "outputs": [],
   "source": [
    "a = [[1, 2, 3], [4, 5, 6]]\n",
    "b = [0.1, 0.2, 0.3]\n",
    "\n",
    "r = np.divide(a, b)\n",
    "print('* when a={}, b={}, then \"np.divide(a, b)\" is: {}'.format(a, b, ndarray_to_str(r)))"
   ]
  },
  {
   "cell_type": "markdown",
   "metadata": {},
   "source": [
    "#### 1.3.5. $T_1(x_1, y_1) \\% T_2(x_2)$"
   ]
  },
  {
   "cell_type": "code",
   "execution_count": null,
   "metadata": {},
   "outputs": [],
   "source": [
    "a = [[1, 2, 3], [4, 5, 6]]\n",
    "b = [0.1, 0.2, 0.3]\n",
    "\n",
    "r = np.mod(a, b)\n",
    "print('* when a={}, b={}, then \"np.mod(a, b)\" is: {}'.format(a, b, ndarray_to_str(r)))"
   ]
  },
  {
   "cell_type": "markdown",
   "metadata": {},
   "source": [
    "### 1.4. Tensors and tensor operations"
   ]
  },
  {
   "cell_type": "markdown",
   "metadata": {},
   "source": [
    "#### 1.4.1. $T_1(x_1, y_1) + T_2(x_2, y_2)$"
   ]
  },
  {
   "cell_type": "code",
   "execution_count": null,
   "metadata": {},
   "outputs": [],
   "source": [
    "a = [[1, 2, 3], [4, 5, 6]]\n",
    "b = [[0.1, 0.2, 0.3], [0.4, 0.5, 0.6]]\n",
    "\n",
    "r = np.add(a, b)\n",
    "print('* when a={}, b={}, then \"np.add(a, b)\" is: {}'.format(a, b, ndarray_to_str(r)))"
   ]
  },
  {
   "cell_type": "markdown",
   "metadata": {},
   "source": [
    "#### 1.4.2. $T_1(x_1, y_1) - T_2(x_2, y_2)$"
   ]
  },
  {
   "cell_type": "code",
   "execution_count": null,
   "metadata": {},
   "outputs": [],
   "source": [
    "a = [[1, 2, 3], [4, 5, 6]]\n",
    "b = [[0.1, 0.2, 0.3], [0.4, 0.5, 0.6]]\n",
    "\n",
    "r = np.subtract(a, b)\n",
    "print('* when a={}, b={}, then \"np.subtract(a, b)\" is {}'.format(a, b, ndarray_to_str(r)))"
   ]
  },
  {
   "cell_type": "markdown",
   "metadata": {},
   "source": [
    "#### 1.4.1. $T_1(x_1, y_1) * T_2(x_2, y_2)$"
   ]
  },
  {
   "cell_type": "code",
   "execution_count": null,
   "metadata": {},
   "outputs": [],
   "source": [
    "a = [[1, 2, 3], [4, 5, 6]]\n",
    "b = [[0.1, 0.2, 0.3], [0.4, 0.5, 0.6]]\n",
    "\n",
    "r = np.multiply(a, b)\n",
    "print('* when a={}, b={}, then \"np.multiply(a, b)\" is {}'.format(a, b, ndarray_to_str(r)))"
   ]
  },
  {
   "cell_type": "markdown",
   "metadata": {},
   "source": [
    "#### 1.4.1. $T_1(x_1, y_1) ÷ T_2(x_2, y_2)$"
   ]
  },
  {
   "cell_type": "code",
   "execution_count": null,
   "metadata": {},
   "outputs": [],
   "source": [
    "a = [[1, 2, 3], [4, 5, 6]]\n",
    "b = [[0.1, 0.2, 0.3], [0.4, 0.5, 0.6]]\n",
    "\n",
    "r = np.divide(a, b)\n",
    "print('* when a={}, b={}, then \"np.divide(a, b)\" is {}'.format(a, b, ndarray_to_str(r)))"
   ]
  },
  {
   "cell_type": "markdown",
   "metadata": {},
   "source": [
    "#### 1.4.1. $T_1(x_1, y_1) \\% T_2(x_2, y_2)$"
   ]
  },
  {
   "cell_type": "code",
   "execution_count": null,
   "metadata": {},
   "outputs": [],
   "source": [
    "a = [[1, 2, 3], [4, 5, 6]]\n",
    "b = [[0.1, 0.2, 0.3], [0.4, 0.5, 0.6]]\n",
    "\n",
    "r = np.mod(a, b)\n",
    "print('* when a={}, b={}, then \"np.mod(a, b)\" is {}'.format(a, b, ndarray_to_str(r)))"
   ]
  },
  {
   "cell_type": "markdown",
   "metadata": {},
   "source": [
    "### 1.5. Operator overriade"
   ]
  },
  {
   "cell_type": "code",
   "execution_count": null,
   "metadata": {},
   "outputs": [],
   "source": [
    "a = np.array([[1, 2, 3], [4, 5, 6]])\n",
    "b = np.array([[0.1, 0.2, 0.3], [0.4, 0.5, 0.6]])\n",
    "print('* when a is {}\\n\\n  and b is {}'.format(ndarray_to_str(a), ndarray_to_str(b)))\n",
    "\n",
    "r = a + b\n",
    "print('\\n* then \"a + b\" is {}'.format(ndarray_to_str(r)))\n",
    "\n",
    "r = a - b\n",
    "print('  and \"a - b\" is {}'.format(ndarray_to_str(r)))\n",
    "\n",
    "r = a * b\n",
    "print('  and \"a * b\" is {}'.format(ndarray_to_str(r)))\n",
    "\n",
    "r = a / b\n",
    "print('  and \"a / b\" is {}'.format(ndarray_to_str(r)))\n",
    "\n",
    "r = a % b\n",
    "print('  and \"a % b\" is {}'.format(ndarray_to_str(r)))"
   ]
  },
  {
   "cell_type": "markdown",
   "metadata": {},
   "source": [
    "## 2. Broadcast\n",
    "\n",
    "- 基本运算 (`+`, `-`, `*`, `÷`, `%`) 都支持操作数广播；\n",
    "- 当参与运算的两个张量的 shape 不一致时，在没有歧义的前提下，形状较小的张量会被广播，以匹配形状较大的；\n",
    "- 广播包含以下两步：\n",
    "    - 向较小的张量添加轴（称为广播轴），使其 dim 与较大的张量相同；\n",
    "    - 将较小的张量沿着新轴重复，使其形状与较大的张量相同\n",
    "\n",
    "例如：    \n",
    "- `t1(2, 3)`和`t2(1, 3)`相加，因为两个张量的阶数相同，则只需对`t2(1, 3)`沿第一个轴复制，将其扩展到`t2(2, 3)`;\n",
    "- `t1(2, 3)`和`t2(3)`相加，需要对`t2(3)`扩展第一个轴，将其变为`t2(1, 3)`，再沿第一个轴复制，将其扩展到`t2(2, 3)`;"
   ]
  },
  {
   "cell_type": "markdown",
   "metadata": {},
   "source": [
    "### 2.1. Evaluate between Shape (4, 3, 2) and Shape (4, 3, 2)\n",
    "\n",
    "- Consistent shape, no broadcast required"
   ]
  },
  {
   "cell_type": "code",
   "execution_count": null,
   "metadata": {},
   "outputs": [],
   "source": [
    "a = make_array_by_shape(shape=(4, 3, 2))\n",
    "b = make_array_by_shape(shape=(4, 3, 2), multiple=.1)\n",
    "print('* when a is: {}\\n\\n  and b is: {}'.format(ndarray_to_str(a), ndarray_to_str(b)))\n",
    "\n",
    "try:\n",
    "    t = a + b\n",
    "    print('\\n  then \"a + b\" is: {}'.format(ndarray_to_str(t)))\n",
    "    print('\\n* shapes {} and {} can be evaluated, and answer shape is {}'.format(a.shape, b.shape, t.shape))\n",
    "except Exception as e:\n",
    "    print('\\n* Err: {}'.format(e))"
   ]
  },
  {
   "cell_type": "markdown",
   "metadata": {},
   "source": [
    "### 2.2. Evaluate between Shape (4, 3, 2) and Shape (1, 3, 2)\n",
    "\n",
    "- Broadcast shape (1, 3, 2) as shape (4, 3, 2)"
   ]
  },
  {
   "cell_type": "code",
   "execution_count": null,
   "metadata": {},
   "outputs": [],
   "source": [
    "a = make_array_by_shape(shape=(4, 3, 2))\n",
    "b = make_array_by_shape((1, 3, 2), multiple=.1)\n",
    "print('* when a is: {}\\n\\n  and b is: {}'.format(ndarray_to_str(a), ndarray_to_str(b)))\n",
    "\n",
    "try:\n",
    "    t = a + b\n",
    "    print('\\n  then \"a + b\" is: {}'.format(ndarray_to_str(t)))\n",
    "    print('\\n* shapes {} and {} can be evaluated, and answer shape is {}'.format(a.shape, b.shape, t.shape))\n",
    "except Exception as e:\n",
    "    print('\\n* Err: {}'.format(e))"
   ]
  },
  {
   "cell_type": "markdown",
   "metadata": {},
   "source": [
    "- How broadcasting happens"
   ]
  },
  {
   "cell_type": "code",
   "execution_count": null,
   "metadata": {},
   "outputs": [],
   "source": [
    "a = make_array_by_shape(shape=(4, 3, 2))\n",
    "print('* when a is: {}'.format(ndarray_to_str(a)))\n",
    "\n",
    "b = make_array_by_shape((1, 3, 2), multiple=.1)\n",
    "print('\\n* before boradcast, b is: {}'.format(ndarray_to_str(b)))\n",
    "\n",
    "b = np.tile(b, (4, 1, 1))\n",
    "print('\\n* after boradcast, b is: {}'.format(ndarray_to_str(b)))\n",
    "\n",
    "t = a + b\n",
    "print('\\n* \"a + b\" is: {}'.format(ndarray_to_str(t)))"
   ]
  },
  {
   "cell_type": "markdown",
   "metadata": {},
   "source": [
    "### 2.3. Evaluate between Shape (4, 3, 2) and Shape (3, 2)\n",
    "\n",
    "- Broadcast shape (3, 2) as shape (4, 3, 2)"
   ]
  },
  {
   "cell_type": "code",
   "execution_count": null,
   "metadata": {},
   "outputs": [],
   "source": [
    "a = make_array_by_shape(shape=(4, 3, 2))\n",
    "b = make_array_by_shape((3, 2), multiple=.1)\n",
    "print('* when a is: {}\\n\\n  and b is: {}'.format(ndarray_to_str(a), ndarray_to_str(b)))\n",
    "\n",
    "try:\n",
    "    t = a + b\n",
    "    print('\\n  then \"a + b\" is: {}'.format(ndarray_to_str(t)))\n",
    "    print('\\n* shapes {} and {} can be evaluated, and answer shape is {}'.format(a.shape, b.shape, t.shape))\n",
    "except Exception as e:\n",
    "    print('\\n* Err: {}'.format(e))"
   ]
  },
  {
   "cell_type": "markdown",
   "metadata": {},
   "source": [
    "- How broadcasting happens"
   ]
  },
  {
   "cell_type": "code",
   "execution_count": null,
   "metadata": {},
   "outputs": [],
   "source": [
    "a = make_array_by_shape(shape=(4, 3, 2))\n",
    "print('* when a is: {}'.format(ndarray_to_str(a)))\n",
    "\n",
    "b = make_array_by_shape((3, 2), multiple=.1)\n",
    "print('\\n* before boradcast, b is: {}'.format(ndarray_to_str(b)))\n",
    "\n",
    "b = np.tile(b, (4, 1, 1))\n",
    "print('\\n* after boradcast, b is: {}'.format(ndarray_to_str(b)))\n",
    "\n",
    "t = a + b\n",
    "print('\\n* \"a + b\" is: {}'.format(ndarray_to_str(t)))"
   ]
  },
  {
   "cell_type": "markdown",
   "metadata": {},
   "source": [
    "### 2.4. Evaluate between Shape (4, 3, 2) and Shape (2)\n",
    "\n",
    "- Broadcast shape (2) as shape (4, 3, 2)"
   ]
  },
  {
   "cell_type": "code",
   "execution_count": null,
   "metadata": {},
   "outputs": [],
   "source": [
    "a = make_array_by_shape(shape=(4, 3, 2))\n",
    "b = make_array_by_shape((2,), multiple=.1)\n",
    "print('* when a is: {}\\n\\n  and b is: {}'.format(ndarray_to_str(a), ndarray_to_str(b)))\n",
    "\n",
    "try:\n",
    "    t = a + b\n",
    "    print('\\n  then \"a + b\" is: {}'.format(ndarray_to_str(t)))\n",
    "    print('\\n* shapes {} and {} can be evaluated, and answer shape is {}'.format(a.shape, b.shape, t.shape))\n",
    "except Exception as e:\n",
    "    print('\\n* Err: {}'.format(e))"
   ]
  },
  {
   "cell_type": "markdown",
   "metadata": {},
   "source": [
    "- How broadcasting happens"
   ]
  },
  {
   "cell_type": "code",
   "execution_count": null,
   "metadata": {},
   "outputs": [],
   "source": [
    "a = make_array_by_shape(shape=(4, 3, 2))\n",
    "print('* when a is: {}'.format(ndarray_to_str(a)))\n",
    "\n",
    "b = make_array_by_shape((2,), multiple=.1)\n",
    "print('\\n* before boradcast, b is: {}'.format(ndarray_to_str(b)))\n",
    "\n",
    "b = np.tile(b, (4, 3, 1))\n",
    "print('\\n* after boradcast, b is: {}'.format(ndarray_to_str(b)))\n",
    "\n",
    "t = a + b\n",
    "print('\\n* \"a + b\" is: {}'.format(ndarray_to_str(t)))"
   ]
  },
  {
   "cell_type": "markdown",
   "metadata": {},
   "source": [
    "### 2.5. Cannot evaluate between Shape (4, 3, 2) and Shape (4, 3)"
   ]
  },
  {
   "cell_type": "code",
   "execution_count": null,
   "metadata": {},
   "outputs": [],
   "source": [
    "a = make_array_by_shape(shape=(4, 3, 2))\n",
    "b = make_array_by_shape((4, 3), multiple=.1)\n",
    "print('* when a is: {}\\n\\n  and b is: {}'.format(ndarray_to_str(a), ndarray_to_str(b)))\n",
    "\n",
    "try:\n",
    "    t = a + b\n",
    "    print('\\n  then \"a + b\" is: {}'.format(ndarray_to_str(t)))\n",
    "    print('\\n* shapes {} and {} can be evaluated, and answer shape is {}'.format(a.shape, b.shape, t.shape))\n",
    "except Exception as e:\n",
    "    print('\\n* Err: {}'.format(e))"
   ]
  },
  {
   "cell_type": "markdown",
   "metadata": {},
   "source": [
    "### 2.6. Cannot evaluate between Shape (4, 3, 2) and Shape (4, 2, 3)"
   ]
  },
  {
   "cell_type": "code",
   "execution_count": null,
   "metadata": {},
   "outputs": [],
   "source": [
    "a = make_array_by_shape(shape=(4, 3, 2))\n",
    "b = make_array_by_shape((4, 2, 3), multiple=.1)\n",
    "print('* when a is: {}\\n\\n  and b is: {}'.format(ndarray_to_str(a), ndarray_to_str(b)))\n",
    "\n",
    "try:\n",
    "    t = a + b\n",
    "    print('\\n  then \"a + b\" is: {}'.format(ndarray_to_str(t)))\n",
    "    print('\\n* shapes {} and {} can be evaluated, and answer shape is {}'.format(a.shape, b.shape, t.shape))\n",
    "except Exception as e:\n",
    "    print('\\n* Err: {}'.format(e))"
   ]
  },
  {
   "cell_type": "markdown",
   "metadata": {},
   "source": [
    "## 3. Dot product"
   ]
  },
  {
   "cell_type": "markdown",
   "metadata": {},
   "source": [
    "### 3.1. Vector operations\n",
    "\n",
    "![dot 1](assets/np_dot_1.png)"
   ]
  },
  {
   "cell_type": "code",
   "execution_count": null,
   "metadata": {},
   "outputs": [],
   "source": [
    "a = np.array([1, 2])\n",
    "b = np.array([.1, .2])\n",
    "print('* when a is: {}\\n\\n  and b is: {}'.format(ndarray_to_str(a), ndarray_to_str(b)))\n",
    "\n",
    "t = np.dot(a, b)\n",
    "print('\\n  then \"np.dot(a, b)\" is: {}'.format(ndarray_to_str(t)))"
   ]
  },
  {
   "cell_type": "markdown",
   "metadata": {},
   "source": [
    "### 3.2. Matrix and vector operations\n",
    "\n",
    "![dot 2](assets/np_dot_2.png)"
   ]
  },
  {
   "cell_type": "code",
   "execution_count": null,
   "metadata": {},
   "outputs": [],
   "source": [
    "a = np.array([[1, 2], [3, 4]])\n",
    "b = np.array([.1, .2])\n",
    "print('* when a is: {}\\n\\n  and b is: {}'.format(ndarray_to_str(a), ndarray_to_str(b)))\n",
    "\n",
    "t = np.dot(a, b)\n",
    "print('\\n  then \"np.dot(a, b)\" is: {}'.format(ndarray_to_str(t)))"
   ]
  },
  {
   "cell_type": "markdown",
   "metadata": {},
   "source": [
    "### 3.3. Matrix and matrix operations\n",
    "\n",
    "![dot 3](assets/np_dot_3.png)"
   ]
  },
  {
   "cell_type": "code",
   "execution_count": null,
   "metadata": {},
   "outputs": [],
   "source": [
    "a = np.array([[1, 2], [3, 4]])\n",
    "b = np.array([[.1, .2], [.3, .4]])\n",
    "print('* when a is: {}\\n\\n  and b is: {}'.format(ndarray_to_str(a), ndarray_to_str(b)))\n",
    "\n",
    "t = np.dot(a, b)\n",
    "print('\\n  then \"np.dot(a, b)\" is: {}'.format(ndarray_to_str(t)))"
   ]
  },
  {
   "cell_type": "markdown",
   "metadata": {},
   "source": [
    "### 3.4. Tensor and vector operations\n",
    "\n",
    "![dot 4](assets/np_dot_4.png)"
   ]
  },
  {
   "cell_type": "code",
   "execution_count": null,
   "metadata": {},
   "outputs": [],
   "source": [
    "a = make_array_by_shape(shape=(4, 3, 2))\n",
    "b = make_array_by_shape(shape=(2,), multiple=.1)\n",
    "\n",
    "print('* when a is: {}\\n\\n  and b is: {}'.format(ndarray_to_str(a), ndarray_to_str(b)))\n",
    "\n",
    "t = np.dot(a, b)\n",
    "print('\\n  then \"np.dot(a, b)\" is: {}'.format(ndarray_to_str(t)))"
   ]
  },
  {
   "cell_type": "markdown",
   "metadata": {},
   "source": [
    "### 3.3. Evaluate between Shape (4, 3, 2) and Shape (4, 3, 2)"
   ]
  },
  {
   "cell_type": "code",
   "execution_count": null,
   "metadata": {},
   "outputs": [],
   "source": [
    "a = make_array_by_shape((3, 2))\n",
    "b = make_array_by_shape((4, 2, 3), multiple=.1)\n",
    "print('* when a is: {}\\n\\n  and b is: {}'.format(ndarray_to_str(a), ndarray_to_str(b)))\n",
    "\n",
    "try:\n",
    "    t = np.dot(a, b)\n",
    "    print('\\n  then \"np.dot(a, b)\" is: {}'.format(ndarray_to_str(t)))\n",
    "\n",
    "    print('\\n* shapes {} and {} can be evaluated, and answer shape is {}'.format(a.shape, b.shape, t.shape))\n",
    "except Exception as e:\n",
    "    print('\\n* Err: {}'.format(e))"
   ]
  },
  {
   "cell_type": "markdown",
   "metadata": {},
   "source": [
    "### 3.4. Evaluate between Shape (4, 3, 2) and Shape (5, 2, 3)"
   ]
  },
  {
   "cell_type": "code",
   "execution_count": null,
   "metadata": {},
   "outputs": [],
   "source": [
    "a = make_array_by_shape((5, 3, 2))\n",
    "b = make_array_by_shape((5, 2, 3), multiple=.1)\n",
    "print('* when a is: {}\\n\\n  and b is: {}'.format(ndarray_to_str(a), ndarray_to_str(b)))\n",
    "\n",
    "try:\n",
    "    t = np.dot(a, b)\n",
    "    print('\\n  then \"np.dot(a, b)\" is: {}'.format(ndarray_to_str(t)))\n",
    "\n",
    "    print('\\n* shapes {} and {} can be evaluated, and answer shape is {}'.format(a.shape, b.shape, t.shape))\n",
    "except Exception as e:\n",
    "    print('\\n* Err: {}'.format(e))"
   ]
  },
  {
   "cell_type": "code",
   "execution_count": null,
   "metadata": {},
   "outputs": [],
   "source": [
    "b = make_array_by_shape((3,))\n",
    "print('* when a is: {}\\n\\n  and b is: {}'.format(ndarray_to_str(a), ndarray_to_str(b)))\n",
    "\n",
    "try:\n",
    "    t = np.dot(a, b)\n",
    "    print('\\n  then \"np.dot(a, b)\" is: {}'.format(ndarray_to_str(t)))\n",
    "\n",
    "    print('\\n* shapes {} and {} can be evaluated, and answer shape is {}'.format(a.shape, b.shape, t.shape))\n",
    "except Exception as e:\n",
    "    print('\\n* Err: {}'.format(e))"
   ]
  },
  {
   "cell_type": "code",
   "execution_count": null,
   "metadata": {},
   "outputs": [],
   "source": [
    "b = make_array_by_shape((3, 4))\n",
    "print('* when a is: {}\\n\\n  and b is: {}'.format(ndarray_to_str(a), ndarray_to_str(b)))\n",
    "\n",
    "try:\n",
    "    t = np.dot(a, b)\n",
    "    print('\\n  then \"np.dot(a, b)\" is: {}'.format(ndarray_to_str(t)))\n",
    "\n",
    "    print('\\n* shapes {} and {} can be evaluated, and answer shape is {}'.format(a.shape, b.shape, t.shape))\n",
    "except Exception as e:\n",
    "    print('\\n* Err: {}'.format(e))"
   ]
  },
  {
   "cell_type": "code",
   "execution_count": null,
   "metadata": {},
   "outputs": [],
   "source": [
    "b = make_array_by_shape((2, 3, 4))\n",
    "print('* when a is: {}\\n\\n  and b is: {}'.format(ndarray_to_str(a), ndarray_to_str(b)))\n",
    "\n",
    "try:\n",
    "    t = np.dot(a, b)\n",
    "    print('\\n  then \"np.dot(a, b)\" is: {}'.format(ndarray_to_str(t)))\n",
    "\n",
    "    print('\\n* shapes {} and {} can be evaluated, and answer shape is {}'.format(a.shape, b.shape, t.shape))\n",
    "except Exception as e:\n",
    "    print('\\n* Err: {}'.format(e))"
   ]
  }
 ],
 "metadata": {
  "kernelspec": {
   "display_name": "Python 3",
   "language": "python",
   "name": "python3"
  },
  "language_info": {
   "codemirror_mode": {
    "name": "ipython",
    "version": 3
   },
   "file_extension": ".py",
   "mimetype": "text/x-python",
   "name": "python",
   "nbconvert_exporter": "python",
   "pygments_lexer": "ipython3",
   "version": "3.8.2"
  }
 },
 "nbformat": 4,
 "nbformat_minor": 4
}
