{
 "cells": [
  {
   "cell_type": "markdown",
   "metadata": {},
   "source": [
    "# Operations"
   ]
  },
  {
   "cell_type": "code",
   "execution_count": 9,
   "metadata": {},
   "outputs": [],
   "source": [
    "from __future__ import absolute_import, division, print_function, unicode_literals\n",
    "\n",
    "import numpy as np\n",
    "from functools import reduce\n",
    "\n",
    "\n",
    "def ndarray_to_str(t: np.ndarray):\n",
    "    s = '\\n{} (shape={}, dtype={})'.format(t, t.shape, t.dtype)\n",
    "    s = s.replace('\\n', '\\n{}'.format(' ' * 2))\n",
    "    return s\n",
    "\n",
    "def make_array_by_shape(shape, inital=1):\n",
    "    m = reduce(lambda x, y: x * y, shape)\n",
    "    print(m)\n",
    "    return np.reshape(np.arange(inital, m + inital), shape)"
   ]
  },
  {
   "cell_type": "markdown",
   "metadata": {},
   "source": [
    "## 1. Arithmetic operator"
   ]
  },
  {
   "cell_type": "markdown",
   "metadata": {},
   "source": [
    "### 1.1 Scalar operation"
   ]
  },
  {
   "cell_type": "code",
   "execution_count": null,
   "metadata": {},
   "outputs": [],
   "source": [
    "a = 10\n",
    "b = 0.1"
   ]
  },
  {
   "cell_type": "markdown",
   "metadata": {},
   "source": [
    "#### 1.1.1. $m+n$"
   ]
  },
  {
   "cell_type": "code",
   "execution_count": null,
   "metadata": {},
   "outputs": [],
   "source": [
    "r = np.add(a, b)\n",
    "print('* when a={}, b={}, then \"np.add(a, b)\" is {}'.format(a, b, r))"
   ]
  },
  {
   "cell_type": "markdown",
   "metadata": {},
   "source": [
    "#### 1.1.2. $m-n$"
   ]
  },
  {
   "cell_type": "code",
   "execution_count": null,
   "metadata": {},
   "outputs": [],
   "source": [
    "r = np.subtract(a, b)\n",
    "print('* when a={}, b={}, then \"np.subtract(a, b)\" is {}'.format(a, b, r))"
   ]
  },
  {
   "cell_type": "markdown",
   "metadata": {},
   "source": [
    "#### 1.1.3. $m*n$"
   ]
  },
  {
   "cell_type": "code",
   "execution_count": null,
   "metadata": {},
   "outputs": [],
   "source": [
    "r = np.multiply(a, b)\n",
    "print('* when a={}, b={}, then \"np.multiply(a, b)\" is {}'.format(a, b, r))"
   ]
  },
  {
   "cell_type": "markdown",
   "metadata": {},
   "source": [
    "#### 1.1.4. $m÷n$"
   ]
  },
  {
   "cell_type": "code",
   "execution_count": null,
   "metadata": {},
   "outputs": [],
   "source": [
    "r = np.subtract(a, b)\n",
    "print('* when a={}, b={}, then \"np.subtract(a, b)\" is {}'.format(a, b, r))"
   ]
  },
  {
   "cell_type": "markdown",
   "metadata": {},
   "source": [
    "#### 1.1.5. $m\\%n$"
   ]
  },
  {
   "cell_type": "code",
   "execution_count": null,
   "metadata": {},
   "outputs": [],
   "source": [
    "r = np.mod(a, b)\n",
    "print('* when a={}, b={}, then \"np.mod(a, b)\" is {}'.format(a, b, r))"
   ]
  },
  {
   "cell_type": "markdown",
   "metadata": {},
   "source": [
    "### 1.2. Tensor and scalar operations"
   ]
  },
  {
   "cell_type": "code",
   "execution_count": null,
   "metadata": {},
   "outputs": [],
   "source": [
    "a = [[1, 2, 3], [4, 5, 6]]\n",
    "b = 2."
   ]
  },
  {
   "cell_type": "markdown",
   "metadata": {},
   "source": [
    "#### 1.2.1. $T(x, y) + n$"
   ]
  },
  {
   "cell_type": "code",
   "execution_count": null,
   "metadata": {},
   "outputs": [],
   "source": [
    "r = np.add(a, b)\n",
    "print('* when a={}, b={}, then \"np.add(a, b)\" is: {}'.format(a, b, ndarray_to_str(r)))"
   ]
  },
  {
   "cell_type": "markdown",
   "metadata": {},
   "source": [
    "#### 1.2.2. $T(x, y) - n$"
   ]
  },
  {
   "cell_type": "code",
   "execution_count": null,
   "metadata": {},
   "outputs": [],
   "source": [
    "r = np.subtract(a, b)\n",
    "print('* when a={}, b={}, then \"np.subtract(a, b)\" is: {}'.format(a, b, ndarray_to_str(r)))"
   ]
  },
  {
   "cell_type": "markdown",
   "metadata": {},
   "source": [
    "#### 1.2.3. $T(x, y)*n$"
   ]
  },
  {
   "cell_type": "code",
   "execution_count": null,
   "metadata": {},
   "outputs": [],
   "source": [
    "r = np.multiply(a, b)\n",
    "print('* when a={}, b={}, then \"np.multiply(a, b)\" is: {}'.format(a, b, ndarray_to_str(r)))"
   ]
  },
  {
   "cell_type": "markdown",
   "metadata": {},
   "source": [
    "#### 1.2.4. $T(x, y)÷n$"
   ]
  },
  {
   "cell_type": "code",
   "execution_count": null,
   "metadata": {},
   "outputs": [],
   "source": [
    "r = np.divide(a, b)\n",
    "print('* when a={}, b={}, then \"np.divide(a, b)\" is: {}'.format(a, b, ndarray_to_str(r)))"
   ]
  },
  {
   "cell_type": "markdown",
   "metadata": {},
   "source": [
    "#### 1.2.5. $T(x, y)\\%n$"
   ]
  },
  {
   "cell_type": "code",
   "execution_count": null,
   "metadata": {},
   "outputs": [],
   "source": [
    "r = np.mod(a, b)\n",
    "print('* when a={}, b={}, then \"np.mod(a, b)\" is: {}'.format(a, b, ndarray_to_str(r)))"
   ]
  },
  {
   "cell_type": "markdown",
   "metadata": {},
   "source": [
    "### 1.3. Tensor and vector operations"
   ]
  },
  {
   "cell_type": "code",
   "execution_count": null,
   "metadata": {},
   "outputs": [],
   "source": [
    "a = [[1, 2, 3], [4, 5, 6]]\n",
    "b = [0.1, 0.2, 0.3]"
   ]
  },
  {
   "cell_type": "markdown",
   "metadata": {},
   "source": [
    "#### 1.3.1. $T_1(x_1, y_1) + T_2(x_2)$"
   ]
  },
  {
   "cell_type": "code",
   "execution_count": null,
   "metadata": {},
   "outputs": [],
   "source": [
    "r = np.add(a, b)\n",
    "print('* when a={}, b={}, then \"np.add(a, b)\" is: {}'.format(a, b, ndarray_to_str(r)))"
   ]
  },
  {
   "cell_type": "markdown",
   "metadata": {},
   "source": [
    "#### 1.3.2. $T_1(x_1, y_1) - T_2(x_2)$"
   ]
  },
  {
   "cell_type": "code",
   "execution_count": null,
   "metadata": {},
   "outputs": [],
   "source": [
    "r = np.subtract(a, b)\n",
    "print('* when a={}, b={}, then \"np.subtract(a, b)\" is: {}'.format(a, b, ndarray_to_str(r)))"
   ]
  },
  {
   "cell_type": "markdown",
   "metadata": {},
   "source": [
    "#### 1.3.3. $T_1(x_1, y_1) * T_2(x_2)$"
   ]
  },
  {
   "cell_type": "code",
   "execution_count": null,
   "metadata": {},
   "outputs": [],
   "source": [
    "r = np.multiply(a, b)\n",
    "print('* when a={}, b={}, then \"np.multiply(a, b)\" is: {}'.format(a, b, ndarray_to_str(r)))"
   ]
  },
  {
   "cell_type": "markdown",
   "metadata": {},
   "source": [
    "#### 1.3.4. $T_1(x_1, y_1) ÷ T_2(x_2)$"
   ]
  },
  {
   "cell_type": "code",
   "execution_count": null,
   "metadata": {},
   "outputs": [],
   "source": [
    "r = np.divide(a, b)\n",
    "print('* when a={}, b={}, then \"np.divide(a, b)\" is: {}'.format(a, b, ndarray_to_str(r)))"
   ]
  },
  {
   "cell_type": "markdown",
   "metadata": {},
   "source": [
    "#### 1.3.5. $T_1(x_1, y_1) \\% T_2(x_2)$"
   ]
  },
  {
   "cell_type": "code",
   "execution_count": null,
   "metadata": {},
   "outputs": [],
   "source": [
    "r = np.mod(a, b)\n",
    "print('* when a={}, b={}, then \"np.mod(a, b)\" is: {}'.format(ndarray_to_str(r)))"
   ]
  },
  {
   "cell_type": "markdown",
   "metadata": {},
   "source": [
    "### 1.4. Tensors and tensor operations"
   ]
  },
  {
   "cell_type": "code",
   "execution_count": null,
   "metadata": {},
   "outputs": [],
   "source": [
    "a = [[1, 2, 3], [4, 5, 6]]\n",
    "b = [[0.1, 0.2, 0.3], [0.4, 0.5, 0.6]]"
   ]
  },
  {
   "cell_type": "markdown",
   "metadata": {},
   "source": [
    "#### 1.4.1. $T_1(x_1, y_1) + T_2(x_2, y_2)$"
   ]
  },
  {
   "cell_type": "code",
   "execution_count": null,
   "metadata": {},
   "outputs": [],
   "source": [
    "r = np.add(a, b)\n",
    "print('* when a={}, b={}, then \"np.add(a, b)\" is: {}'.format(a, b, ndarray_to_str(r)))"
   ]
  },
  {
   "cell_type": "markdown",
   "metadata": {},
   "source": [
    "#### 1.4.2. $T_1(x_1, y_1) - T_2(x_2, y_2)$"
   ]
  },
  {
   "cell_type": "code",
   "execution_count": null,
   "metadata": {},
   "outputs": [],
   "source": [
    "r = np.subtract(a, b)\n",
    "print('* when a={}, b={}, then \"np.subtract(a, b)\" is {}'.format(a, b, ndarray_to_str(r)))"
   ]
  },
  {
   "cell_type": "markdown",
   "metadata": {},
   "source": [
    "#### 1.4.1. $T_1(x_1, y_1) * T_2(x_2, y_2)$"
   ]
  },
  {
   "cell_type": "code",
   "execution_count": null,
   "metadata": {},
   "outputs": [],
   "source": [
    "r = np.multiply(a, b)\n",
    "print('* when a={}, b={}, then \"np.multiply(a, b)\" is {}'.format(a, b, ndarray_to_str(r)))"
   ]
  },
  {
   "cell_type": "markdown",
   "metadata": {},
   "source": [
    "#### 1.4.1. $T_1(x_1, y_1) ÷ T_2(x_2, y_2)$"
   ]
  },
  {
   "cell_type": "code",
   "execution_count": null,
   "metadata": {},
   "outputs": [],
   "source": [
    "r = np.divide(a, b)\n",
    "print('* when a={}, b={}, then \"np.divide(a, b)\" is {}'.format(a, b, ndarray_to_str(r)))"
   ]
  },
  {
   "cell_type": "markdown",
   "metadata": {},
   "source": [
    "#### 1.4.1. $T_1(x_1, y_1) \\% T_2(x_2, y_2)$"
   ]
  },
  {
   "cell_type": "code",
   "execution_count": null,
   "metadata": {},
   "outputs": [],
   "source": [
    "r = np.mod(a, b)\n",
    "print('* when a={}, b={}, then \"np.mod(a, b)\" is {}'.format(a,b,ndarray_to_str(r)))"
   ]
  },
  {
   "cell_type": "markdown",
   "metadata": {},
   "source": [
    "### 1.5. Operator overriade"
   ]
  },
  {
   "cell_type": "code",
   "execution_count": null,
   "metadata": {},
   "outputs": [],
   "source": [
    "a = np.array([[1, 2, 3], [4, 5, 6]])\n",
    "b = np.array([[0.1, 0.2, 0.3], [0.4, 0.5, 0.6]])\n",
    "print('* when a is {}\\n and b is {}'.format(ndarray_to_str(a), ndarray_to_str(b)))\n",
    "\n",
    "r = a + b\n",
    "print('\\n* then \"a + b\" is {}'.format(ndarray_to_str(r)))\n",
    "\n",
    "r = a - b\n",
    "print('  and \"a - b\" is {}'.format(ndarray_to_str(r)))\n",
    "\n",
    "r = a * b\n",
    "print('  and \"a * b\" is {}'.format(ndarray_to_str(r)))\n",
    "\n",
    "r = a / b\n",
    "print('  and \"a / b\" is {}'.format(ndarray_to_str(r)))\n",
    "\n",
    "r = a % b\n",
    "print('  and \"a % b\" is {}'.format(ndarray_to_str(r)))"
   ]
  },
  {
   "cell_type": "markdown",
   "metadata": {},
   "source": [
    "## 2. Broadcast"
   ]
  },
  {
   "cell_type": "code",
   "execution_count": 11,
   "metadata": {},
   "outputs": [
    {
     "name": "stdout",
     "output_type": "stream",
     "text": [
      "24\n",
      "24\n",
      "---\n",
      "* shapes (4, 3, 2) and (4, 3, 2) can be evaluated, and answer shape is (4, 3, 2)\n",
      "6\n",
      "---\n",
      "* shapes (4, 3, 2) and (1, 3, 2) can be evaluated, and answer shape is (4, 3, 2)\n",
      "6\n",
      "---\n",
      "* shapes (4, 3, 2) and (3, 2) can be evaluated, and answer shape is (4, 3, 2)\n",
      "2\n",
      "---\n",
      "* shapes (4, 3, 2) and (2,) can be evaluated, and answer shape is (4, 3, 2)\n",
      "12\n",
      "---\n",
      "* E: operands could not be broadcast together with shapes (4,3,2) (4,3) \n",
      "24\n",
      "---\n",
      "* E: operands could not be broadcast together with shapes (4,3,2) (4,2,3) \n"
     ]
    }
   ],
   "source": [
    "from itertools import repeat\n",
    "\n",
    "shape = (4, 3, 2)\n",
    "\n",
    "a = make_array_by_shape(shape)\n",
    "\n",
    "for s in [(4, 3, 2), (1, 3, 2), (3, 2), (2,), (4, 3), (4, 2, 3)]:\n",
    "    b = make_array_by_shape(s, inital=10)\n",
    "    print('---')\n",
    "    try:\n",
    "        t = a + b\n",
    "        print('* shapes {} and {} can be evaluated, '\n",
    "              'and answer shape is {}'.format(a.shape, b.shape, t.shape))\n",
    "    except Exception as e:\n",
    "        print('* E: {}'.format(e))"
   ]
  },
  {
   "cell_type": "markdown",
   "metadata": {},
   "source": [
    "### 3. Dot product"
   ]
  },
  {
   "cell_type": "code",
   "execution_count": 12,
   "metadata": {},
   "outputs": [
    {
     "name": "stdout",
     "output_type": "stream",
     "text": [
      "24\n",
      "* when a is:\n",
      "  [[[ 1  2]\n",
      "    [ 3  4]\n",
      "    [ 5  6]]\n",
      "  \n",
      "   [[ 7  8]\n",
      "    [ 9 10]\n",
      "    [11 12]]\n",
      "  \n",
      "   [[13 14]\n",
      "    [15 16]\n",
      "    [17 18]]\n",
      "  \n",
      "   [[19 20]\n",
      "    [21 22]\n",
      "    [23 24]]] (shape=(4, 3, 2), dtype=int64)\n",
      "2\n",
      "\n",
      "* if b is:\n",
      "  [10 11] (shape=(2,), dtype=int64)\n",
      "  then \"np.dot(a, b)\" is:\n",
      "  [[ 32  74 116]\n",
      "   [158 200 242]\n",
      "   [284 326 368]\n",
      "   [410 452 494]] (shape=(4, 3), dtype=int64)\n",
      "6\n",
      "\n",
      "* if b is:\n",
      "  [[10 11 12]\n",
      "   [13 14 15]] (shape=(2, 3), dtype=int64)\n",
      "  then \"np.dot(a, b)\" is:\n",
      "  [[[ 36  39  42]\n",
      "    [ 82  89  96]\n",
      "    [128 139 150]]\n",
      "  \n",
      "   [[174 189 204]\n",
      "    [220 239 258]\n",
      "    [266 289 312]]\n",
      "  \n",
      "   [[312 339 366]\n",
      "    [358 389 420]\n",
      "    [404 439 474]]\n",
      "  \n",
      "   [[450 489 528]\n",
      "    [496 539 582]\n",
      "    [542 589 636]]] (shape=(4, 3, 3), dtype=int64)\n",
      "30\n",
      "\n",
      "* if b is:\n",
      "  [[[10 11 12]\n",
      "    [13 14 15]]\n",
      "  \n",
      "   [[16 17 18]\n",
      "    [19 20 21]]\n",
      "  \n",
      "   [[22 23 24]\n",
      "    [25 26 27]]\n",
      "  \n",
      "   [[28 29 30]\n",
      "    [31 32 33]]\n",
      "  \n",
      "   [[34 35 36]\n",
      "    [37 38 39]]] (shape=(5, 2, 3), dtype=int64)\n",
      "  then \"np.dot(a, b)\" is:\n",
      "  [[[[  36   39   42]\n",
      "     [  54   57   60]\n",
      "     [  72   75   78]\n",
      "     [  90   93   96]\n",
      "     [ 108  111  114]]\n",
      "  \n",
      "    [[  82   89   96]\n",
      "     [ 124  131  138]\n",
      "     [ 166  173  180]\n",
      "     [ 208  215  222]\n",
      "     [ 250  257  264]]\n",
      "  \n",
      "    [[ 128  139  150]\n",
      "     [ 194  205  216]\n",
      "     [ 260  271  282]\n",
      "     [ 326  337  348]\n",
      "     [ 392  403  414]]]\n",
      "  \n",
      "  \n",
      "   [[[ 174  189  204]\n",
      "     [ 264  279  294]\n",
      "     [ 354  369  384]\n",
      "     [ 444  459  474]\n",
      "     [ 534  549  564]]\n",
      "  \n",
      "    [[ 220  239  258]\n",
      "     [ 334  353  372]\n",
      "     [ 448  467  486]\n",
      "     [ 562  581  600]\n",
      "     [ 676  695  714]]\n",
      "  \n",
      "    [[ 266  289  312]\n",
      "     [ 404  427  450]\n",
      "     [ 542  565  588]\n",
      "     [ 680  703  726]\n",
      "     [ 818  841  864]]]\n",
      "  \n",
      "  \n",
      "   [[[ 312  339  366]\n",
      "     [ 474  501  528]\n",
      "     [ 636  663  690]\n",
      "     [ 798  825  852]\n",
      "     [ 960  987 1014]]\n",
      "  \n",
      "    [[ 358  389  420]\n",
      "     [ 544  575  606]\n",
      "     [ 730  761  792]\n",
      "     [ 916  947  978]\n",
      "     [1102 1133 1164]]\n",
      "  \n",
      "    [[ 404  439  474]\n",
      "     [ 614  649  684]\n",
      "     [ 824  859  894]\n",
      "     [1034 1069 1104]\n",
      "     [1244 1279 1314]]]\n",
      "  \n",
      "  \n",
      "   [[[ 450  489  528]\n",
      "     [ 684  723  762]\n",
      "     [ 918  957  996]\n",
      "     [1152 1191 1230]\n",
      "     [1386 1425 1464]]\n",
      "  \n",
      "    [[ 496  539  582]\n",
      "     [ 754  797  840]\n",
      "     [1012 1055 1098]\n",
      "     [1270 1313 1356]\n",
      "     [1528 1571 1614]]\n",
      "  \n",
      "    [[ 542  589  636]\n",
      "     [ 824  871  918]\n",
      "     [1106 1153 1200]\n",
      "     [1388 1435 1482]\n",
      "     [1670 1717 1764]]]] (shape=(4, 3, 5, 3), dtype=int64)\n",
      "3\n",
      "* E: shapes (4,3,2) and (3,) not aligned: 2 (dim 2) != 3 (dim 0)\n",
      "12\n",
      "* E: shapes (4,3,2) and (3,4) not aligned: 2 (dim 2) != 3 (dim 0)\n"
     ]
    }
   ],
   "source": [
    "from itertools import repeat\n",
    "\n",
    "shape = (4, 3, 2)\n",
    "a = make_array_by_shape(shape)\n",
    "print('* when a is:{}'.format(ndarray_to_str(a)))\n",
    "\n",
    "for s in [(2,), (2, 3), (5, 2, 3), (3,), (3, 4)]:\n",
    "    b = make_array_by_shape(s, inital=10)\n",
    "    try:\n",
    "        t = np.dot(a, b)\n",
    "        print('\\n* if b is:{}\\n  then \"np.dot(a, b)\" is:{}'.format(ndarray_to_str(b), ndarray_to_str(t)))\n",
    "    except Exception as e:\n",
    "        print('* E: {}'.format(e))"
   ]
  }
 ],
 "metadata": {
  "kernelspec": {
   "display_name": "Python 3",
   "language": "python",
   "name": "python3"
  },
  "language_info": {
   "codemirror_mode": {
    "name": "ipython",
    "version": 3
   },
   "file_extension": ".py",
   "mimetype": "text/x-python",
   "name": "python",
   "nbconvert_exporter": "python",
   "pygments_lexer": "ipython3",
   "version": "3.8.2"
  }
 },
 "nbformat": 4,
 "nbformat_minor": 4
}
