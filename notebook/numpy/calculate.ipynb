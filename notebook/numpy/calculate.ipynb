{
 "cells": [
  {
   "cell_type": "markdown",
   "metadata": {},
   "source": [
    "# Operations"
   ]
  },
  {
   "cell_type": "code",
   "execution_count": null,
   "metadata": {},
   "outputs": [],
   "source": [
    "from __future__ import absolute_import, division, print_function, unicode_literals\n",
    "\n",
    "import numpy as np\n",
    "from functools import reduce\n",
    "\n",
    "\n",
    "def ndarray_to_str(t: np.ndarray):\n",
    "    s = '\\n{} (shape={}, dtype={})'.format(t, t.shape, t.dtype)\n",
    "    s = s.replace('\\n', '\\n{}'.format(' ' * 2))\n",
    "    return s\n",
    "\n",
    "def make_array_by_shape(shape, inital=1):\n",
    "    m = reduce(lambda x, y: x * y, shape)\n",
    "    return np.reshape(np.arange(inital, m + inital), shape)"
   ]
  },
  {
   "cell_type": "markdown",
   "metadata": {},
   "source": [
    "## 1. Arithmetic operator"
   ]
  },
  {
   "cell_type": "markdown",
   "metadata": {},
   "source": [
    "### 1.1 Scalar operation"
   ]
  },
  {
   "cell_type": "code",
   "execution_count": null,
   "metadata": {},
   "outputs": [],
   "source": [
    "a = 10\n",
    "b = 0.1"
   ]
  },
  {
   "cell_type": "markdown",
   "metadata": {},
   "source": [
    "#### 1.1.1. $m+n$"
   ]
  },
  {
   "cell_type": "code",
   "execution_count": null,
   "metadata": {},
   "outputs": [],
   "source": [
    "r = np.add(a, b)\n",
    "print('* when a={}, b={}, then \"np.add(a, b)\" is {}'.format(a, b, r))"
   ]
  },
  {
   "cell_type": "markdown",
   "metadata": {},
   "source": [
    "#### 1.1.2. $m-n$"
   ]
  },
  {
   "cell_type": "code",
   "execution_count": null,
   "metadata": {},
   "outputs": [],
   "source": [
    "r = np.subtract(a, b)\n",
    "print('* when a={}, b={}, then \"np.subtract(a, b)\" is {}'.format(a, b, r))"
   ]
  },
  {
   "cell_type": "markdown",
   "metadata": {},
   "source": [
    "#### 1.1.3. $m*n$"
   ]
  },
  {
   "cell_type": "code",
   "execution_count": null,
   "metadata": {},
   "outputs": [],
   "source": [
    "r = np.multiply(a, b)\n",
    "print('* when a={}, b={}, then \"np.multiply(a, b)\" is {}'.format(a, b, r))"
   ]
  },
  {
   "cell_type": "markdown",
   "metadata": {},
   "source": [
    "#### 1.1.4. $m÷n$"
   ]
  },
  {
   "cell_type": "code",
   "execution_count": null,
   "metadata": {},
   "outputs": [],
   "source": [
    "r = np.subtract(a, b)\n",
    "print('* when a={}, b={}, then \"np.subtract(a, b)\" is {}'.format(a, b, r))"
   ]
  },
  {
   "cell_type": "markdown",
   "metadata": {},
   "source": [
    "#### 1.1.5. $m\\%n$"
   ]
  },
  {
   "cell_type": "code",
   "execution_count": null,
   "metadata": {},
   "outputs": [],
   "source": [
    "r = np.mod(a, b)\n",
    "print('* when a={}, b={}, then \"np.mod(a, b)\" is {}'.format(a, b, r))"
   ]
  },
  {
   "cell_type": "markdown",
   "metadata": {},
   "source": [
    "### 1.2. Tensor and scalar operations"
   ]
  },
  {
   "cell_type": "code",
   "execution_count": null,
   "metadata": {},
   "outputs": [],
   "source": [
    "a = [[1, 2, 3], [4, 5, 6]]\n",
    "b = 2."
   ]
  },
  {
   "cell_type": "markdown",
   "metadata": {},
   "source": [
    "#### 1.2.1. $T(x, y) + n$"
   ]
  },
  {
   "cell_type": "code",
   "execution_count": null,
   "metadata": {},
   "outputs": [],
   "source": [
    "r = np.add(a, b)\n",
    "print('* when a={}, b={}, then \"np.add(a, b)\" is: {}'.format(a, b, ndarray_to_str(r)))"
   ]
  },
  {
   "cell_type": "markdown",
   "metadata": {},
   "source": [
    "#### 1.2.2. $T(x, y) - n$"
   ]
  },
  {
   "cell_type": "code",
   "execution_count": null,
   "metadata": {},
   "outputs": [],
   "source": [
    "r = np.subtract(a, b)\n",
    "print('* when a={}, b={}, then \"np.subtract(a, b)\" is: {}'.format(a, b, ndarray_to_str(r)))"
   ]
  },
  {
   "cell_type": "markdown",
   "metadata": {},
   "source": [
    "#### 1.2.3. $T(x, y)*n$"
   ]
  },
  {
   "cell_type": "code",
   "execution_count": null,
   "metadata": {},
   "outputs": [],
   "source": [
    "r = np.multiply(a, b)\n",
    "print('* when a={}, b={}, then \"np.multiply(a, b)\" is: {}'.format(a, b, ndarray_to_str(r)))"
   ]
  },
  {
   "cell_type": "markdown",
   "metadata": {},
   "source": [
    "#### 1.2.4. $T(x, y)÷n$"
   ]
  },
  {
   "cell_type": "code",
   "execution_count": null,
   "metadata": {},
   "outputs": [],
   "source": [
    "r = np.divide(a, b)\n",
    "print('* when a={}, b={}, then \"np.divide(a, b)\" is: {}'.format(a, b, ndarray_to_str(r)))"
   ]
  },
  {
   "cell_type": "markdown",
   "metadata": {},
   "source": [
    "#### 1.2.5. $T(x, y)\\%n$"
   ]
  },
  {
   "cell_type": "code",
   "execution_count": null,
   "metadata": {},
   "outputs": [],
   "source": [
    "r = np.mod(a, b)\n",
    "print('* when a={}, b={}, then \"np.mod(a, b)\" is: {}'.format(a, b, ndarray_to_str(r)))"
   ]
  },
  {
   "cell_type": "markdown",
   "metadata": {},
   "source": [
    "### 1.3. Tensor and vector operations"
   ]
  },
  {
   "cell_type": "code",
   "execution_count": null,
   "metadata": {},
   "outputs": [],
   "source": [
    "a = [[1, 2, 3], [4, 5, 6]]\n",
    "b = [0.1, 0.2, 0.3]"
   ]
  },
  {
   "cell_type": "markdown",
   "metadata": {},
   "source": [
    "#### 1.3.1. $T_1(x_1, y_1) + T_2(x_2)$"
   ]
  },
  {
   "cell_type": "code",
   "execution_count": null,
   "metadata": {},
   "outputs": [],
   "source": [
    "r = np.add(a, b)\n",
    "print('* when a={}, b={}, then \"np.add(a, b)\" is: {}'.format(a, b, ndarray_to_str(r)))"
   ]
  },
  {
   "cell_type": "markdown",
   "metadata": {},
   "source": [
    "#### 1.3.2. $T_1(x_1, y_1) - T_2(x_2)$"
   ]
  },
  {
   "cell_type": "code",
   "execution_count": null,
   "metadata": {},
   "outputs": [],
   "source": [
    "r = np.subtract(a, b)\n",
    "print('* when a={}, b={}, then \"np.subtract(a, b)\" is: {}'.format(a, b, ndarray_to_str(r)))"
   ]
  },
  {
   "cell_type": "markdown",
   "metadata": {},
   "source": [
    "#### 1.3.3. $T_1(x_1, y_1) * T_2(x_2)$"
   ]
  },
  {
   "cell_type": "code",
   "execution_count": null,
   "metadata": {},
   "outputs": [],
   "source": [
    "r = np.multiply(a, b)\n",
    "print('* when a={}, b={}, then \"np.multiply(a, b)\" is: {}'.format(a, b, ndarray_to_str(r)))"
   ]
  },
  {
   "cell_type": "markdown",
   "metadata": {},
   "source": [
    "#### 1.3.4. $T_1(x_1, y_1) ÷ T_2(x_2)$"
   ]
  },
  {
   "cell_type": "code",
   "execution_count": null,
   "metadata": {},
   "outputs": [],
   "source": [
    "r = np.divide(a, b)\n",
    "print('* when a={}, b={}, then \"np.divide(a, b)\" is: {}'.format(a, b, ndarray_to_str(r)))"
   ]
  },
  {
   "cell_type": "markdown",
   "metadata": {},
   "source": [
    "#### 1.3.5. $T_1(x_1, y_1) \\% T_2(x_2)$"
   ]
  },
  {
   "cell_type": "code",
   "execution_count": null,
   "metadata": {},
   "outputs": [],
   "source": [
    "r = np.mod(a, b)\n",
    "print('* when a={}, b={}, then \"np.mod(a, b)\" is: {}'.format(ndarray_to_str(r)))"
   ]
  },
  {
   "cell_type": "markdown",
   "metadata": {},
   "source": [
    "### 1.4. Tensors and tensor operations"
   ]
  },
  {
   "cell_type": "code",
   "execution_count": null,
   "metadata": {},
   "outputs": [],
   "source": [
    "a = [[1, 2, 3], [4, 5, 6]]\n",
    "b = [[0.1, 0.2, 0.3], [0.4, 0.5, 0.6]]"
   ]
  },
  {
   "cell_type": "markdown",
   "metadata": {},
   "source": [
    "#### 1.4.1. $T_1(x_1, y_1) + T_2(x_2, y_2)$"
   ]
  },
  {
   "cell_type": "code",
   "execution_count": null,
   "metadata": {},
   "outputs": [],
   "source": [
    "r = np.add(a, b)\n",
    "print('* when a={}, b={}, then \"np.add(a, b)\" is: {}'.format(a, b, ndarray_to_str(r)))"
   ]
  },
  {
   "cell_type": "markdown",
   "metadata": {},
   "source": [
    "#### 1.4.2. $T_1(x_1, y_1) - T_2(x_2, y_2)$"
   ]
  },
  {
   "cell_type": "code",
   "execution_count": null,
   "metadata": {},
   "outputs": [],
   "source": [
    "r = np.subtract(a, b)\n",
    "print('* when a={}, b={}, then \"np.subtract(a, b)\" is {}'.format(a, b, ndarray_to_str(r)))"
   ]
  },
  {
   "cell_type": "markdown",
   "metadata": {},
   "source": [
    "#### 1.4.1. $T_1(x_1, y_1) * T_2(x_2, y_2)$"
   ]
  },
  {
   "cell_type": "code",
   "execution_count": null,
   "metadata": {},
   "outputs": [],
   "source": [
    "r = np.multiply(a, b)\n",
    "print('* when a={}, b={}, then \"np.multiply(a, b)\" is {}'.format(a, b, ndarray_to_str(r)))"
   ]
  },
  {
   "cell_type": "markdown",
   "metadata": {},
   "source": [
    "#### 1.4.1. $T_1(x_1, y_1) ÷ T_2(x_2, y_2)$"
   ]
  },
  {
   "cell_type": "code",
   "execution_count": null,
   "metadata": {},
   "outputs": [],
   "source": [
    "r = np.divide(a, b)\n",
    "print('* when a={}, b={}, then \"np.divide(a, b)\" is {}'.format(a, b, ndarray_to_str(r)))"
   ]
  },
  {
   "cell_type": "markdown",
   "metadata": {},
   "source": [
    "#### 1.4.1. $T_1(x_1, y_1) \\% T_2(x_2, y_2)$"
   ]
  },
  {
   "cell_type": "code",
   "execution_count": null,
   "metadata": {},
   "outputs": [],
   "source": [
    "r = np.mod(a, b)\n",
    "print('* when a={}, b={}, then \"np.mod(a, b)\" is {}'.format(a,b,ndarray_to_str(r)))"
   ]
  },
  {
   "cell_type": "markdown",
   "metadata": {},
   "source": [
    "### 1.5. Operator overriade"
   ]
  },
  {
   "cell_type": "code",
   "execution_count": null,
   "metadata": {},
   "outputs": [],
   "source": [
    "a = np.array([[1, 2, 3], [4, 5, 6]])\n",
    "b = np.array([[0.1, 0.2, 0.3], [0.4, 0.5, 0.6]])\n",
    "print('* when a is {}\\n and b is {}'.format(ndarray_to_str(a), ndarray_to_str(b)))\n",
    "\n",
    "r = a + b\n",
    "print('\\n* then \"a + b\" is {}'.format(ndarray_to_str(r)))\n",
    "\n",
    "r = a - b\n",
    "print('  and \"a - b\" is {}'.format(ndarray_to_str(r)))\n",
    "\n",
    "r = a * b\n",
    "print('  and \"a * b\" is {}'.format(ndarray_to_str(r)))\n",
    "\n",
    "r = a / b\n",
    "print('  and \"a / b\" is {}'.format(ndarray_to_str(r)))\n",
    "\n",
    "r = a % b\n",
    "print('  and \"a % b\" is {}'.format(ndarray_to_str(r)))"
   ]
  },
  {
   "cell_type": "markdown",
   "metadata": {},
   "source": [
    "## 2. Broadcast"
   ]
  },
  {
   "cell_type": "code",
   "execution_count": null,
   "metadata": {},
   "outputs": [],
   "source": [
    "from itertools import repeat\n",
    "\n",
    "shape = (4, 3, 2)\n",
    "a = make_array_by_shape(shape)\n",
    "\n",
    "for s in [(4, 3, 2), (1, 3, 2), (3, 2), (2,), (4, 3), (4, 2, 3)]:\n",
    "    b = make_array_by_shape(s2, inital=10)\n",
    "    try:\n",
    "        t = a + b\n",
    "        print('* shapes {} and {} can be evaluated, '\n",
    "              'and answer shape is {}'.format(a.shape, b.shape, t.shape))\n",
    "    except Exception as e:\n",
    "        print('* E: {}'.format(e))"
   ]
  },
  {
   "cell_type": "markdown",
   "metadata": {},
   "source": [
    "### 3. Dot product"
   ]
  },
  {
   "cell_type": "code",
   "execution_count": null,
   "metadata": {},
   "outputs": [],
   "source": [
    "from itertools import repeat\n",
    "\n",
    "shape = (4, 3, 2)\n",
    "a = make_array_by_shape(shape)\n",
    "print('* when a is:{}'.format(ndarray_to_str(a)))\n",
    "\n",
    "for s1, s2 in zip(repeat(shape1), [(2,), (2, 3), (5, 2, 3), (3,), (3, 4)]):\n",
    "    b = make_array_by_shape(s2, inital=10)\n",
    "    try:\n",
    "        t = np.dot(a, b)\n",
    "        print('\\n* if b is:{}\\n  then \"np.dot(a, b)\" is:{}'.format(ndarray_to_str(b), ndarray_to_str(t)))\n",
    "    except Exception as e:\n",
    "        print('* E: {}'.format(e))"
   ]
  },
  {
   "cell_type": "code",
   "execution_count": null,
   "metadata": {},
   "outputs": [],
   "source": []
  }
 ],
 "metadata": {
  "kernelspec": {
   "display_name": "Python 3",
   "language": "python",
   "name": "python3"
  },
  "language_info": {
   "codemirror_mode": {
    "name": "ipython",
    "version": 3
   },
   "file_extension": ".py",
   "mimetype": "text/x-python",
   "name": "python",
   "nbconvert_exporter": "python",
   "pygments_lexer": "ipython3",
   "version": "3.8.2"
  }
 },
 "nbformat": 4,
 "nbformat_minor": 4
}
