{
 "cells": [
  {
   "cell_type": "markdown",
   "metadata": {},
   "source": [
    "# Category"
   ]
  },
  {
   "cell_type": "code",
   "execution_count": null,
   "metadata": {},
   "outputs": [],
   "source": [
    "from __future__ import absolute_import, division, print_function, unicode_literals\n",
    "\n",
    "import pandas as pd\n",
    "import numpy as np\n",
    "import xarray as xr\n",
    "\n",
    "def show_component(cmp):\n",
    "    s = '\\n{}'.format(cmp)\n",
    "    return s.replace('\\n', '\\n\\t')\n",
    "\n",
    "def show_df(df):\n",
    "    from IPython.display import display, HTML\n",
    "    html = '<div style=\"margin-left:55px\">{}</div>'.format(df.to_html())\n",
    "    display(HTML(html))"
   ]
  },
  {
   "cell_type": "markdown",
   "metadata": {},
   "source": [
    "## 创建分类对象"
   ]
  },
  {
   "cell_type": "markdown",
   "metadata": {},
   "source": [
    "### 创建具备类别的列集"
   ]
  },
  {
   "cell_type": "markdown",
   "metadata": {},
   "source": [
    "#### 创建 Series 对象时指定为分类类型"
   ]
  },
  {
   "cell_type": "code",
   "execution_count": null,
   "metadata": {},
   "outputs": [],
   "source": [
    "s = pd.Series(['a', 'b', 'c', 'a'], dtype='category')\n",
    "print('* series is: {}'.format(show_component(s)))"
   ]
  },
  {
   "cell_type": "markdown",
   "metadata": {},
   "source": [
    "#### 分类对象"
   ]
  },
  {
   "cell_type": "markdown",
   "metadata": {},
   "source": [
    "- 根据数据自动分类"
   ]
  },
  {
   "cell_type": "code",
   "execution_count": null,
   "metadata": {},
   "outputs": [],
   "source": [
    "c = pd.Categorical(['a', 'b', 'c', 'a'])\n",
    "print('* category is: {}'.format(show_component(c)))"
   ]
  },
  {
   "cell_type": "markdown",
   "metadata": {},
   "source": [
    "- 指定分类\n",
    "    - `ordered` 参数定义分类是否有序（即另分类原本顺序为大小顺序）"
   ]
  },
  {
   "cell_type": "code",
   "execution_count": null,
   "metadata": {},
   "outputs": [],
   "source": [
    "data = ['a', 'b', 'c', 'a', 'b', 'c', 'd', 'b', 'c', 'a']\n",
    "category = ['a', 'c', 'b']\n",
    "\n",
    "c = pd.Categorical(data, categories=category, ordered=True)\n",
    "print('* category is: {}'.format(show_component(c)))"
   ]
  },
  {
   "cell_type": "markdown",
   "metadata": {},
   "source": [
    "- 创建列集"
   ]
  },
  {
   "cell_type": "code",
   "execution_count": null,
   "metadata": {},
   "outputs": [],
   "source": [
    "s = pd.Series(c)\n",
    "print('* series is: {}'.format(show_component(s)))"
   ]
  },
  {
   "cell_type": "markdown",
   "metadata": {},
   "source": [
    "### 在 DataFrame 中包含分类列\n",
    "\n",
    "- 即在`DataFrame`中包含`dtype`为`category`的列或类型为`Categorical`的列"
   ]
  },
  {
   "cell_type": "markdown",
   "metadata": {},
   "source": [
    "#### DataFrame 包含不同类型列时产生“描述”的差异"
   ]
  },
  {
   "cell_type": "code",
   "execution_count": null,
   "metadata": {},
   "outputs": [],
   "source": [
    "rows = 6\n",
    "categories = ['test', 'train']\n",
    "\n",
    "df = pd.DataFrame({\n",
    "    'A': pd.Categorical(np.tile(categories, reps=rows//2), categories=categories, ordered=True)\n",
    "}, index=[chr(0x61 + n) for n in range(rows)])\n",
    "\n",
    "print('* when data frame “df” is:')\n",
    "show_df(df)\n",
    "\n",
    "summary = df.describe()\n",
    "print('  then \"df.describe()\" is: {}'.format(show_component(summary)))\n",
    "\n",
    "summary = df['A'].describe()\n",
    "print('\\n  and \"df[\\'A\\'].describe()\" is: {}'.format(show_component(summary)))\n",
    "\n",
    "df['B'] = ['a', 'b', 'a', 'b', 'c', 'a']\n",
    "print('\\n* when data frame “df” is:')\n",
    "show_df(df)\n",
    "\n",
    "summary = df.describe()\n",
    "print('  then \"df.describe()\" is: {}'.format(show_component(summary)))\n",
    "\n",
    "summary = df['B'].describe()\n",
    "print('\\n  and \"df[\\'B\\'].describe()\" is: {}'.format(show_component(summary)))\n",
    "\n",
    "df['C'] = np.random.uniform(low=0, high=1, size=rows)\n",
    "print('\\n* when data frame “df” is:')\n",
    "show_df(df)\n",
    "\n",
    "summary = df.describe()\n",
    "print('  then \"df.describe()\" is: {}'.format(show_component(summary)))\n",
    "\n",
    "summary = df['C'].describe()\n",
    "print('\\n  and \"df[\\'C\\'].describe()\" is: {}'.format(show_component(summary)))"
   ]
  },
  {
   "cell_type": "markdown",
   "metadata": {},
   "source": [
    "### 利用分类约束数据"
   ]
  },
  {
   "cell_type": "code",
   "execution_count": null,
   "metadata": {},
   "outputs": [],
   "source": [
    "df = pd.DataFrame({\n",
    "    'A': ['Alvin', 'Lily', 'Lucy'],\n",
    "    'B': pd.Categorical(['M', 'F', 'F'])\n",
    "})\n",
    "\n",
    "# rows = pd.DataFrame([\n",
    "#     ['Tom', 'M'],\n",
    "#     ['Author', 'X']\n",
    "# ], columns=['A', 'B'])\n",
    "\n",
    "df.loc[3] = ['Tom', 'M']\n",
    "df"
   ]
  },
  {
   "cell_type": "markdown",
   "metadata": {},
   "source": []
  },
  {
   "cell_type": "code",
   "execution_count": null,
   "metadata": {},
   "outputs": [],
   "source": []
  },
  {
   "cell_type": "code",
   "execution_count": null,
   "metadata": {},
   "outputs": [],
   "source": []
  }
 ],
 "metadata": {
  "kernelspec": {
   "display_name": "Python 3",
   "language": "python",
   "name": "python3"
  },
  "language_info": {
   "codemirror_mode": {
    "name": "ipython",
    "version": 3
   },
   "file_extension": ".py",
   "mimetype": "text/x-python",
   "name": "python",
   "nbconvert_exporter": "python",
   "pygments_lexer": "ipython3",
   "version": "3.7.2"
  }
 },
 "nbformat": 4,
 "nbformat_minor": 4
}
